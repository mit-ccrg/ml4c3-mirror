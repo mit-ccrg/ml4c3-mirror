{
 "cells": [
  {
   "cell_type": "code",
   "execution_count": null,
   "metadata": {},
   "outputs": [],
   "source": [
    "# Downgrade jedi so tab autocomplete works\n",
    "! pip install jedi==0.17.2"
   ]
  },
  {
   "cell_type": "code",
   "execution_count": null,
   "metadata": {},
   "outputs": [],
   "source": [
    "import os\n",
    "import csv\n",
    "import numpy as np\n",
    "import pandas as pd\n",
    "import seaborn as sns\n",
    "import matplotlib.pyplot as plt\n",
    "from scipy import stats\n",
    "%matplotlib inline"
   ]
  },
  {
   "cell_type": "code",
   "execution_count": null,
   "metadata": {},
   "outputs": [],
   "source": [
    "# Plot and global settings\n",
    "sns.set_style(\"whitegrid\")\n",
    "sns.set_context(\"talk\")\n",
    "num_bootstraps = 10\n",
    "font_size_txt_on_plot = 16\n",
    "font_size_asterisk_on_plot = 20\n",
    "image_ext = \".eps\"\n",
    "palette = sns.color_palette(\"pastel\")"
   ]
  },
  {
   "cell_type": "code",
   "execution_count": null,
   "metadata": {},
   "outputs": [],
   "source": [
    "# Get today's date\n",
    "from datetime import date\n",
    "today = date.today().strftime(\"%Y-%m-%d\")\n",
    "print(today)"
   ]
  },
  {
   "cell_type": "code",
   "execution_count": null,
   "metadata": {},
   "outputs": [],
   "source": [
    "# Calculate mean AUC across bootstraps for each model\n",
    "def _mean_aucs(aucs: pd.DataFrame):\n",
    "    means = {}\n",
    "    for model in aucs[\"model\"].unique():\n",
    "        means[model] = np.mean(aucs[aucs[\"model\"] == model][\"auc\"])\n",
    "    return means\n",
    "\n",
    "# \n",
    "def pad_with_leading_zeros(num: int, leading_zeros: int=3):\n",
    "    return \"{:03d}\".format(num)"
   ]
  },
  {
   "cell_type": "code",
   "execution_count": null,
   "metadata": {},
   "outputs": [],
   "source": [
    "# Plot mean AUC +/- std for each model\n",
    "def box_plot_aucs(\n",
    "    model_names: list,\n",
    "    aucs: pd.DataFrame,\n",
    "    y_min: float = 0.7,\n",
    "    y_max: float = 0.95,\n",
    "    x_tick_labels: list = [],\n",
    "    x_label: str = None,\n",
    "    plot_title: str = None,\n",
    "    fpath: str = None,\n",
    "    palette = None):\n",
    "    \n",
    "    # Isolate subset of data\n",
    "    aucs_to_plot = aucs[aucs['model'].isin(models)]\n",
    "    \n",
    "    if palette is None:\n",
    "        palette = sns.color_palette(\"pastel\")\n",
    "    \n",
    "    y_delta = 0.1\n",
    "    \n",
    "#     stats = {model: {'aucs': [], 'mean': 0, 'std': 0} for model in model_names}\n",
    "#     means = [np.nanmean(aucs[model]) for model in model_names]\n",
    "#     stds = [np.nanstd(aucs[model]) for model in model_names]\n",
    "\n",
    "    max_chars_model_name = np.max([len(m) for m in model_names])\n",
    "    fig_width = 1 + len(model_names) * 1\n",
    "    fig_height = max_chars_model_name / 5 + fig_width / 5\n",
    "    fig, ax = plt.subplots(figsize=(fig_width, fig_height))\n",
    "\n",
    "    #     bar = sns.barplot(x=x_pos, y=means, yerr=stds, palette=palette)\n",
    "    \n",
    "    bar = sns.boxplot(x=\"model\", y=\"auc\", data=aucs_to_plot, palette=palette)\n",
    "    ax.set_ylabel('AUC')\n",
    "    ax.set_ylim([y_min, y_max])\n",
    "    ax.set_yticks(np.arange(y_min, y_max+0.01, y_delta))\n",
    "    \n",
    "    ax.set_xticks(range(len(model_names)))\n",
    "    ax.set_xticklabels(model_names if len(x_tick_labels) == 0 else x_tick_labels)\n",
    "   \n",
    "    if plot_title is not None:\n",
    "        ax.set_title(plot_title)\n",
    "        \n",
    "    ax.set_xlabel(None)\n",
    "    \n",
    "#     # Indicate significance for each column\n",
    "#     for i, patch in enumerate(ax.patches):\n",
    "#         y_height = means[i] + stds[i]\n",
    "#         sig_txt = \"*\" if pvals[i] < 0.05 else None\n",
    "#         ax.text(patch.get_x() + patch.get_width() / 2,\n",
    "#                 means[i] + stds[i],\n",
    "#                 s=sig_txt,\n",
    "#                 ha='center',\n",
    "#                 fontsize=font_size_asterisk_on_plot,\n",
    "#         )\n",
    "\n",
    "    means = _mean_aucs(aucs)\n",
    "    offset = -0.25\n",
    "    x_pos = np.arange(len(model_names))\n",
    "    for i in range(len(model_names)):\n",
    "        plt.text(\n",
    "            x_pos[i]+offset,\n",
    "            0.95,\n",
    "            f'{means[model_names[i]]:0.2f}',\n",
    "            fontsize=font_size_txt_on_plot,\n",
    "        )\n",
    "\n",
    "    plt.xticks(rotation=90)\n",
    "    plt.tight_layout()\n",
    "    \n",
    "    if fpath is not None:\n",
    "        plt.savefig(fpath, dpi=300)\n",
    "        print(f\"Saved {fpath}\")\n",
    "\n",
    "    return ax"
   ]
  },
  {
   "cell_type": "code",
   "execution_count": null,
   "metadata": {},
   "outputs": [],
   "source": [
    "def get_same_number_of_aucs(aucs1: list, aucs2: list) -> tuple:\n",
    "    # Remove NaNs\n",
    "    aucs1 = [auc for auc in aucs1 if auc == auc]\n",
    "    aucs2 = [auc for auc in aucs2 if auc == auc]\n",
    "    \n",
    "    # Determine length of shorter list\n",
    "    max_len = min(len(aucs1), len(aucs2))\n",
    "    max_idx = max_len - 1\n",
    "    \n",
    "    # Return the first max_len values of each list\n",
    "    return aucs1[:max_idx], aucs2[:max_idx]"
   ]
  },
  {
   "cell_type": "code",
   "execution_count": null,
   "metadata": {},
   "outputs": [],
   "source": [
    "print(\"All functions initialized\")"
   ]
  },
  {
   "cell_type": "markdown",
   "metadata": {},
   "source": [
    "## Set paths and create dirs"
   ]
  },
  {
   "cell_type": "code",
   "execution_count": null,
   "metadata": {},
   "outputs": [],
   "source": [
    "root = os.path.expanduser(\"~/dropbox/ecgnet-sts\")\n",
    "print(f\"Set root path to: {root}\")\n",
    "\n",
    "dirpath_figures = os.path.join(root, \"figures-and-tables\")\n",
    "if not os.path.isdir(dirpath_figures):\n",
    "    os.mkdir(dirpath_figures)\n",
    "print(f\"Set figures path to: {dirpath_figures}\")\n",
    "    \n",
    "dirpath_auc_spreadsheets = os.path.join(root, \"auc-spreadsheets\")\n",
    "print(f\"Set directory path to AUC CSVs to: {dirpath_auc_spreadsheets}\")"
   ]
  },
  {
   "cell_type": "markdown",
   "metadata": {},
   "source": [
    "## Load CSVs and concatenate horizontally into one wide dataframe"
   ]
  },
  {
   "cell_type": "code",
   "execution_count": null,
   "metadata": {},
   "outputs": [],
   "source": [
    "csv_filenames = [\n",
    "    \"ecgnet-sts-results\"\n",
    "]\n",
    "df = pd.DataFrame()\n",
    "for csv_filename in csv_filenames:\n",
    "    fpath = os.path.join(dirpath_auc_spreadsheets, f\"{csv_filename}.csv\")\n",
    "    df_ = pd.read_csv(fpath, low_memory=False, index_col=0)\n",
    "    df = pd.concat([df, df_], axis=1)\n",
    "\n",
    "df.rename(columns={'Unnamed: 0':'parameter'}, inplace=True)\n",
    "\n",
    "print(f\"DataFrame generated with shape {df.shape}\")"
   ]
  },
  {
   "cell_type": "markdown",
   "metadata": {},
   "source": [
    "## Format AUCs from dataframe\n",
    "1. Isolate just bootstrap AUCs\n",
    "2. Unpivot  from wide to long format\n",
    "3. Drop NaNs\n",
    "4. Cast AUCs to floats"
   ]
  },
  {
   "cell_type": "code",
   "execution_count": null,
   "metadata": {},
   "outputs": [],
   "source": [
    "aucs = df.loc[[str(bootstrap) for bootstrap in range(1, num_bootstraps)]]\n",
    "aucs = aucs.melt(var_name=\"model\", value_name=\"auc\")\n",
    "aucs.dropna(inplace=True)\n",
    "aucs[\"auc\"] = aucs[\"auc\"].astype(float)"
   ]
  },
  {
   "cell_type": "code",
   "execution_count": null,
   "metadata": {},
   "outputs": [],
   "source": [
    "# pvals = []\n",
    "# for model in models:   \n",
    "#     aucs1, aucs2 = get_same_number_of_aucs(\n",
    "#         aucs1=aucs[models[0]],\n",
    "#         aucs2=aucs[model],\n",
    "#     )\n",
    "#     _, pval = stats.ttest_rel(aucs1, aucs2)\n",
    "#     pvals.append(pval)"
   ]
  },
  {
   "cell_type": "markdown",
   "metadata": {},
   "source": [
    "## Generate box plots of AUCs"
   ]
  },
  {
   "cell_type": "code",
   "execution_count": null,
   "metadata": {},
   "outputs": [],
   "source": [
    "models = [f\"mlp-v{pad_with_leading_zeros(num=i, leading_zeros=3)}-age-sex-metadata\" for i in range(1, 9)]\n",
    "model_names = [f\"v{pad_with_leading_zeros(num=i, leading_zeros=3)}\" for i in range(1, 9)]\n",
    "    \n",
    "box_plot_aucs(\n",
    "    model_names=models,\n",
    "    aucs=aucs,\n",
    "    y_min=0.5,\n",
    "    y_max=1.0,\n",
    "    plot_title=f\"MLP: age, sex, metadata\",\n",
    "    x_tick_labels=model_names,\n",
    "    palette=palette,\n",
    "    fpath=os.path.join(dirpath_figures, f\"{today}-mlp-age-sex-metadata{image_ext}\"),\n",
    ")"
   ]
  },
  {
   "cell_type": "code",
   "execution_count": null,
   "metadata": {},
   "outputs": [],
   "source": [
    "models = [f\"ecgnet-v{pad_with_leading_zeros(num=i, leading_zeros=3)}\" for i in range(1, 19)]\n",
    "model_names = [f\"v{pad_with_leading_zeros(num=i, leading_zeros=3)}\" for i in range(1, 19)]\n",
    "    \n",
    "box_plot_aucs(\n",
    "    model_names=models,\n",
    "    aucs=aucs,\n",
    "    y_min=0.5,\n",
    "    y_max=1.0,\n",
    "    plot_title=f\"ECGNet: voltage\",\n",
    "    x_tick_labels=model_names,\n",
    "    palette=palette,\n",
    "    fpath=os.path.join(dirpath_figures, f\"{today}-ecgnet{image_ext}\"),\n",
    ")"
   ]
  },
  {
   "cell_type": "code",
   "execution_count": null,
   "metadata": {},
   "outputs": [],
   "source": [
    "models = [f\"resnet-v{pad_with_leading_zeros(num=i, leading_zeros=3)}\" for i in range(1, 12)]\n",
    "model_names = [f\"v{pad_with_leading_zeros(num=i, leading_zeros=3)}\" for i in range(1, 12)]\n",
    "\n",
    "box_plot_aucs(\n",
    "    model_names=models,\n",
    "    aucs=aucs,\n",
    "    y_min=0.5,\n",
    "    y_max=1.0,\n",
    "    plot_title=f\"ResNet: voltage\",\n",
    "    x_tick_labels=model_names,\n",
    "    palette=palette,\n",
    "    fpath=os.path.join(dirpath_figures, f\"{today}-resnet{image_ext}\"),\n",
    ")"
   ]
  },
  {
   "cell_type": "code",
   "execution_count": null,
   "metadata": {},
   "outputs": [],
   "source": [
    "# ecgnet with age, sex, and metadata too\n",
    "import re\n",
    "\n",
    "models = [m for m in aucs[\"model\"] if (m.endswith(\"-age-sex-metadata\") and m.startswith(\"ecgnet-\"))]\n",
    "models = list(np.unique(np.array(models)))\n",
    "\n",
    "regex = \"ecgnet-(.*)-age-sex-metadata\"\n",
    "x_tick_labels = [re.search(regex, m).group(1) for m in models]\n",
    "\n",
    "box_plot_aucs(\n",
    "    model_names=models,\n",
    "    aucs=aucs,\n",
    "    y_min=0.5,\n",
    "    y_max=1.0,\n",
    "    plot_title=f\"ECGNet: voltage, age, sex, and metadata\",\n",
    "    x_tick_labels=x_tick_labels,\n",
    "    palette=palette,\n",
    "    fpath=os.path.join(dirpath_figures, f\"{today}-ecgnet-age-sex-metadata{image_ext}\"),\n",
    ")"
   ]
  },
  {
   "cell_type": "code",
   "execution_count": null,
   "metadata": {},
   "outputs": [],
   "source": [
    "models = [\n",
    "    \"mlp-v002-age-sex-metadata\",\n",
    "    \"mlp-v001-sts-features\",\n",
    "    \"ecgnet-v011\",\n",
    "    \"ecgnet-v018-age-sex-metadata\",\n",
    "    \"ecgnet-v001-sts-features\",\n",
    "    \"resnet-v001\",\n",
    "    \"resnet-v001-age-sex-metadata\",\n",
    "    \"resnet-v001-sts-features\",\n",
    "]\n",
    "    \n",
    "box_plot_aucs(\n",
    "    model_names=models,\n",
    "    aucs=aucs,\n",
    "    y_min=0.5,\n",
    "    y_max=1.0,\n",
    "    plot_title=f\"Model comparison\",\n",
    "    x_tick_labels=[\n",
    "        \"MLP age, sex, metadata\",\n",
    "        \"MLP STS features\",\n",
    "        \"ECGNet voltage\",\n",
    "        \"ECGNet voltage, age, sex, metadata\",\n",
    "        \"ECGNet voltage, STS features\",\n",
    "        \"ResNet voltage\",\n",
    "        \"ResNet voltage, age, sex, metadata\",\n",
    "        \"ResNet voltage, STS features\",\n",
    "    ],\n",
    "    palette=palette,\n",
    "    fpath=os.path.join(dirpath_figures, f\"{today}-compare-models{image_ext}\"),\n",
    ")"
   ]
  }
 ],
 "metadata": {
  "kernelspec": {
   "display_name": "Python 3",
   "language": "python",
   "name": "python3"
  },
  "language_info": {
   "codemirror_mode": {
    "name": "ipython",
    "version": 3
   },
   "file_extension": ".py",
   "mimetype": "text/x-python",
   "name": "python",
   "nbconvert_exporter": "python",
   "pygments_lexer": "ipython3",
   "version": "3.8.0"
  }
 },
 "nbformat": 4,
 "nbformat_minor": 4
}
