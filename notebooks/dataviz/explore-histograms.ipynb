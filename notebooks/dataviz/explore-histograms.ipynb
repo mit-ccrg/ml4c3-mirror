{
 "cells": [
  {
   "cell_type": "code",
   "execution_count": null,
   "metadata": {},
   "outputs": [],
   "source": [
    "! pip install ~/ml4c3\n",
    "\n",
    "import os\n",
    "import numpy as np\n",
    "import pandas as pd\n",
    "import seaborn as sns\n",
    "import matplotlib.pyplot as plt\n",
    "from ml4c3.plots import plot_histogram_continuous_tensor\n",
    "\n",
    "%matplotlib inline"
   ]
  },
  {
   "cell_type": "code",
   "execution_count": null,
   "metadata": {},
   "outputs": [],
   "source": [
    "# Plot and global settings\n",
    "sns.set_style(\"whitegrid\")\n",
    "sns.set_context(\"talk\")\n",
    "num_bootstraps = 10\n",
    "font_size_txt_on_plot = 16\n",
    "font_size_asterisk_on_plot = 20\n",
    "image_ext = \".eps\"\n",
    "palette = sns.color_palette(\"pastel\")"
   ]
  },
  {
   "cell_type": "code",
   "execution_count": null,
   "metadata": {},
   "outputs": [],
   "source": [
    "def rand_bin_array(n, k):\n",
    "    arr = np.zeros(n)\n",
    "    arr[:k]  = 1\n",
    "    np.random.shuffle(arr)\n",
    "    return arr"
   ]
  },
  {
   "cell_type": "code",
   "execution_count": null,
   "metadata": {},
   "outputs": [],
   "source": [
    "data = {}\n",
    "n = 9999\n",
    "data['hr'] = np.random.normal(0, size=n)\n",
    "data['death'] = rand_bin_array(n=n, k = int(0.05*n))\n",
    "df = pd.DataFrame(data)\n",
    "df.loc[(df['death'] == 1, ['hr'])] += 1.5"
   ]
  },
  {
   "cell_type": "code",
   "execution_count": null,
   "metadata": {},
   "outputs": [],
   "source": [
    "plot_histogram_continuous_tensor(\n",
    "    tmap_name=\"hr\",\n",
    "    df=df,\n",
    "    output_folder=os.path.expanduser(\"~\"),\n",
    "    window=\"all\",\n",
    "    stratify_label=\"death\",\n",
    "    image_ext=\".png\"\n",
    ")"
   ]
  }
 ],
 "metadata": {
  "kernelspec": {
   "display_name": "Python 3",
   "language": "python",
   "name": "python3"
  },
  "language_info": {
   "codemirror_mode": {
    "name": "ipython",
    "version": 3
   },
   "file_extension": ".py",
   "mimetype": "text/x-python",
   "name": "python",
   "nbconvert_exporter": "python",
   "pygments_lexer": "ipython3",
   "version": "3.8.0"
  },
  "toc-autonumbering": true,
  "toc-showcode": true,
  "toc-showmarkdowntxt": true
 },
 "nbformat": 4,
 "nbformat_minor": 4
}
