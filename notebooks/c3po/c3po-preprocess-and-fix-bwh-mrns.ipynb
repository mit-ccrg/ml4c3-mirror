{
 "cells": [
  {
   "cell_type": "code",
   "execution_count": null,
   "metadata": {},
   "outputs": [],
   "source": [
    "import numpy as np\n",
    "import pandas as pd\n",
    "import seaborn as sns\n",
    "import matplotlib.pyplot as plt\n",
    "\n",
    "from tqdm import tqdm\n",
    "from datetime import date\n",
    "from dateutil.relativedelta import relativedelta\n",
    "\n",
    "sns.set_context(\"talk\")\n",
    "%matplotlib inline"
   ]
  },
  {
   "cell_type": "code",
   "execution_count": null,
   "metadata": {},
   "outputs": [],
   "source": [
    "path = \"/home/erik/dropbox/c3po/c3po-raw.csv\""
   ]
  },
  {
   "cell_type": "code",
   "execution_count": null,
   "metadata": {},
   "outputs": [],
   "source": [
    "df = pd.read_csv(path, parse_dates=[\"birth_date\", \"death_date\"])"
   ]
  },
  {
   "cell_type": "code",
   "execution_count": null,
   "metadata": {},
   "outputs": [],
   "source": [
    "# Lowercase the column names\n",
    "df.columns = [col.lower() for col in df.columns]"
   ]
  },
  {
   "cell_type": "code",
   "execution_count": null,
   "metadata": {},
   "outputs": [],
   "source": [
    "df"
   ]
  },
  {
   "cell_type": "markdown",
   "metadata": {},
   "source": [
    "## Plot distribution of ages"
   ]
  },
  {
   "cell_type": "code",
   "execution_count": null,
   "metadata": {},
   "outputs": [],
   "source": [
    "# def get_age(birth_date):\n",
    "#     return relativedelta(date.today(), birth_date).years\n",
    "\n",
    "# def get_age_at_death(birth_date, death_date):\n",
    "#     if pd.isnull(death_date):\n",
    "#         return pd.NaT\n",
    "#     return relativedelta(death_date, birth_date).years\n",
    "\n",
    "# def get_age_alive(birth_date, death_date):\n",
    "#     if pd.isnull(death_date):\n",
    "#         return relativedelta(date.today(), birth_date).years"
   ]
  },
  {
   "cell_type": "code",
   "execution_count": null,
   "metadata": {},
   "outputs": [],
   "source": [
    "# ages = df.apply(lambda x: get_age(x[\"birth_date\"]), axis=1)\n",
    "\n",
    "# ages_died = df.apply(lambda x: get_age_at_death(x[\"birth_date\"], x[\"death_date\"]), axis=1)\n",
    "# ages_died.dropna(inplace=True)\n",
    "\n",
    "# ages_lived = df.apply(lambda x: get_age_alive(x[\"birth_date\"], x[\"death_date\"]), axis=1)\n",
    "# ages_lived.dropna(inplace=True)"
   ]
  },
  {
   "cell_type": "code",
   "execution_count": null,
   "metadata": {},
   "outputs": [],
   "source": [
    "# n_all = ages.shape[0]\n",
    "# n_lived = ages_lived.shape[0]\n",
    "# pct_lived = n_lived / n_all * 100\n",
    "# n_died = ages_died.shape[0]\n",
    "# pct_died = n_died / n_all * 100"
   ]
  },
  {
   "cell_type": "code",
   "execution_count": null,
   "metadata": {},
   "outputs": [],
   "source": [
    "# fig, ax = plt.subplots(3, 1, figsize=(8, 8))\n",
    "# i=0\n",
    "# sns.histplot(data=ages_lived, bins=30, stat=\"density\", ax=ax[i], color=sns.color_palette(\"pastel\")[2])\n",
    "# ax[i].set_title(f\"Lived; n={n_lived} ({pct_lived:.0f}%)\")\n",
    "\n",
    "# i=1\n",
    "# sns.histplot(data=ages_died, bins=30, stat=\"density\",  ax=ax[i], color=sns.color_palette(\"pastel\")[1])\n",
    "# ax[i].set_title(f\"Died; n={n_died} ({pct_died:.0f}%)\")\n",
    "\n",
    "# i=2\n",
    "# sns.histplot(data=ages, bins=30, stat=\"density\",       ax=ax[i], color=sns.color_palette(\"pastel\")[0])\n",
    "# ax[i].set_title(f\"All; n={n_all} (100%)\")\n",
    "\n",
    "# ax[i].set(xlabel=\"Age (yrs)\")\n",
    "\n",
    "# fig.tight_layout()\n",
    "\n",
    "# plt.savefig(\"/home/erik/dropbox/c3po/histogram-ages.eps\", bbox_inches=\"tight\")"
   ]
  },
  {
   "cell_type": "markdown",
   "metadata": {},
   "source": [
    "## Merge BWH and MGH MRNs into single column"
   ]
  },
  {
   "cell_type": "code",
   "execution_count": null,
   "metadata": {},
   "outputs": [],
   "source": [
    "# The largest MRNs are from BWH which can be up to 8 digits (e.g. 99M)\n",
    "# Hence the delta must be 100M as to not alter the actual BWH MRN\n",
    "\n",
    "df['mrn'] = df['mgh_mrn']\n",
    "\n",
    "df2 = df.copy()\n",
    "df2['mrn'] = df2['bwh_mrn'] + 100000000\n",
    "\n",
    "df_new = pd.concat([df, df2])\n",
    "\n",
    "df_new.drop(columns=['bwh_mrn', 'mgh_mrn'], inplace=True)\n",
    "df_new.sort_values(by=['id'], inplace=True)\n",
    "df_new.dropna(subset=['mrn'], inplace=True)\n",
    "df_new.reset_index(inplace=True, drop=True)"
   ]
  },
  {
   "cell_type": "code",
   "execution_count": null,
   "metadata": {},
   "outputs": [],
   "source": [
    "df_new"
   ]
  },
  {
   "cell_type": "code",
   "execution_count": null,
   "metadata": {},
   "outputs": [],
   "source": [
    "path = \"/home/erik/dropbox/c3po/c3po.csv\"\n",
    "df_new.to_csv(path, index=False)"
   ]
  }
 ],
 "metadata": {
  "kernelspec": {
   "display_name": "Python 3",
   "language": "python",
   "name": "python3"
  },
  "language_info": {
   "codemirror_mode": {
    "name": "ipython",
    "version": 3
   },
   "file_extension": ".py",
   "mimetype": "text/x-python",
   "name": "python",
   "nbconvert_exporter": "python",
   "pygments_lexer": "ipython3",
   "version": "3.8.0"
  }
 },
 "nbformat": 4,
 "nbformat_minor": 4
}
