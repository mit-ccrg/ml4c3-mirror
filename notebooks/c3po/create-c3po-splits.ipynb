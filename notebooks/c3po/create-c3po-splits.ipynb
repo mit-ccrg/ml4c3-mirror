{
 "cells": [
  {
   "cell_type": "code",
   "execution_count": null,
   "metadata": {},
   "outputs": [],
   "source": [
    "import os\n",
    "import numpy\n",
    "import pandas as pd"
   ]
  },
  {
   "cell_type": "code",
   "execution_count": null,
   "metadata": {},
   "outputs": [],
   "source": [
    "train_ratio = 0.7\n",
    "valid_ratio = 0.2\n",
    "test_ratio = 0.1"
   ]
  },
  {
   "cell_type": "code",
   "execution_count": null,
   "metadata": {},
   "outputs": [],
   "source": [
    "mgh_mrns = list(map(lambda filename: filename[:-4], os.listdir('/storage/shared/ecg/mgh')))\n",
    "bwh_mrns = list(map(lambda filename: filename[:-4], os.listdir('/storage/shared/ecg/bwh')))\n",
    "\n",
    "if 'bad_mrn' in mgh_mrns:\n",
    "    mgh_mrns.remove('bad_mrn')\n",
    "if 'bad_mrn' in bwh_mrns:\n",
    "    bwh_mrns.remove('bad_mrn')\n",
    "\n",
    "mgh_mrns = list(map(int, mgh_mrns))\n",
    "bwh_mrns = list(map(int, bwh_mrns))\n",
    "\n",
    "ecg_mrns = set(mgh_mrns) | set(bwh_mrns)"
   ]
  },
  {
   "cell_type": "code",
   "execution_count": null,
   "metadata": {},
   "outputs": [],
   "source": [
    "c3po = pd.read_csv('~/dropbox/c3po/c3po-formatted-mrn.csv')\n",
    "c3po_mrns = set(c3po['mrn'])"
   ]
  },
  {
   "cell_type": "code",
   "execution_count": null,
   "metadata": {},
   "outputs": [],
   "source": [
    "echo = set(pd.read_csv('~/dropbox/ecgnet-as/data/echo.csv')['mrn'])\n",
    "sts = set(pd.read_csv('~/dropbox/sts-data/sts-mgh.csv')['medrecn'])\n",
    "ici = set(pd.read_csv('~/dropbox/ecg-ici/data/ici.csv')['mgh_mrn'])\n",
    "mrns_to_remove = echo | sts | ici"
   ]
  },
  {
   "cell_type": "code",
   "execution_count": null,
   "metadata": {},
   "outputs": [],
   "source": [
    "overlapped = set(mgh_mrns) & set(bwh_mrns)"
   ]
  },
  {
   "cell_type": "code",
   "execution_count": null,
   "metadata": {},
   "outputs": [],
   "source": [
    "overlapped"
   ]
  },
  {
   "cell_type": "code",
   "execution_count": null,
   "metadata": {},
   "outputs": [],
   "source": [
    "mrns = (c3po_mrns & ecg_mrns) - mrns_to_remove"
   ]
  },
  {
   "cell_type": "code",
   "execution_count": null,
   "metadata": {},
   "outputs": [],
   "source": [
    "c3po = c3po[c3po['mrn'].isin(mrns)]"
   ]
  },
  {
   "cell_type": "code",
   "execution_count": null,
   "metadata": {},
   "outputs": [],
   "source": [
    "c3po_lived = c3po[c3po['death_date'].isnull()]\n",
    "c3po_died = c3po[~c3po['death_date'].isnull()]"
   ]
  },
  {
   "cell_type": "code",
   "execution_count": null,
   "metadata": {},
   "outputs": [],
   "source": [
    "c3po.sample(frac=1, random_state=0)\n",
    "\n",
    "l_tv_idx = int(train_ratio * len(c3po_lived))\n",
    "l_vt_idx = int((train_ratio + valid_ratio) * len(c3po_lived))\n",
    "\n",
    "d_tv_idx = int(train_ratio * len(c3po_died))\n",
    "d_vt_idx = int((train_ratio + valid_ratio) * len(c3po_died))\n",
    "\n",
    "train = pd.concat([c3po_lived[:l_tv_idx], c3po_died[:d_tv_idx]])\n",
    "valid = pd.concat([c3po_lived[l_tv_idx:l_vt_idx], c3po_died[d_tv_idx:d_vt_idx]])\n",
    "test = pd.concat([c3po_lived[l_vt_idx:], c3po_died[d_vt_idx:]])"
   ]
  },
  {
   "cell_type": "code",
   "execution_count": null,
   "metadata": {},
   "outputs": [],
   "source": [
    "train['death_date'].isnull().value_counts() / len(train)"
   ]
  },
  {
   "cell_type": "code",
   "execution_count": null,
   "metadata": {},
   "outputs": [],
   "source": [
    "valid['death_date'].isnull().value_counts() / len(valid)"
   ]
  },
  {
   "cell_type": "code",
   "execution_count": null,
   "metadata": {},
   "outputs": [],
   "source": [
    "test['death_date'].isnull().value_counts() / len(test)"
   ]
  },
  {
   "cell_type": "code",
   "execution_count": null,
   "metadata": {},
   "outputs": [],
   "source": [
    "train['mrn'].sample(frac=1, random_state=0).to_csv('~/dropbox/c3po/train.csv', index=False)\n",
    "valid['mrn'].sample(frac=1, random_state=0).to_csv('~/dropbox/c3po/valid.csv', index=False)\n",
    "test['mrn'].sample(frac=1, random_state=0).to_csv('~/dropbox/c3po/test.csv', index=False)"
   ]
  }
 ],
 "metadata": {
  "kernelspec": {
   "display_name": "Python 3",
   "language": "python",
   "name": "python3"
  },
  "language_info": {
   "codemirror_mode": {
    "name": "ipython",
    "version": 3
   },
   "file_extension": ".py",
   "mimetype": "text/x-python",
   "name": "python",
   "nbconvert_exporter": "python",
   "pygments_lexer": "ipython3",
   "version": "3.8.0"
  }
 },
 "nbformat": 4,
 "nbformat_minor": 4
}
