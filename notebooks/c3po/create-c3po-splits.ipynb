{
 "cells": [
  {
   "cell_type": "code",
   "execution_count": null,
   "metadata": {},
   "outputs": [],
   "source": [
    "import os\n",
    "import numpy\n",
    "import pandas as pd"
   ]
  },
  {
   "cell_type": "code",
   "execution_count": null,
   "metadata": {},
   "outputs": [],
   "source": [
    "train_ratio = 0.8\n",
    "valid_ratio = 0.1\n",
    "test_ratio = 0.1"
   ]
  },
  {
   "cell_type": "code",
   "execution_count": null,
   "metadata": {},
   "outputs": [],
   "source": [
    "mgh_mrns = list(map(lambda filename: filename[:-4], os.listdir('/storage/shared/ecg/mgh')))\n",
    "bwh_mrns = list(map(lambda filename: filename[:-4], os.listdir('/storage/shared/ecg/bwh')))\n",
    "\n",
    "if 'bad_mrn' in mgh_mrns:\n",
    "    mgh_mrns.remove('bad_mrn')\n",
    "if 'bad_mrn' in bwh_mrns:\n",
    "    bwh_mrns.remove('bad_mrn')\n",
    "\n",
    "mgh_mrns = list(map(int, mgh_mrns))\n",
    "bwh_mrns = list(map(int, bwh_mrns))\n",
    "\n",
    "ecg_mrns = set(mgh_mrns) | set(bwh_mrns)"
   ]
  },
  {
   "cell_type": "code",
   "execution_count": null,
   "metadata": {},
   "outputs": [],
   "source": [
    "c3po = pd.read_csv('~/dropbox/c3po-data/c3po-formatted-mrn.csv')\n",
    "c3po_mrns = set(c3po['mrn'])"
   ]
  },
  {
   "cell_type": "code",
   "execution_count": null,
   "metadata": {},
   "outputs": [],
   "source": [
    "# echo = set(pd.read_csv('~/dropbox/aortic-stenosis-data/echo.csv')['mrn'])\n",
    "sts = set(pd.read_csv('~/dropbox/sts-data/mgh.csv')['medrecn'])\n",
    "# ici = set(pd.read_csv('~/dropbox/ici-data/ici.csv')['mgh_mrn'])\n",
    "mrns_to_remove = sts # echo | sts | ici\n",
    "print(f\"mrns_to_remove: {len(mrns_to_remove)}\")"
   ]
  },
  {
   "cell_type": "code",
   "execution_count": null,
   "metadata": {},
   "outputs": [],
   "source": [
    "overlapped = set(mgh_mrns) & set(bwh_mrns)"
   ]
  },
  {
   "cell_type": "code",
   "execution_count": null,
   "metadata": {},
   "outputs": [],
   "source": [
    "overlapped"
   ]
  },
  {
   "cell_type": "code",
   "execution_count": null,
   "metadata": {},
   "outputs": [],
   "source": [
    "mrns = (c3po_mrns & ecg_mrns) - mrns_to_remove\n",
    "print(f\"mrns: {len(mrns)}\")"
   ]
  },
  {
   "cell_type": "code",
   "execution_count": null,
   "metadata": {},
   "outputs": [],
   "source": [
    "c3po = c3po[c3po['mrn'].isin(mrns)]"
   ]
  },
  {
   "cell_type": "code",
   "execution_count": null,
   "metadata": {},
   "outputs": [],
   "source": [
    "c3po_lived = c3po[c3po['death_date'].isnull()]\n",
    "c3po_died = c3po[~c3po['death_date'].isnull()]"
   ]
  },
  {
   "cell_type": "code",
   "execution_count": null,
   "metadata": {},
   "outputs": [],
   "source": [
    "c3po.sample(frac=1, random_state=0)\n",
    "\n",
    "l_tv_idx = int(train_ratio * len(c3po_lived))\n",
    "l_vt_idx = int((train_ratio + valid_ratio) * len(c3po_lived))\n",
    "\n",
    "d_tv_idx = int(train_ratio * len(c3po_died))\n",
    "d_vt_idx = int((train_ratio + valid_ratio) * len(c3po_died))\n",
    "\n",
    "train_lived = c3po_lived[:l_tv_idx]\n",
    "valid_lived = c3po_lived[l_tv_idx:l_vt_idx]\n",
    "test_lived = c3po_lived[l_vt_idx:]\n",
    "\n",
    "train_died = c3po_died[:d_tv_idx]\n",
    "valid_died = c3po_died[d_tv_idx:d_vt_idx]\n",
    "test_died = c3po_died[d_vt_idx:]"
   ]
  },
  {
   "cell_type": "code",
   "execution_count": null,
   "metadata": {},
   "outputs": [],
   "source": [
    "# Create splits for varying percentile amounts of c3po cohort\n",
    "for percent in [100]: #, 90, 75, 50, 25, 10]:\n",
    "    print(f\"Parsing c3po data for {percent} percent\")\n",
    "    suffix = \"\"\n",
    "    if percent != 100:\n",
    "        suffix = f\"-{percent}\"\n",
    "    frac = percent / 100\n",
    "    _train_lived = train_lived.sample(frac=frac, random_state=percent)\n",
    "    _valid_lived = valid_lived.sample(frac=frac, random_state=percent)\n",
    "    _test_lived = test_lived.sample(frac=frac, random_state=percent)\n",
    "    _train_died = train_died.sample(frac=frac, random_state=percent)\n",
    "    _valid_died = valid_died.sample(frac=frac, random_state=percent)\n",
    "    _test_died = test_died.sample(frac=frac, random_state=percent)\n",
    "\n",
    "    train = pd.concat([_train_lived, _train_died]).sample(frac=1, random_state=percent)\n",
    "    valid = pd.concat([_valid_lived, _valid_died]).sample(frac=1, random_state=percent)\n",
    "    test = pd.concat([_test_lived, _test_died]).sample(frac=1, random_state=percent)\n",
    "    \n",
    "    train['mrn'].to_csv(f'~/dropbox/c3po-data/train{suffix}.csv', index=False)\n",
    "    valid['mrn'].to_csv(f'~/dropbox/c3po-data/valid{suffix}.csv', index=False)\n",
    "    test['mrn'].to_csv(f'~/dropbox/c3po-data/test{suffix}.csv', index=False)"
   ]
  }
 ],
 "metadata": {
  "kernelspec": {
   "display_name": "Python 3",
   "language": "python",
   "name": "python3"
  },
  "language_info": {
   "codemirror_mode": {
    "name": "ipython",
    "version": 3
   },
   "file_extension": ".py",
   "mimetype": "text/x-python",
   "name": "python",
   "nbconvert_exporter": "python",
   "pygments_lexer": "ipython3",
   "version": "3.8.0"
  }
 },
 "nbformat": 4,
 "nbformat_minor": 4
}
