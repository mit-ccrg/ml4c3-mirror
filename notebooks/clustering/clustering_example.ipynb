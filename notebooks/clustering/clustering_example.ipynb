{
 "cells": [
  {
   "cell_type": "code",
   "execution_count": null,
   "metadata": {},
   "outputs": [],
   "source": [
    "import pandas as pd\n",
    "from clustering.objects.finder import Explorer, RequestReport\n",
    "from clustering.objects.structures import Bundle"
   ]
  },
  {
   "cell_type": "markdown",
   "metadata": {},
   "source": [
    "# Clustering dependency\n",
    "\n",
    "This notebook contains some of the main features of the clustering dependency. This will give a new user a first approach to the tools that are found on the dependency. \n",
    "\n",
    "Check the code on github or use python built-in functions `dir` and `help` to get and read about all the other methods not listed here."
   ]
  },
  {
   "cell_type": "code",
   "execution_count": null,
   "metadata": {},
   "outputs": [],
   "source": [
    "HD5_PATH = \"/media/mad3/hd5\"  # path where the hd5 files are stored\n",
    "pd.set_option('max_colwidth', 3000)"
   ]
  },
  {
   "cell_type": "code",
   "execution_count": null,
   "metadata": {},
   "outputs": [],
   "source": [
    "explorer = Explorer(HD5_PATH)"
   ]
  },
  {
   "cell_type": "markdown",
   "metadata": {},
   "source": [
    "### 1. Getting statistics about all the HD5 files\n",
    "\n",
    "Create a table with statistics about the HD5 files stored in a path. \n",
    "You can see group them by their conatined source, you can see how many patiens have been in BLK08 or how many files are not readable (corrupted)"
   ]
  },
  {
   "cell_type": "code",
   "execution_count": null,
   "metadata": {},
   "outputs": [],
   "source": [
    "quality = explorer.get_quality()"
   ]
  },
  {
   "cell_type": "code",
   "execution_count": null,
   "metadata": {},
   "outputs": [],
   "source": [
    "quality.by_sources()"
   ]
  },
  {
   "cell_type": "code",
   "execution_count": null,
   "metadata": {},
   "outputs": [],
   "source": [
    "quality.by_blk08()"
   ]
  },
  {
   "cell_type": "markdown",
   "metadata": {},
   "source": [
    "### 2. Finding signals by keyword\n",
    "\n",
    "If you have the name of a medicine and want to get a list of all the signals containing that name, just run:"
   ]
  },
  {
   "cell_type": "code",
   "execution_count": null,
   "metadata": {},
   "outputs": [],
   "source": [
    "norepine = explorer.guess_signal_name(\"norepine\", \"med\")"
   ]
  },
  {
   "cell_type": "code",
   "execution_count": null,
   "metadata": {},
   "outputs": [],
   "source": [
    "pd.DataFrame(norepine.most_common(), columns=[\"medicine\", \"occurrences\"])"
   ]
  },
  {
   "cell_type": "markdown",
   "metadata": {},
   "source": [
    "### 3. Selecting a cohort\n",
    "\n",
    "Get a statistics for each file about the desired signals and select a cohort of patients."
   ]
  },
  {
   "cell_type": "code",
   "execution_count": null,
   "metadata": {},
   "outputs": [],
   "source": [
    "signals = [\"hr\", \"art1m\", \"pa2m\"]\n",
    "report = explorer.find(signals, cell=\"max_unfilled\", stay_length=12)"
   ]
  },
  {
   "cell_type": "code",
   "execution_count": null,
   "metadata": {},
   "outputs": [],
   "source": [
    "report.df.head(10)  # Output from this cell has been removed to keep MRNs private"
   ]
  },
  {
   "cell_type": "markdown",
   "metadata": {},
   "source": [
    "You can now get a cohort of patients based on some conditions:"
   ]
  },
  {
   "cell_type": "code",
   "execution_count": null,
   "metadata": {},
   "outputs": [],
   "source": [
    "df = report.df\n",
    "alt_df = df[(df[\"Overlap\"]) & (df[\"Overlap length (h)\"] > 10) & (df[\"Max unfilled time (s)\"] < 3600) & (df[\"Max non-monotonicities (#)\"] < 4)]\n",
    "alt_df.shape"
   ]
  },
  {
   "cell_type": "code",
   "execution_count": null,
   "metadata": {},
   "outputs": [],
   "source": [
    "report.df = alt_df\n",
    "report.to_csv(\"cohort_stats.csv\")"
   ]
  },
  {
   "cell_type": "markdown",
   "metadata": {},
   "source": [
    "### 4. Extracting signals\n",
    "\n",
    "Extract all the signals from a cohort created like on point 3 and store them on a file."
   ]
  },
  {
   "cell_type": "code",
   "execution_count": null,
   "metadata": {},
   "outputs": [],
   "source": [
    "report = RequestReport.from_csv(\"cohort_stats.csv\")\n",
    "bundle = explorer.extract_data(report)\n",
    "bundle.store(\"dummy_cohort.bundle\")"
   ]
  },
  {
   "cell_type": "markdown",
   "metadata": {},
   "source": [
    "### 5. Curating data\n",
    "\n",
    "Data curation on the cohort"
   ]
  },
  {
   "cell_type": "code",
   "execution_count": null,
   "metadata": {},
   "outputs": [],
   "source": [
    "bundle = Bundle.from_pickle(\"dummy_cohort.bundle\")"
   ]
  },
  {
   "cell_type": "code",
   "execution_count": null,
   "metadata": {},
   "outputs": [],
   "source": [
    "bundle.remove_outliers(list_methods=True)   # The same can be done with pad, downsample and normalize to list the available methods"
   ]
  },
  {
   "cell_type": "code",
   "execution_count": null,
   "metadata": {},
   "outputs": [],
   "source": [
    "bundle.remove_outliers(method=\"remove_isolated\", find_method=\"zscore\", z_threshold=3, filter_method=\"global_predefined_limits\", jump_pc=0.01, outliers_pc_th=20)\n",
    "bundle.pad(filling=\"mean\")\n",
    "bundle.downsample(method=\"linear_interpolation\", new_rate=600)\n",
    "bundle.normalize(method=\"min_max_values\")"
   ]
  },
  {
   "cell_type": "code",
   "execution_count": null,
   "metadata": {},
   "outputs": [],
   "source": [
    "bundle.store(\"dummy_cohort_curated.bundle\")"
   ]
  },
  {
   "cell_type": "markdown",
   "metadata": {},
   "source": [
    "You can also plot signals from all patients time-aligned to their entrance to BLK08"
   ]
  },
  {
   "cell_type": "code",
   "execution_count": null,
   "metadata": {},
   "outputs": [],
   "source": [
    "bundle.plot_signal(\"hr\")"
   ]
  },
  {
   "cell_type": "markdown",
   "metadata": {},
   "source": [
    "Or from a subset of patients:"
   ]
  },
  {
   "cell_type": "code",
   "execution_count": null,
   "metadata": {},
   "outputs": [],
   "source": [
    "patients = bundle.patient_list()\n",
    "bundle.plot_signal(\"hr\", patients=patients[:3])"
   ]
  },
  {
   "cell_type": "markdown",
   "metadata": {},
   "source": [
    "### 6. Clustering\n",
    "\n",
    "Cluster the cohort and get statistics from the clusters."
   ]
  },
  {
   "cell_type": "code",
   "execution_count": null,
   "metadata": {},
   "outputs": [],
   "source": [
    "bundle = Bundle.from_pickle(\"dummy_cohort_curated.bundle\")"
   ]
  },
  {
   "cell_type": "code",
   "execution_count": null,
   "metadata": {},
   "outputs": [],
   "source": [
    "features = bundle.feature_matrix(method=\"concatenation\", order=\"xxyy\")\n",
    "cluster_results = bundle.cluster(method=\"kmeans\", distances=features, distance_algo=\"euclidian\", cluster_algo=\"full\", n_clusters=3)"
   ]
  },
  {
   "cell_type": "code",
   "execution_count": null,
   "metadata": {},
   "outputs": [],
   "source": [
    "cluster_stats = bundle.cluster_stats(cluster_results)\n",
    "cluster_stats.get_summary()"
   ]
  },
  {
   "cell_type": "code",
   "execution_count": null,
   "metadata": {},
   "outputs": [],
   "source": [
    "cluster_stats.plot_distribution(\"BLK08 stay (d)\")"
   ]
  }
 ],
 "metadata": {
  "kernelspec": {
   "display_name": "Python 3",
   "language": "python",
   "name": "python3"
  },
  "language_info": {
   "codemirror_mode": {
    "name": "ipython",
    "version": 3
   },
   "file_extension": ".py",
   "mimetype": "text/x-python",
   "name": "python",
   "nbconvert_exporter": "python",
   "pygments_lexer": "ipython3",
   "version": "3.8.0"
  }
 },
 "nbformat": 4,
 "nbformat_minor": 4
}
