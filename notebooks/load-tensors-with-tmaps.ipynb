{
 "cells": [
  {
   "cell_type": "markdown",
   "metadata": {},
   "source": [
    "## Imports and functions"
   ]
  },
  {
   "cell_type": "code",
   "execution_count": null,
   "metadata": {},
   "outputs": [],
   "source": [
    "! pip install --user ~/ml4c3\n",
    "\n",
    "import os\n",
    "import h5py\n",
    "import socket\n",
    "import pprint\n",
    "import numpy as np\n",
    "import pandas as pd\n",
    "from tqdm import tqdm\n",
    "from typing import List, Union, Dict\n",
    "\n",
    "import seaborn as sns\n",
    "from matplotlib import pyplot as plt\n",
    "\n",
    "from ml4c3.tensormap.TensorMap import TensorMap, update_tmaps\n",
    "from ml4c3.definitions.globals import TENSOR_EXT\n",
    "from ml4c3.definitions.sts import STS_DATA_CSV\n",
    "\n",
    "pp = pprint.PrettyPrinter(indent=4)\n",
    "\n",
    "%matplotlib inline\n",
    "\n",
    "def get_fpaths(dirpath: str, ext: str = TENSOR_EXT) -> list:\n",
    "    fpaths = []\n",
    "    for root, dirs, files in os.walk(dirpath):\n",
    "        for fname in files:\n",
    "            if not fname.endswith(TENSOR_EXT):\n",
    "                continue\n",
    "            else:\n",
    "                fpaths.append(os.path.join(root, fname))\n",
    "    print(f\"Found {len(fpaths)} {TENSOR_EXT} files at {dirpath}\")\n",
    "    return fpaths\n",
    "\n",
    "def get_path_to_ecgs() -> str:\n",
    "    \"\"\"Check the hostname of the machine and return the appropriate path.\n",
    "    If there is no match found, this function does not return anything, and\n",
    "    the script ends up with a non-viable path prefix to HD5 files and will fail.\"\"\"\n",
    "    if \"mithril\" == socket.gethostname():\n",
    "#         return \"/storage/shared/ecg\"\n",
    "        return \"/media/2tb/ecg\"\n",
    "    elif \"anduril\" == socket.gethostname():\n",
    "        return \"/storage/shared/ecg\"\n",
    "    elif \"stultzlab\" in socket.gethostname():\n",
    "        return \"/storage/shared/ecg\"\n",
    "    \n",
    "print(\"Built functions!\")"
   ]
  },
  {
   "cell_type": "code",
   "execution_count": null,
   "metadata": {},
   "outputs": [],
   "source": [
    "fpaths = get_fpaths(dirpath=os.path.join(get_path_to_ecgs(), \"mgh\"))"
   ]
  },
  {
   "cell_type": "markdown",
   "metadata": {},
   "source": [
    "## Get list of STS MRNs (strings)"
   ]
  },
  {
   "cell_type": "code",
   "execution_count": null,
   "metadata": {},
   "outputs": [],
   "source": [
    "df = pd.read_csv(STS_DATA_CSV)\n",
    "sts_mrns = df['medrecn'].to_list()\n",
    "sts_mrns = [float(mrn) for mrn in sts_mrns]\n",
    "print(f\"Extracted {len(sts_mrns)} MRNs from {STS_DATA_CSV}\")"
   ]
  },
  {
   "cell_type": "markdown",
   "metadata": {},
   "source": [
    "## Isolate MRNs from HD5 paths and convert to set"
   ]
  },
  {
   "cell_type": "code",
   "execution_count": null,
   "metadata": {},
   "outputs": [],
   "source": [
    "# Isolate MRNs from fpaths\n",
    "mrn_hd5s = []\n",
    "for fpath in tqdm(fpaths):\n",
    "    if \"bad_mrn\" not in fpath:\n",
    "        mrn = os.path.split(fpath)[1].replace(TENSOR_EXT, \"\")\n",
    "        mrn = float(mrn)\n",
    "        mrn_hd5s.append(mrn)\n",
    "mrn_hd5s = set(mrn_hd5s)\n",
    "\n",
    "print(f\"Isolated MRNs from {len(mrn_hd5s)} paths, convert to floats, and saved in a big set\")"
   ]
  },
  {
   "cell_type": "markdown",
   "metadata": {},
   "source": [
    "## Get intersect between MRNs from STS and MRNs from HD5 paths"
   ]
  },
  {
   "cell_type": "code",
   "execution_count": null,
   "metadata": {},
   "outputs": [],
   "source": [
    "# Get path prefix to HD5 data\n",
    "path_prefix = os.path.split(fpath)[0]\n",
    "\n",
    "# Iterate through STS MRNs and check if it is in ECG fpath list; if yes, append to list of paths\n",
    "fpaths_matches = []\n",
    "for mrn in tqdm(sts_mrns):\n",
    "    if mrn in mrn_hd5s:\n",
    "        fpath_match = os.path.join(path_prefix, str(int(mrn)) + TENSOR_EXT)\n",
    "        fpaths_matches.append(fpath_match)\n",
    "\n",
    "# Convert list to set then back to list to eliminate duplicates\n",
    "fpaths_matches = list(set(fpaths_matches))\n",
    "\n",
    "print(f\"Found {len(fpaths_matches)} paths to ECGs that have an STS MRN\")"
   ]
  },
  {
   "cell_type": "markdown",
   "metadata": {},
   "source": [
    "## Define list several STS TMaps and build them"
   ]
  },
  {
   "cell_type": "code",
   "execution_count": null,
   "metadata": {},
   "outputs": [],
   "source": [
    "needed_tensor_maps = [\n",
    "    \"age\",\n",
    "    \"classnyh\",\n",
    "    \"chf\",\n",
    "]\n",
    "tmaps = {}\n",
    "for tmap_name in needed_tensor_maps:\n",
    "    tmaps = update_tmaps(tmap_name=tmap_name, tmaps=tmaps)\n",
    "    print(f\"Successfully created tensor map {tmaps[tmap_name].name} with shape {tmaps[tmap_name].shape}\")\n",
    "\n",
    "tmaps = [tmaps[tm] for tm in tmaps if tmaps[tm].name in needed_tensor_maps]"
   ]
  },
  {
   "cell_type": "markdown",
   "metadata": {},
   "source": [
    "## Initialize dict of empty lists in which to store tensors returned by TMaps, iterate through fpaths, use TMap to get tensors, and append to dict"
   ]
  },
  {
   "cell_type": "code",
   "execution_count": null,
   "metadata": {
    "jupyter": {
     "source_hidden": true
    }
   },
   "outputs": [],
   "source": [
    "tensors = dict()\n",
    "for tm in needed_tensor_maps:\n",
    "    tensors[tm] = []\n",
    "\n",
    "for fpath in tqdm(fpaths_matches[0:5]):\n",
    "    print(\"\\n\")\n",
    "    with h5py.File(fpath, \"r\") as hf:\n",
    "        print(fpath)\n",
    "        for tm in tmaps:\n",
    "            print(f\"{tm.name}\")\n",
    "            try:\n",
    "                tensor = tm.tensor_from_file(tm=tm, hd5=hf)\n",
    "                print(f\"\\t{tensor}\")\n",
    "            except:\n",
    "                print(f\"\\tFail!\")"
   ]
  }
 ],
 "metadata": {
  "kernelspec": {
   "display_name": "Python 3",
   "language": "python",
   "name": "python3"
  },
  "language_info": {
   "codemirror_mode": {
    "name": "ipython",
    "version": 3
   },
   "file_extension": ".py",
   "mimetype": "text/x-python",
   "name": "python",
   "nbconvert_exporter": "python",
   "pygments_lexer": "ipython3",
   "version": "3.8.0"
  }
 },
 "nbformat": 4,
 "nbformat_minor": 4
}
