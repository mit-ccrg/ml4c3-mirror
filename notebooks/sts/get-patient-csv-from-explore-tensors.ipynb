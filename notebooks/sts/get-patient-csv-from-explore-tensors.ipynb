{
 "cells": [
  {
   "cell_type": "code",
   "execution_count": null,
   "id": "ahead-drive",
   "metadata": {},
   "outputs": [],
   "source": [
    "import os\n",
    "import pandas as pd"
   ]
  },
  {
   "cell_type": "code",
   "execution_count": null,
   "id": "widespread-excess",
   "metadata": {},
   "outputs": [],
   "source": [
    "path = os.path.expanduser(\"~/dropbox/sts-ecg/explore/age-sex-metadata-newest/tensors_union.csv\")"
   ]
  },
  {
   "cell_type": "code",
   "execution_count": null,
   "id": "streaming-puzzle",
   "metadata": {},
   "outputs": [],
   "source": [
    "df = pd.read_csv(path, low_memory=False)"
   ]
  },
  {
   "cell_type": "code",
   "execution_count": null,
   "id": "cultural-internship",
   "metadata": {},
   "outputs": [],
   "source": [
    "df"
   ]
  },
  {
   "cell_type": "code",
   "execution_count": null,
   "id": "crucial-blank",
   "metadata": {},
   "outputs": [],
   "source": [
    "df.dropna(inplace=True)"
   ]
  },
  {
   "cell_type": "code",
   "execution_count": null,
   "id": "extensive-annotation",
   "metadata": {},
   "outputs": [],
   "source": [
    "df = df[[\n",
    "    'patientid',\n",
    "    'sts_death_60_days_after_ecg_newest',\n",
    "    'ecg_age_60_days_before_sts_newest',\n",
    "    'ecg_sex_60_days_before_sts_newest_male',\n",
    "]]"
   ]
  },
  {
   "cell_type": "code",
   "execution_count": null,
   "id": "progressive-sharing",
   "metadata": {},
   "outputs": [],
   "source": [
    "df = df.rename(columns={\n",
    "    \"patientid\": \"mrn\",\n",
    "    \"sts_death_60_days_after_ecg_newest\": \"death\",\n",
    "    \"ecg_age_60_days_before_sts_newest\": \"age\",\n",
    "    \"ecg_sex_60_days_before_sts_newest_male\": \"sex\",\n",
    "})"
   ]
  },
  {
   "cell_type": "code",
   "execution_count": null,
   "id": "digital-floating",
   "metadata": {},
   "outputs": [],
   "source": [
    "cols_to_int = [\"death\", \"age\", \"sex\"]\n",
    "for col in cols_to_int:\n",
    "    df[col] = df[col].astype(int)\n",
    "df"
   ]
  },
  {
   "cell_type": "code",
   "execution_count": null,
   "id": "satellite-straight",
   "metadata": {},
   "outputs": [],
   "source": [
    "path = os.path.expanduser(\"~/dropbox/sts-data/sts-intersect-ecg-age-sex-metadata-newest.csv\")\n",
    "df.to_csv(path, index=False)\n",
    "print(f\"Saved {path}\")"
   ]
  }
 ],
 "metadata": {
  "kernelspec": {
   "display_name": "Python 3",
   "language": "python",
   "name": "python3"
  },
  "language_info": {
   "codemirror_mode": {
    "name": "ipython",
    "version": 3
   },
   "file_extension": ".py",
   "mimetype": "text/x-python",
   "name": "python",
   "nbconvert_exporter": "python",
   "pygments_lexer": "ipython3",
   "version": "3.8.0"
  }
 },
 "nbformat": 4,
 "nbformat_minor": 5
}
