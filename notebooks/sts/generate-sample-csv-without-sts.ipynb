{
 "cells": [
  {
   "cell_type": "markdown",
   "metadata": {},
   "source": [
    "## This notebook assumes MRNs are unique across institutions (MGH, BWH)\n",
    "This is true if the MRNs have been remapped using unique IDs, like on quanta"
   ]
  },
  {
   "cell_type": "code",
   "execution_count": null,
   "metadata": {},
   "outputs": [],
   "source": [
    "import os\n",
    "import csv\n",
    "import pandas as pd"
   ]
  },
  {
   "cell_type": "code",
   "execution_count": null,
   "metadata": {},
   "outputs": [],
   "source": [
    "# Get MRNs from STS data as a set\n",
    "df = pd.read_csv(\"/storage/shared/sts-data-deid/mgh-all-features-labels.csv\", low_memory=False)\n",
    "sts_mrns = set(df[\"medrecn\"])\n",
    "len(sts_mrns)"
   ]
  },
  {
   "cell_type": "code",
   "execution_count": null,
   "metadata": {},
   "outputs": [],
   "source": [
    "# Get mrns from HD5 files which are not part of sts_mrns\n",
    "tensor_path = \"/storage/shared/ecg\"\n",
    "mrns = []\n",
    "for rootpath, dirs, files in os.walk(tensor_path):\n",
    "    for file in files:\n",
    "        mrn, ext = os.path.splitext(file)\n",
    "        if mrn == \"bad_mrn\" or ext != \".hd5\":\n",
    "            continue\n",
    "\n",
    "        mrn = int(mrn)\n",
    "        if mrn not in sts_mrns:\n",
    "            mrns.append(mrn)\n",
    "\n",
    "len(mrns)"
   ]
  },
  {
   "cell_type": "code",
   "execution_count": null,
   "metadata": {},
   "outputs": [],
   "source": [
    "df = pd.DataFrame({\"mrn\": mrns})\n",
    "df"
   ]
  },
  {
   "cell_type": "code",
   "execution_count": null,
   "metadata": {},
   "outputs": [],
   "source": [
    "df.to_csv(\"/storage/shared/sts-data-deid/all-mrns-minus-sts.csv\", index=False)\n",
    "print(f\"Saved {fpath}\")"
   ]
  },
  {
   "cell_type": "code",
   "execution_count": null,
   "metadata": {},
   "outputs": [],
   "source": []
  }
 ],
 "metadata": {
  "kernelspec": {
   "display_name": "Python 3",
   "language": "python",
   "name": "python3"
  },
  "language_info": {
   "codemirror_mode": {
    "name": "ipython",
    "version": 3
   },
   "file_extension": ".py",
   "mimetype": "text/x-python",
   "name": "python",
   "nbconvert_exporter": "python",
   "pygments_lexer": "ipython3",
   "version": "3.6.9"
  }
 },
 "nbformat": 4,
 "nbformat_minor": 4
}
