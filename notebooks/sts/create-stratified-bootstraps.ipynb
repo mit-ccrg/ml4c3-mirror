{
 "cells": [
  {
   "cell_type": "code",
   "execution_count": null,
   "id": "suitable-reasoning",
   "metadata": {},
   "outputs": [],
   "source": [
    "import os\n",
    "import numpy as np\n",
    "import pandas as pd\n",
    "from sklearn.model_selection import train_test_split\n",
    "\n",
    "num_bootstraps = 10\n",
    "bootstrap_folder = os.path.expanduser(\"~/dropbox/sts-data/bootstraps-intersect-ecg-age-sex-metadata-newest\")\n",
    "patient_csv = os.path.expanduser(\"~/dropbox/sts-data/sts-intersect-ecg-age-sex-metadata-newest.csv\")\n",
    "\n",
    "%matplotlib inline"
   ]
  },
  {
   "cell_type": "code",
   "execution_count": null,
   "id": "seventh-pilot",
   "metadata": {},
   "outputs": [],
   "source": [
    "df = pd.read_csv(patient_csv, low_memory=False)"
   ]
  },
  {
   "cell_type": "code",
   "execution_count": null,
   "id": "tutorial-wonder",
   "metadata": {},
   "outputs": [],
   "source": [
    "df['age_bins'] = pd.cut(x=df['age'], bins=[0, 55, 65, 75, 500])"
   ]
  },
  {
   "cell_type": "code",
   "execution_count": null,
   "id": "suited-tuesday",
   "metadata": {},
   "outputs": [],
   "source": [
    "df"
   ]
  },
  {
   "cell_type": "code",
   "execution_count": null,
   "id": "close-theme",
   "metadata": {},
   "outputs": [],
   "source": [
    "def stats(df: pd.DataFrame, prefix_text: str):\n",
    "   \n",
    "    n_deaths = df['death'].sum()\n",
    "    percent_deaths = n_deaths / df.shape[0] * 100\n",
    "    print(f\"{prefix_text} deaths: {n_deaths} / {df.shape[0]} ({percent_deaths:.1f}%)\")\n",
    "    \n",
    "    n_men = df['sex'].sum()\n",
    "    percent_men = n_men / df.shape[0] * 100\n",
    "    print(f\"{prefix_text} men: {n_men} / {df.shape[0]} ({percent_men:.1f}%)\")\n",
    "    \n",
    "    for bin, count in df['age_bins'].value_counts().items():\n",
    "        percent_age_bin = count / df.shape[0] * 100\n",
    "        print(f\"{prefix_text} age bin {bin}: n={count} / {df.shape[0]} ({percent_age_bin:.1f}%)\")\n",
    "    print('')"
   ]
  },
  {
   "cell_type": "code",
   "execution_count": null,
   "id": "local-michigan",
   "metadata": {},
   "outputs": [],
   "source": [
    "df_train_prior = None\n",
    "df_valid_prior = None\n",
    "df_test_prior = None\n",
    "\n",
    "for i in range(10):    \n",
    "    df_train, df_valid_and_test = train_test_split(\n",
    "        df,\n",
    "        test_size=0.2,\n",
    "        random_state=i,\n",
    "        stratify=df[['death', 'age_bins', 'sex']],\n",
    "    )\n",
    "\n",
    "    df_valid, df_test = train_test_split(\n",
    "        df_valid_and_test,\n",
    "        test_size=0.5,\n",
    "        random_state=i,\n",
    "        stratify=df_valid_and_test[['death', 'age_bins', 'sex']],\n",
    "    )\n",
    "\n",
    "    print(f\"====================== bootstrap {i+1} ======================\")\n",
    "    stats(df=df_train, prefix_text=f\"train\")\n",
    "    stats(df=df_valid, prefix_text=f\"valid\")\n",
    "    stats(df=df_test, prefix_text=f\"test\")\n",
    "    \n",
    "    # Ensure the new dataframe is not equal to the prior\n",
    "    if df_train_prior is not None:\n",
    "        assert not df_train_prior.equals(df_train)\n",
    "    if df_valid_prior is not None:\n",
    "        assert not df_valid_prior.equals(df_valid)\n",
    "    if df_test_prior is not None:\n",
    "        assert not df_test_prior.equals(df_test)\n",
    "        \n",
    "    df_train_prior = df_train\n",
    "    df_valid_prior = df_valid\n",
    "    df_test_prior = df_test\n",
    "    \n",
    "    if not os.path.isdir(f\"{bootstrap_folder}/{i}\"):\n",
    "        os.makedirs(f\"{bootstrap_folder}/{i}\")\n",
    "    \n",
    "    df_train.to_csv(f\"{bootstrap_folder}/{i}/train.csv\", index=False)\n",
    "    df_valid.to_csv(f\"{bootstrap_folder}/{i}/valid.csv\", index=False)\n",
    "    df_test.to_csv(f\"{bootstrap_folder}/{i}/test.csv\", index=False)"
   ]
  }
 ],
 "metadata": {
  "kernelspec": {
   "display_name": "Python 3",
   "language": "python",
   "name": "python3"
  },
  "language_info": {
   "codemirror_mode": {
    "name": "ipython",
    "version": 3
   },
   "file_extension": ".py",
   "mimetype": "text/x-python",
   "name": "python",
   "nbconvert_exporter": "python",
   "pygments_lexer": "ipython3",
   "version": "3.8.0"
  }
 },
 "nbformat": 4,
 "nbformat_minor": 5
}
