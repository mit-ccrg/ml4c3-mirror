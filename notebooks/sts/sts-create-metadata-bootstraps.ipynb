{
 "cells": [
  {
   "cell_type": "markdown",
   "metadata": {},
   "source": [
    "### Configuration"
   ]
  },
  {
   "cell_type": "code",
   "execution_count": null,
   "metadata": {},
   "outputs": [],
   "source": [
    "import os\n",
    "\n",
    "num_bootstraps = 10\n",
    "bootstrap_folder = os.path.expanduser(\"~/dropbox/sts-data/bootstraps\")"
   ]
  },
  {
   "cell_type": "code",
   "execution_count": null,
   "metadata": {},
   "outputs": [],
   "source": [
    "import sys\n",
    "import math\n",
    "import numpy as np\n",
    "import pandas as pd\n",
    "from ml4cvd.arguments import parse_args\n",
    "from ml4cvd.explorations import explore\n",
    "from typing import List, Tuple, Union\n",
    "\n",
    "def print_dataframe(df):\n",
    "    \"\"\"\n",
    "    Display entire dataframe, be careful of printing very large dataframes\n",
    "    \"\"\"\n",
    "    with pd.option_context('display.max_rows', None, 'display.max_columns', None, 'display.width', None, 'display.max_colwidth', -1):\n",
    "        print(df)"
   ]
  },
  {
   "cell_type": "markdown",
   "metadata": {},
   "source": [
    "### Load data"
   ]
  },
  {
   "cell_type": "code",
   "execution_count": null,
   "metadata": {},
   "outputs": [],
   "source": [
    "sys.argv = f\"\"\"\n",
    ".\n",
    "--tensors /data/ecg/mgh\n",
    "--sample_csv {os.path.expanduser(\"~/dropbox/sts-data/mgh-all-features-labels.csv\")}\n",
    "--input_tensors\n",
    "    ecg_patientid_clean_sts_newest\n",
    "    ecg_age_sts_newest\n",
    "    ecg_sex_sts_newest\n",
    "    ecg_rate_md_sts_newest\n",
    "    sts_death\n",
    "--explore_stratify_label\n",
    "    sts_death_sts_death\n",
    "--output_folder /tmp\n",
    "--id explore\n",
    "\"\"\".split()\n",
    "args = parse_args()\n",
    "df = explore(args, save_output=False)"
   ]
  },
  {
   "cell_type": "markdown",
   "metadata": {},
   "source": [
    "##### Quantiles are determined such that each unique combination of stratification labels has at least 3 patients (at least 1 per train/valid/test). These quantiles are tuned by manually adjusting and checking the resulting groups."
   ]
  },
  {
   "cell_type": "code",
   "execution_count": null,
   "metadata": {},
   "outputs": [],
   "source": [
    "# Isolate patients >= 21, exclude bad ECGs, bin continuous values\n",
    "df['ecg_patientid_clean_sts_newest'] = df['ecg_patientid_clean_sts_newest'].astype(int)\n",
    "df = df[df['ecg_age_sts_newest'] >= 21]\n",
    "bad = pd.read_csv(os.path.expanduser('~/dropbox/sts-data/mgh-bad-ecgs.csv'))\n",
    "bad = bad[bad['Problem'] != 'None']\n",
    "df = df.merge(bad, how='outer', left_on='ecg_patientid_clean_sts_newest', right_on='MRN', indicator=True)\n",
    "df = df[df['_merge'] == 'left_only']\n",
    "\n",
    "\n",
    "df['mrn'] = df['ecg_patientid_clean_sts_newest'].astype(int)\n",
    "df['death'] = df['sts_death_sts_death'].astype(int)\n",
    "df['sex-male'] = df['ecg_sex_sts_newest_male'].astype(int)\n",
    "df['age-quartile'], age_bins = pd.qcut(df['ecg_age_sts_newest'], 4, retbins=True, labels=[0,1,2,3])\n",
    "df['heart-rate-tertile'], hr_bins = pd.qcut(df['ecg_rate_md_sts_newest'], 3, retbins=True, labels=[0,1,2])\n",
    "df = df[['mrn', 'death', 'sex-male', 'age-quartile', 'heart-rate-tertile']]\n",
    "\n",
    "# print_dataframe(df.groupby(['death', 'sex-male', 'age-quartile', 'heart-rate-tertile']).size())"
   ]
  },
  {
   "cell_type": "markdown",
   "metadata": {},
   "source": [
    "### Stratify across train, valid, test splits"
   ]
  },
  {
   "cell_type": "code",
   "execution_count": null,
   "metadata": {},
   "outputs": [],
   "source": [
    "def train_valid_test_split(\n",
    "    df: pd.DataFrame, \n",
    "    stratify_by: Union[str, List[str]], \n",
    "    test_ratio: float = 0.1, \n",
    "    valid_ratio: float = 0.2,\n",
    ") -> Tuple[pd.DataFrame, pd.DataFrame, pd.DataFrame]:\n",
    "    assert not test_ratio + valid_ratio > 1\n",
    "\n",
    "    relative_valid_ratio = valid_ratio / (1 - test_ratio)\n",
    "\n",
    "    test_dfs = []\n",
    "    valid_dfs = []\n",
    "    train_dfs = []\n",
    "\n",
    "    for name, group in df.groupby(stratify_by):\n",
    "        tot = len(group)\n",
    "        n = int(test_ratio * tot) or 1\n",
    "        test_df = group.sample(n=n, replace=False)\n",
    "        group = group.drop(test_df.index)\n",
    "        tot = len(group)\n",
    "        n = int(relative_valid_ratio * tot) or 1\n",
    "        valid_df = group.sample(n=n, replace=False)\n",
    "        train_df = group.drop(valid_df.index)\n",
    "        \n",
    "        # Assert that group is represented in all splits\n",
    "        assert len(test_df) != 0\n",
    "        assert len(valid_df) != 0\n",
    "        assert len(train_df) != 0\n",
    "        test_dfs.append(test_df)\n",
    "        valid_dfs.append(valid_df)\n",
    "        train_dfs.append(train_df)\n",
    "\n",
    "    test_df = pd.concat(test_dfs)\n",
    "    valid_df = pd.concat(valid_dfs)\n",
    "    train_df = pd.concat(train_dfs)\n",
    "    \n",
    "    # Assert that all groups are represented in all splits\n",
    "    train_groups = train_df.groupby(stratify_by)\n",
    "    valid_groups = valid_df.groupby(stratify_by)\n",
    "    test_groups = test_df.groupby(stratify_by)\n",
    "    assert len(train_groups) == len(valid_groups) == len(test_groups)\n",
    "    \n",
    "    # Assert that split data exactly matches original data\n",
    "    cols = list(df.columns)\n",
    "    assert df.sort_values(cols).equals(pd.concat([train_df, valid_df, test_df]).sort_values(cols))\n",
    "\n",
    "    train_df = train_df.sample(frac=1).reset_index(drop=True)\n",
    "    valid_df = valid_df.sample(frac=1).reset_index(drop=True)\n",
    "    test_df = test_df.sample(frac=1).reset_index(drop=True)\n",
    "    return train_df, valid_df, test_df"
   ]
  },
  {
   "cell_type": "markdown",
   "metadata": {},
   "source": [
    "### Stratify for bootstraps"
   ]
  },
  {
   "cell_type": "code",
   "execution_count": null,
   "metadata": {},
   "outputs": [],
   "source": [
    "for i in range(num_bootstraps):\n",
    "    train, valid, test = train_valid_test_split(\n",
    "        df=df, \n",
    "        stratify_by=['death', 'sex-male', 'age-quartile', 'heart-rate-tertile'], \n",
    "        test_ratio=0.1, \n",
    "        valid_ratio=0.2,\n",
    "    )\n",
    "    this_bootstrap = os.path.join(bootstrap_folder, str(i))\n",
    "    os.makedirs(this_bootstrap, exist_ok=True)\n",
    "    train.to_csv(os.path.join(this_bootstrap, \"train.csv\"), index=False)\n",
    "    valid.to_csv(os.path.join(this_bootstrap, \"valid.csv\"), index=False)\n",
    "    test.to_csv(os.path.join(this_bootstrap, \"test.csv\"), index=False)"
   ]
  },
  {
   "cell_type": "markdown",
   "metadata": {},
   "source": [
    "### Report distribution of each stratify label"
   ]
  },
  {
   "cell_type": "code",
   "execution_count": null,
   "metadata": {},
   "outputs": [],
   "source": [
    "def print_label_prevalence(train: pd.DataFrame, valid: pd.DataFrame, test: pd.DataFrame, label: str):\n",
    "    concat = pd.concat([train, valid, test], keys=['train', 'valid', 'test']).reset_index(0).rename({'level_0': 'split'}, axis=1)\n",
    "    concat['split'] = pd.Categorical(concat['split'], [\"train\", \"valid\", \"test\"])\n",
    "    grouped = concat.groupby([label, 'split']).size()\n",
    "    print_dataframe(grouped.groupby(level=1).apply(lambda x: 100 * x / float(x.sum())))\n",
    "    print()"
   ]
  },
  {
   "cell_type": "code",
   "execution_count": null,
   "metadata": {},
   "outputs": [],
   "source": [
    "for label in ['death', 'sex-male', 'age-quartile', 'heart-rate-tertile']:\n",
    "    print_label_prevalence(train, valid, test, label)"
   ]
  }
 ],
 "metadata": {
  "kernelspec": {
   "display_name": "Python 3",
   "language": "python",
   "name": "python3"
  },
  "language_info": {
   "codemirror_mode": {
    "name": "ipython",
    "version": 3
   },
   "file_extension": ".py",
   "mimetype": "text/x-python",
   "name": "python",
   "nbconvert_exporter": "python",
   "pygments_lexer": "ipython3",
   "version": "3.6.9"
  }
 },
 "nbformat": 4,
 "nbformat_minor": 4
}
