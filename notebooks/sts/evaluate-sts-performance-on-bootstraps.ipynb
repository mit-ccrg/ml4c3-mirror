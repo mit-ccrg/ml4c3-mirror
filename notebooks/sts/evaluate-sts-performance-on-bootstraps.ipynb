{
 "cells": [
  {
   "cell_type": "markdown",
   "metadata": {},
   "source": [
    "# Calculate AUCs for bootstraps using STS model scores"
   ]
  },
  {
   "cell_type": "code",
   "execution_count": null,
   "metadata": {},
   "outputs": [],
   "source": [
    "import os\n",
    "import numpy as np\n",
    "import pandas as pd\n",
    "from sklearn.metrics import roc_auc_score"
   ]
  },
  {
   "cell_type": "markdown",
   "metadata": {},
   "source": [
    "## Load y and y_hat for entire STS DataFrame"
   ]
  },
  {
   "cell_type": "code",
   "execution_count": null,
   "metadata": {},
   "outputs": [],
   "source": [
    "root = os.path.expanduser(\"~/dropbox/sts-data\")\n",
    "fpath = os.path.join(root, \"sts-mgh.csv\")\n",
    "df = pd.read_csv(fpath, low_memory=False)"
   ]
  },
  {
   "cell_type": "markdown",
   "metadata": {},
   "source": [
    "## Iterate over bootstrap test sets"
   ]
  },
  {
   "cell_type": "code",
   "execution_count": null,
   "metadata": {},
   "outputs": [],
   "source": [
    "path_to_bootstraps = os.path.expanduser(\"~/dropbox/sts-data\")\n",
    "cohorts = [\n",
    "#     \"cabg\",\n",
    "#     \"valve\",\n",
    "#     \"cabg-valve\",\n",
    "    \"major\",\n",
    "#     \"other\",\n",
    "#     \"all-elective\",\n",
    "    \"major-elective\",\n",
    "#     \"other-elective\",\n",
    "]"
   ]
  },
  {
   "cell_type": "code",
   "execution_count": null,
   "metadata": {},
   "outputs": [],
   "source": [
    "aucs = {}\n",
    "for cohort in cohorts:\n",
    "    aucs[cohort] = []\n",
    "    for bootstrap in range(10):\n",
    "        fpath = os.path.join(path_to_bootstraps, f\"bootstraps-ecg-{cohort}\", str(bootstrap), \"test.csv\")\n",
    "        test = pd.read_csv(fpath, low_memory=False, usecols=[\"mrn\", \"death\", \"predmort\"])\n",
    "\n",
    "        y = test.death.to_numpy()\n",
    "        y_hat = test.predmort.to_numpy()\n",
    "        n_tot = len(y)\n",
    "\n",
    "        n_scores = sum(~np.isnan(y_hat))\n",
    "        frac_scores = n_scores / len(y) * 100\n",
    "\n",
    "        not_nan = ~np.isnan(y_hat)\n",
    "        y = y[not_nan]\n",
    "        y_hat = y_hat[not_nan]\n",
    "\n",
    "        auc = roc_auc_score(y_true=y, y_score=y_hat)\n",
    "        aucs[cohort].append(auc)\n",
    "\n",
    "        print(f\"{cohort}: bootstrap {bootstrap+1}, {n_scores}/{n_tot} patients have STS scores ({frac_scores:.1f}%), AUC={auc:0.3f}\")"
   ]
  },
  {
   "cell_type": "code",
   "execution_count": null,
   "metadata": {},
   "outputs": [],
   "source": [
    "df_aucs = pd.DataFrame(aucs)\n",
    "df_aucs.index.name = \"bootstrap\"\n",
    "df_aucs"
   ]
  },
  {
   "cell_type": "code",
   "execution_count": null,
   "metadata": {},
   "outputs": [],
   "source": [
    "fpath = os.path.expanduser(\"~/dropbox/sts-net/figures-and-tables/sts.csv\")\n",
    "df_aucs.to_csv(fpath)\n",
    "print(f\"Saved AUCs of STS risk score predictions to {fpath}\")"
   ]
  }
 ],
 "metadata": {
  "kernelspec": {
   "display_name": "Python 3",
   "language": "python",
   "name": "python3"
  },
  "language_info": {
   "codemirror_mode": {
    "name": "ipython",
    "version": 3
   },
   "file_extension": ".py",
   "mimetype": "text/x-python",
   "name": "python",
   "nbconvert_exporter": "python",
   "pygments_lexer": "ipython3",
   "version": "3.8.0"
  }
 },
 "nbformat": 4,
 "nbformat_minor": 4
}
