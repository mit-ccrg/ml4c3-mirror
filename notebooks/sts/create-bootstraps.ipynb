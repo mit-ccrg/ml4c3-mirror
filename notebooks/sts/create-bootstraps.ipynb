{
 "cells": [
  {
   "cell_type": "markdown",
   "metadata": {},
   "source": [
    "### Configuration"
   ]
  },
  {
   "cell_type": "code",
   "execution_count": null,
   "metadata": {},
   "outputs": [],
   "source": [
    "import os\n",
    "\n",
    "num_bootstraps = 10\n",
    "bootstrap_folder = os.path.expanduser(\"~/dropbox/sts-data/bootstraps\")\n",
    "sample_csv = os.path.expanduser(\"~/dropbox/sts-data/sts-mgh.csv\")"
   ]
  },
  {
   "cell_type": "code",
   "execution_count": null,
   "metadata": {},
   "outputs": [],
   "source": [
    "import sys\n",
    "import math\n",
    "import numpy as np\n",
    "import pandas as pd\n",
    "from ml4cvd.arguments import parse_args\n",
    "from ml4cvd.explorations import explore\n",
    "from typing import List, Tuple, Union\n",
    "\n",
    "def print_dataframe(df):\n",
    "    \"\"\"\n",
    "    Display entire dataframe, be careful of printing very large dataframes\n",
    "    \"\"\"\n",
    "    with pd.option_context('display.max_rows', None, 'display.max_columns', None, 'display.width', None, 'display.max_colwidth', -1):\n",
    "        print(df)"
   ]
  },
  {
   "cell_type": "markdown",
   "metadata": {},
   "source": [
    "### Load data"
   ]
  },
  {
   "cell_type": "code",
   "execution_count": null,
   "metadata": {},
   "outputs": [],
   "source": [
    "sys.argv = f\"\"\"\n",
    ".\n",
    "--tensors /storage/shared/ecg/mgh\n",
    "--sample_csv {sample_csv}\n",
    "--input_tensors\n",
    "    ecg_patientid_clean_preop_newest\n",
    "    ecg_age_preop_newest\n",
    "    ecg_sex_preop_newest\n",
    "    ecg_rate_md_preop_newest\n",
    "    opcab\n",
    "    opvalve\n",
    "    opother\n",
    "    status\n",
    "    carshock\n",
    "    sts_death\n",
    "--explore_stratify_label\n",
    "    sts_death\n",
    "--output_folder /tmp\n",
    "--id explore\n",
    "\"\"\".split()\n",
    "args = parse_args()\n",
    "df = explore(args, disable_saving_output=True)"
   ]
  },
  {
   "cell_type": "markdown",
   "metadata": {},
   "source": [
    "##### Quantiles are determined such that each unique combination of stratification labels has at least 3 patients (at least 1 per train/valid/test). These quantiles are tuned by manually adjusting and checking the resulting groups."
   ]
  },
  {
   "cell_type": "code",
   "execution_count": null,
   "metadata": {},
   "outputs": [],
   "source": [
    "# Isolate patients >= 21, exclude bad ECGs, bin continuous values\n",
    "df['ecg_patientid_clean_preop_newest'] = df['ecg_patientid_clean_preop_newest'].astype(int)\n",
    "df = df[df['ecg_age_preop_newest'] >= 21]\n",
    "bad = pd.read_csv(os.path.expanduser('~/dropbox/sts-data/mgh-bad-ecgs.csv'))\n",
    "bad = bad[bad['Problem'] != 'None']\n",
    "df = df.merge(bad, how='outer', left_on='ecg_patientid_clean_preop_newest', right_on='MRN', indicator=True)\n",
    "df = df[df['_merge'] == 'left_only']"
   ]
  },
  {
   "cell_type": "code",
   "execution_count": null,
   "metadata": {},
   "outputs": [],
   "source": [
    "df['mrn'] = df['ecg_patientid_clean_preop_newest'].astype(int)\n",
    "df['death'] = df['sts_death'].astype(int)\n",
    "df['sex'] = df['ecg_sex_preop_newest_male'].astype(int)\n",
    "df['opcab'] = df['opcab']\n",
    "df['opvalve'] = df['opvalve']\n",
    "df['opother'] = df['opother']\n",
    "df['age'] = df['ecg_age_preop_newest']\n",
    "df['hr'] = df['ecg_rate_md_preop_newest']\n",
    "df['status_elective'] = df['status_status_1']\n",
    "df['status_urgent'] = df['status_status_2']\n",
    "df['status_emergent'] = df['status_status_3']\n",
    "df['status_salvage'] = df['status_status_4']\n",
    "df['shock'] = df['carshock']\n",
    "df = df[[\n",
    "    'mrn',\n",
    "    'death',\n",
    "    'sex',\n",
    "    'age',\n",
    "    'hr',\n",
    "    'opcab',\n",
    "    'opvalve',\n",
    "    'opother',\n",
    "    'status_elective',\n",
    "    'status_urgent',\n",
    "    'status_emergent',\n",
    "    'status_salvage',\n",
    "    'shock',\n",
    "]]\n",
    "\n",
    "# print_dataframe(df.groupby(['death', 'sex-male', 'age-quartile', 'heart-rate-tertile']).size())"
   ]
  },
  {
   "cell_type": "code",
   "execution_count": null,
   "metadata": {},
   "outputs": [],
   "source": [
    "_df = df.copy()\n",
    "num_age_bins = 4\n",
    "num_hr_bins = 3\n",
    "_df['age'], age_bins = pd.qcut(_df['age'], num_age_bins, retbins=True, labels=list(range(num_age_bins)))\n",
    "_df['hr'], hr_bins = pd.qcut(_df['hr'], num_hr_bins, retbins=True, labels=list(range(num_hr_bins)))\n",
    "# print_dataframe(_df.groupby(['death', 'age', 'opcab', 'opvalve', 'opother']).size())"
   ]
  },
  {
   "cell_type": "markdown",
   "metadata": {},
   "source": [
    "### Stratify across train, valid, test splits"
   ]
  },
  {
   "cell_type": "code",
   "execution_count": null,
   "metadata": {},
   "outputs": [],
   "source": [
    "def train_valid_test_split(\n",
    "    df: pd.DataFrame, \n",
    "    stratify_by: Union[str, List[str]], \n",
    "    test_ratio: float = 0.1, \n",
    "    valid_ratio: float = 0.2,\n",
    "    seed: int = None,\n",
    ") -> Tuple[pd.DataFrame, pd.DataFrame, pd.DataFrame]:    \n",
    "    assert not test_ratio + valid_ratio > 1\n",
    "    relative_valid_ratio = valid_ratio / (1 - test_ratio)\n",
    "\n",
    "    test_dfs = []\n",
    "    valid_dfs = []\n",
    "    train_dfs = []\n",
    "\n",
    "    gb = df.groupby(stratify_by)\n",
    "    \n",
    "    combine = []\n",
    "    groups = []\n",
    "    for name, group in gb:\n",
    "        tot = len(group)\n",
    "        if tot == 0:\n",
    "            continue\n",
    "            \n",
    "        if (name == (1, 1, 0.0, 0.0, 0.0) or\n",
    "            name == (1, 0, 0.0, 0.0, 0.0)):\n",
    "            combine.append(group)\n",
    "        else:\n",
    "            groups.append(group)\n",
    "            \n",
    "    if len(combine) > 0:\n",
    "        groups.append(pd.concat(combine))\n",
    "        \n",
    "    for group in groups:\n",
    "        tot = len(group)\n",
    "        n = int(test_ratio * tot) or 1\n",
    "        test_df = group.sample(n=n, replace=False, random_state=seed)\n",
    "        group = group.drop(test_df.index)\n",
    "\n",
    "        tot = len(group)\n",
    "        n = int(relative_valid_ratio * tot) or 1\n",
    "        valid_df = group.sample(n=n, replace=False, random_state=seed)\n",
    "        train_df = group.drop(valid_df.index)\n",
    "        \n",
    "        # Assert that group is represented in all splits\n",
    "        assert len(test_df) != 0\n",
    "        assert len(valid_df) != 0\n",
    "        assert len(train_df) != 0\n",
    "        test_dfs.append(test_df)\n",
    "        valid_dfs.append(valid_df)\n",
    "        train_dfs.append(train_df)\n",
    "\n",
    "    test_df = pd.concat(test_dfs)\n",
    "    valid_df = pd.concat(valid_dfs)\n",
    "    train_df = pd.concat(train_dfs)\n",
    "    \n",
    "    # Assert that all groups are represented in all splits\n",
    "    # train_groups = train_df.groupby(stratify_by)\n",
    "    # valid_groups = valid_df.groupby(stratify_by)\n",
    "    # test_groups = test_df.groupby(stratify_by)\n",
    "    # assert len(train_groups) == len(valid_groups) == len(test_groups)\n",
    "    \n",
    "    # Assert that split data exactly matches original data\n",
    "    cols = list(df.columns)\n",
    "    assert df.sort_values(cols).equals(pd.concat([train_df, valid_df, test_df]).sort_values(cols))\n",
    "\n",
    "    train_df = train_df.sample(frac=1, random_state=seed).reset_index(drop=True)\n",
    "    valid_df = valid_df.sample(frac=1, random_state=seed).reset_index(drop=True)\n",
    "    test_df = test_df.sample(frac=1, random_state=seed).reset_index(drop=True)\n",
    "    return train_df, valid_df, test_df"
   ]
  },
  {
   "cell_type": "markdown",
   "metadata": {},
   "source": [
    "### Stratify for bootstraps"
   ]
  },
  {
   "cell_type": "code",
   "execution_count": null,
   "metadata": {},
   "outputs": [],
   "source": [
    "for i in range(num_bootstraps):\n",
    "    total=0\n",
    "    train, valid, test = train_valid_test_split(\n",
    "        df=_df,\n",
    "        stratify_by=[\n",
    "            'death',\n",
    "            'age',\n",
    "            'opcab',\n",
    "            'opvalve',\n",
    "            'opother',\n",
    "        ],\n",
    "        test_ratio=0.1,\n",
    "        valid_ratio=0.2,\n",
    "        seed=i,\n",
    "    )\n",
    "    this_bootstrap = os.path.join(bootstrap_folder, str(i))\n",
    "    os.makedirs(this_bootstrap, exist_ok=True)\n",
    "\n",
    "    train.to_csv(os.path.join(this_bootstrap, \"train.csv\"), index=False)\n",
    "    total += train.shape[0]\n",
    "\n",
    "    valid.to_csv(os.path.join(this_bootstrap, \"valid.csv\"), index=False)\n",
    "    total += valid.shape[0]\n",
    "\n",
    "    test.to_csv(os.path.join(this_bootstrap, \"test.csv\"), index=False)\n",
    "    total += test.shape[0]\n",
    "    \n",
    "print(f\"All cases: N={total}\")"
   ]
  },
  {
   "cell_type": "markdown",
   "metadata": {},
   "source": [
    "### Save subcohort bootstraps"
   ]
  },
  {
   "cell_type": "code",
   "execution_count": null,
   "metadata": {},
   "outputs": [],
   "source": [
    "splits = ['train', 'valid', 'test']\n",
    "subcohorts = []"
   ]
  },
  {
   "cell_type": "code",
   "execution_count": null,
   "metadata": {},
   "outputs": [],
   "source": [
    "path_cabg = os.path.expanduser('~/dropbox/sts-data/bootstraps-cabg')\n",
    "filter_df = lambda df: df[(df['opcab'] == 1) & (df['opvalve'] == 0) & (df['opother'] == 0)]\n",
    "subcohorts.append((path_cabg, filter_df))"
   ]
  },
  {
   "cell_type": "code",
   "execution_count": null,
   "metadata": {},
   "outputs": [],
   "source": [
    "path_valve = os.path.expanduser('~/dropbox/sts-data/bootstraps-valve')\n",
    "filter_df = lambda df: df[(df['opcab'] == 0) & (df['opvalve'] == 1) & (df['opother'] == 0)]\n",
    "subcohorts.append((path_valve, filter_df))"
   ]
  },
  {
   "cell_type": "code",
   "execution_count": null,
   "metadata": {},
   "outputs": [],
   "source": [
    "path_cabg_valve = os.path.expanduser('~/dropbox/sts-data/bootstraps-cabg-valve')\n",
    "filter_df = lambda df: df[(df['opcab'] == 1) & (df['opvalve'] == 1) & (df['opother'] == 0)]\n",
    "subcohorts.append((path_cabg_valve, filter_df))"
   ]
  },
  {
   "cell_type": "code",
   "execution_count": null,
   "metadata": {},
   "outputs": [],
   "source": [
    "path_major = os.path.expanduser('~/dropbox/sts-data/bootstraps-major')\n",
    "filter_df = lambda df: df[\n",
    "    ((df['opcab'] == 1) & (df['opvalve'] == 0) & (df['opother'] == 0)) |\n",
    "    ((df['opcab'] == 0) & (df['opvalve'] == 1) & (df['opother'] == 0)) |\n",
    "    ((df['opcab'] == 1) & (df['opvalve'] == 1) & (df['opother'] == 0))\n",
    "]\n",
    "subcohorts.append((path_major, filter_df))"
   ]
  },
  {
   "cell_type": "code",
   "execution_count": null,
   "metadata": {},
   "outputs": [],
   "source": [
    "path_other = os.path.expanduser('~/dropbox/sts-data/bootstraps-other')\n",
    "filter_df = lambda df: df[df['opother'] == 1]\n",
    "subcohorts.append((path_other, filter_df))"
   ]
  },
  {
   "cell_type": "code",
   "execution_count": null,
   "metadata": {},
   "outputs": [],
   "source": [
    "path_office = os.path.expanduser('~/dropbox/sts-data/bootstraps-office')\n",
    "filter_df = lambda df: df[df['status_emergent'] == 0]\n",
    "filter_df = lambda df: df[df['status_salvage'] == 0]\n",
    "filter_df = lambda df: df[df['shock'] == 0]\n",
    "subcohorts.append((path_office, filter_df))"
   ]
  },
  {
   "cell_type": "code",
   "execution_count": null,
   "metadata": {},
   "outputs": [],
   "source": [
    "for path_subcohort, filter_df in subcohorts:\n",
    "    os.makedirs(path_subcohort, exist_ok=True)\n",
    "    print(f\"------------- {os.path.basename(path_subcohort).split('-')[1]} -------------\")\n",
    "    \n",
    "    for bootstrap in range(num_bootstraps):\n",
    "        original_bootstrap_dir = os.path.join(bootstrap_folder, str(bootstrap))\n",
    "        subcohort_bootstrap_dir = os.path.join(path_subcohort, str(bootstrap))\n",
    "        os.makedirs(subcohort_bootstrap_dir, exist_ok=True)\n",
    "        print(f\"Bootstrap {bootstrap}\")\n",
    "\n",
    "        total = 0\n",
    "        \n",
    "        for split in splits:\n",
    "            original_split_csv = os.path.join(original_bootstrap_dir, f\"{split}.csv\")\n",
    "            subcohort_split_csv = os.path.join(subcohort_bootstrap_dir, f\"{split}.csv\")\n",
    "\n",
    "            original_split_df = pd.read_csv(original_split_csv)\n",
    "            subcohort_split_df = filter_df(original_split_df)\n",
    "            subcohort_split_df.to_csv(subcohort_split_csv, index=False)\n",
    "\n",
    "            subcohort_split_died = len(subcohort_split_df[subcohort_split_df['death'] == 1])\n",
    "            subcohort_split_total = len(subcohort_split_df)\n",
    "            print(f\"\\t{subcohort_split_died:>5}/{subcohort_split_total:>5} = {subcohort_split_died/subcohort_split_total:0.4f}\")\n",
    "            \n",
    "            total += subcohort_split_df.shape[0]\n",
    "\n",
    "    print(f\"{path_subcohort} N={total}\")"
   ]
  },
  {
   "cell_type": "markdown",
   "metadata": {},
   "source": [
    "### Report distribution of each stratify label"
   ]
  },
  {
   "cell_type": "code",
   "execution_count": null,
   "metadata": {},
   "outputs": [],
   "source": [
    "def print_label_prevalence(train: pd.DataFrame, valid: pd.DataFrame, test: pd.DataFrame, label: str):\n",
    "    concat = pd.concat([train, valid, test], keys=['train', 'valid', 'test']).reset_index(0).rename({'level_0': 'split'}, axis=1)\n",
    "    concat['split'] = pd.Categorical(concat['split'], [\"train\", \"valid\", \"test\"])\n",
    "    grouped = concat.groupby([label, 'split']).size()\n",
    "    print_dataframe(grouped.groupby(level=1).apply(lambda x: 100 * x / float(x.sum())))\n",
    "    print()"
   ]
  },
  {
   "cell_type": "code",
   "execution_count": null,
   "metadata": {},
   "outputs": [],
   "source": [
    "for label in ['death', 'age', 'opcab', 'opvalve', 'opother',  'status_emergent', 'status_salvage', 'shock',]:\n",
    "    print_label_prevalence(train, valid, test, label)"
   ]
  }
 ],
 "metadata": {
  "kernelspec": {
   "display_name": "Python 3",
   "language": "python",
   "name": "python3"
  },
  "language_info": {
   "codemirror_mode": {
    "name": "ipython",
    "version": 3
   },
   "file_extension": ".py",
   "mimetype": "text/x-python",
   "name": "python",
   "nbconvert_exporter": "python",
   "pygments_lexer": "ipython3",
   "version": "3.8.0"
  }
 },
 "nbformat": 4,
 "nbformat_minor": 4
}
