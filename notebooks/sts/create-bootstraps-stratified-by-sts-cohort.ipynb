{
 "cells": [
  {
   "cell_type": "markdown",
   "metadata": {},
   "source": [
    "### Configuration"
   ]
  },
  {
   "cell_type": "code",
   "execution_count": null,
   "metadata": {},
   "outputs": [],
   "source": [
    "import os\n",
    "\n",
    "num_bootstraps = 10\n",
    "bootstrap_folder = os.path.expanduser(\"~/dropbox/sts-data/bootstraps-intersect-ecg-age-sex-metadata-newest\")\n",
    "patient_csv = os.path.expanduser(\"~/dropbox/sts-data/sts-intersect-ecg-age-sex-metadata-newest.csv\")"
   ]
  },
  {
   "cell_type": "code",
   "execution_count": null,
   "metadata": {},
   "outputs": [],
   "source": [
    "import sys\n",
    "import math\n",
    "import numpy as np\n",
    "import pandas as pd\n",
    "from ml4c3.arguments import parse_args\n",
    "from ml4c3.explorations import explore\n",
    "from typing import List, Tuple, Union\n",
    "from collections import defaultdict\n",
    "\n",
    "def print_dataframe(df):\n",
    "    \"\"\"\n",
    "    Display entire dataframe, be careful of printing very large dataframes\n",
    "    \"\"\"\n",
    "    with pd.option_context('display.max_rows', None, 'display.max_columns', None, 'display.width', None, 'display.max_colwidth', -1):\n",
    "        print(df)"
   ]
  },
  {
   "cell_type": "markdown",
   "metadata": {},
   "source": [
    "### Load data"
   ]
  },
  {
   "cell_type": "code",
   "execution_count": null,
   "metadata": {},
   "outputs": [],
   "source": [
    "# Get dataframe of surgeries with preop ECGs\n",
    "sys.argv = f\"\"\"\n",
    ". explore\n",
    "--tensors /storage/shared/ecg/mgh\n",
    "--patient_csv {patient_csv}\n",
    "--input_tensors\n",
    "    ecg_patientid_clean_preop_newest\n",
    "    age_with_preop_ecg_newest\n",
    "    gender_with_preop_ecg_newest\n",
    "    opcab_with_preop_ecg_newest\n",
    "    opvalve_with_preop_ecg_newest\n",
    "    opother_with_preop_ecg_newest\n",
    "    status_with_preop_ecg_newest\n",
    "    predmort_with_preop_ecg_newest\n",
    "    sts_death_with_preop_ecg_newest\n",
    "--output_folder /tmp/explore\n",
    "\"\"\".split()\n",
    "args = parse_args()\n",
    "df = explore(args, disable_saving_output=True)\n",
    "df = df.dropna(subset=['ecg_patientid_clean_preop_newest'])\n",
    "\n",
    "# Isolate patients >= 21, exclude bad ECGs, bin continuous values\n",
    "df['ecg_patientid_clean_preop_newest'] = df['ecg_patientid_clean_preop_newest'].astype(int)\n",
    "df = df[df['age_with_preop_ecg_newest'] >= 21]\n",
    "bad = pd.read_csv(os.path.expanduser('~/dropbox/sts-data/mgh-bad-ecgs.csv'))\n",
    "bad = bad[bad['Problem'] != 'None']\n",
    "df = df.merge(bad, how='outer', left_on='ecg_patientid_clean_preop_newest', right_on='MRN', indicator=True)\n",
    "df = df[df['_merge'] == 'left_only']\n",
    "\n",
    "# Clean columns\n",
    "df['mrn'] = df['ecg_patientid_clean_preop_newest'].astype(int)\n",
    "df['death'] = df['sts_death_with_preop_ecg_newest'].astype(int)\n",
    "df['age'] = df['age_with_preop_ecg_newest']\n",
    "df['sex'] = df['gender_with_preop_ecg_newest'].astype(int)\n",
    "df['opcab'] = df['opcab_with_preop_ecg_newest'].astype(int)\n",
    "df['opvalve'] = df['opvalve_with_preop_ecg_newest'].astype(int)\n",
    "df['opother'] = df['opother_with_preop_ecg_newest'].astype(int)\n",
    "df['status_elective'] = df['status_with_preop_ecg_newest_status_1'].astype(int)\n",
    "df['status_urgent'] = df['status_with_preop_ecg_newest_status_2'].astype(int)\n",
    "df['status_emergent'] = df['status_with_preop_ecg_newest_status_3'].astype(int)\n",
    "df['status_salvage'] = df['status_with_preop_ecg_newest_status_4'].astype(int)\n",
    "df['predmort'] = df['predmort_with_preop_ecg_newest']\n",
    "df['opmajor'] = (df['opcab'] | df['opvalve']) & ~df['opother']\n",
    "df['preop_ecg'] = 1\n",
    "df = df[[\n",
    "    'mrn',\n",
    "    'death',\n",
    "    'age',\n",
    "    'sex',\n",
    "    'opmajor',\n",
    "    'opcab',\n",
    "    'opvalve',\n",
    "    'opother',\n",
    "    'status_elective',\n",
    "    'status_urgent',\n",
    "    'status_emergent',\n",
    "    'status_salvage',\n",
    "    'predmort',\n",
    "    'preop_ecg',\n",
    "]]\n",
    "df_ecg = df.sort_values('mrn').reset_index(drop=True)"
   ]
  },
  {
   "cell_type": "code",
   "execution_count": null,
   "metadata": {},
   "outputs": [],
   "source": [
    "# Get dataframe of surgeries with no preop ECGs, using the newest surgery for patients with multiple surgeries\n",
    "d = pd.read_csv(patient_csv)\n",
    "d = d.sort_values(['medrecn', 'surgdt'])\n",
    "d = d.drop_duplicates('medrecn', keep='last').reset_index(drop=True)\n",
    "d = d[~d['medrecn'].isin(df['mrn'])]\n",
    "\n",
    "# Clean columns\n",
    "d['mrn'] = d['medrecn'].astype(int)\n",
    "d['death'] = d['mtopd']\n",
    "d['sex'] = (d['gender'] == 1).astype(int)\n",
    "d['opcab'] = d['opcab'].astype(int)\n",
    "d['opvalve'] = d['opvalve'].astype(int)\n",
    "d['opother'] = d['opother'].astype(int)\n",
    "d['opmajor'] = (d['opcab'] | d['opvalve']) & ~d['opother']\n",
    "d['status_elective'] = (d['status'] == 1).astype(int)\n",
    "d['status_urgent'] = (d['status'] == 2).astype(int)\n",
    "d['status_emergent'] = (d['status'] == 3).astype(int)\n",
    "d['status_salvage'] = (d['status'] == 4).astype(int)\n",
    "d['preop_ecg'] = 0\n",
    "d = d[[\n",
    "    'mrn',\n",
    "    'death',\n",
    "    'age',\n",
    "    'sex',\n",
    "    'opmajor',\n",
    "    'opcab',\n",
    "    'opvalve',\n",
    "    'opother',\n",
    "    'status_elective',\n",
    "    'status_urgent',\n",
    "    'status_emergent',\n",
    "    'status_salvage',\n",
    "    'predmort',\n",
    "    'preop_ecg',\n",
    "]]\n",
    "\n",
    "# Create dataframe of all surgeries\n",
    "df_all = pd.concat([df, d]).sort_values('mrn').reset_index(drop=True)"
   ]
  },
  {
   "cell_type": "code",
   "execution_count": null,
   "metadata": {},
   "outputs": [],
   "source": [
    "_df_all = df_all.copy()\n",
    "num_age_bins = 4\n",
    "age_labels = list(range(num_age_bins))\n",
    "_df_all['age'], age_bins = pd.qcut(_df_all['age'], num_age_bins, retbins=True, labels=age_labels)"
   ]
  },
  {
   "cell_type": "markdown",
   "metadata": {},
   "source": [
    "### Stratify across train, valid, test splits"
   ]
  },
  {
   "cell_type": "code",
   "execution_count": null,
   "metadata": {},
   "outputs": [],
   "source": [
    "def train_valid_test_split(\n",
    "    df: pd.DataFrame,\n",
    "    stratify_by: Union[str, List[str]], \n",
    "    test_ratio: float = 0.1, \n",
    "    valid_ratio: float = 0.2,\n",
    "    seed: int = None,\n",
    ") -> Tuple[pd.DataFrame, pd.DataFrame, pd.DataFrame]:    \n",
    "    assert not test_ratio + valid_ratio > 1\n",
    "    relative_valid_ratio = valid_ratio / (1 - test_ratio)\n",
    "\n",
    "    test_dfs = []\n",
    "    valid_dfs = []\n",
    "    train_dfs = []\n",
    "\n",
    "    gb = df.groupby(stratify_by)\n",
    "\n",
    "    combine = defaultdict(list)\n",
    "    groups = []\n",
    "    for name, group in gb:\n",
    "        tot = len(group)\n",
    "        if tot == 0:\n",
    "            continue\n",
    "\n",
    "        # custom groupings\n",
    "        if tot < 3:\n",
    "            needs_group = True\n",
    "            if name[0] == 1: # died\n",
    "                if name[3:] == (1, 1, 1): # major, elective, with preop ecg\n",
    "                    combine[\"died, major, elective, preop ecg\"].append(group)\n",
    "                    needs_group = False\n",
    "                elif name[3:] == (1, 1, 0): # major, elective, no preop ecg\n",
    "                    combine[\"died, major, elective, no ecg\"].append(group)\n",
    "                    needs_group = False\n",
    "                elif name[3:] == (0, 1, 0): # other, elective, no preop ecg\n",
    "                    combine[\"died, other, elective, no ecg\"].append(group)\n",
    "                    needs_group = False\n",
    "\n",
    "            if needs_group:\n",
    "                print(name)\n",
    "                print_dataframe(group['mrn'].count())\n",
    "        else:\n",
    "            groups.append(group)\n",
    "\n",
    "    for combine_name, combine_dfs in combine.items():\n",
    "        combined = pd.concat(combine_dfs)\n",
    "        if seed == 0:\n",
    "            print(f\"Combined {len(combine_dfs)} {combine_name} groups into 1 group of size {len(combined)}\")\n",
    "        groups.append(combined)\n",
    "\n",
    "    for group in groups:\n",
    "        tot = len(group)\n",
    "        n = int(test_ratio * tot) or 1\n",
    "        test_df = group.sample(n=n, replace=False, random_state=seed)\n",
    "        group = group.drop(test_df.index)\n",
    "\n",
    "        tot = len(group)\n",
    "        n = int(relative_valid_ratio * tot) or 1\n",
    "        valid_df = group.sample(n=n, replace=False, random_state=seed)\n",
    "        train_df = group.drop(valid_df.index)\n",
    "\n",
    "        # Assert that group is represented in all splits\n",
    "        assert len(test_df) != 0\n",
    "        assert len(valid_df) != 0\n",
    "        assert len(train_df) != 0\n",
    "        test_dfs.append(test_df)\n",
    "        valid_dfs.append(valid_df)\n",
    "        train_dfs.append(train_df)\n",
    "\n",
    "    test_df = pd.concat(test_dfs)\n",
    "    valid_df = pd.concat(valid_dfs)\n",
    "    train_df = pd.concat(train_dfs)\n",
    "\n",
    "    # Assert that split data exactly matches original data\n",
    "    cols = list(df.columns)\n",
    "    assert df.sort_values(cols).equals(pd.concat([train_df, valid_df, test_df]).sort_values(cols))\n",
    "\n",
    "    train_df = train_df.sample(frac=1, random_state=seed).reset_index(drop=True)\n",
    "    valid_df = valid_df.sample(frac=1, random_state=seed).reset_index(drop=True)\n",
    "    test_df = test_df.sample(frac=1, random_state=seed).reset_index(drop=True)\n",
    "    return train_df, valid_df, test_df"
   ]
  },
  {
   "cell_type": "code",
   "execution_count": null,
   "metadata": {},
   "outputs": [],
   "source": [
    "_df_all = pd.read_csv(patient_csv, low_memory=False)\n",
    "_df_all"
   ]
  },
  {
   "cell_type": "markdown",
   "metadata": {},
   "source": [
    "### Stratify for bootstraps"
   ]
  },
  {
   "cell_type": "code",
   "execution_count": null,
   "metadata": {},
   "outputs": [],
   "source": [
    "for i in range(num_bootstraps):\n",
    "    total=0\n",
    "    train, valid, test = train_valid_test_split(\n",
    "        df=_df_all,\n",
    "        stratify_by=[\n",
    "            'death',\n",
    "            'age',\n",
    "            'sex',\n",
    "#             'opmajor',\n",
    "#             'status_elective',\n",
    "#             'preop_ecg',\n",
    "        ],\n",
    "        test_ratio=0.1,\n",
    "        valid_ratio=0.1,\n",
    "        seed=i,\n",
    "    )\n",
    "    this_bootstrap = os.path.join(bootstrap_folder, str(i))\n",
    "    os.makedirs(this_bootstrap, exist_ok=True)\n",
    "\n",
    "    train.to_csv(os.path.join(this_bootstrap, \"train.csv\"), index=False)\n",
    "    total += train.shape[0]\n",
    "\n",
    "    valid.to_csv(os.path.join(this_bootstrap, \"valid.csv\"), index=False)\n",
    "    total += valid.shape[0]\n",
    "\n",
    "    test.to_csv(os.path.join(this_bootstrap, \"test.csv\"), index=False)\n",
    "    total += test.shape[0]\n",
    "\n",
    "print(f\"All cases: N={total}\")"
   ]
  },
  {
   "cell_type": "markdown",
   "metadata": {},
   "source": [
    "### Save subcohort bootstraps"
   ]
  },
  {
   "cell_type": "code",
   "execution_count": null,
   "metadata": {},
   "outputs": [],
   "source": [
    "filter_df = lambda df, lambda_func: df[lambda_func(df)]\n",
    "\n",
    "ecg = lambda df: df['preop_ecg'] == 1\n",
    "major = lambda df: df['opmajor'] == 1\n",
    "other = lambda df: df['opmajor'] == 0 # opmajor calculated above\n",
    "elective = lambda df: df['status_elective'] == 1\n",
    "\n",
    "# bootstraps-all (above)\n",
    "# bootstraps-major\n",
    "# bootstraps-major-elective\n",
    "# bootstraps-other\n",
    "# bootstraps-other-elective\n",
    "# bootstraps-ecg\n",
    "# bootstraps-ecg-major\n",
    "# bootstraps-ecg-major-elective\n",
    "# bootstraps-ecg-other\n",
    "# bootstraps-ecg-other-elective"
   ]
  },
  {
   "cell_type": "code",
   "execution_count": null,
   "metadata": {},
   "outputs": [],
   "source": [
    "splits = ['train', 'valid', 'test']\n",
    "subcohorts = ["
   ]
  },
  {
   "cell_type": "code",
   "execution_count": null,
   "metadata": {},
   "outputs": [],
   "source": [
    "path = os.path.expanduser('~/dropbox/sts-data/bootstraps-major')\n",
    "lambda_func_major = lambda df: major(df)\n",
    "subcohorts.append((path, lambda df: filter_df(df, lambda_func_major)))"
   ]
  },
  {
   "cell_type": "code",
   "execution_count": null,
   "metadata": {},
   "outputs": [],
   "source": [
    "path = os.path.expanduser('~/dropbox/sts-data/bootstraps-major-elective')\n",
    "lambda_func_major_elective = lambda df: major(df) & elective(df)\n",
    "subcohorts.append((path, lambda df: filter_df(df, lambda_func_major_elective)))"
   ]
  },
  {
   "cell_type": "code",
   "execution_count": null,
   "metadata": {},
   "outputs": [],
   "source": [
    "path = os.path.expanduser('~/dropbox/sts-data/bootstraps-other')\n",
    "lambda_func_other = lambda df: other(df)\n",
    "subcohorts.append((path, lambda df: filter_df(df, lambda_func_other)))"
   ]
  },
  {
   "cell_type": "code",
   "execution_count": null,
   "metadata": {},
   "outputs": [],
   "source": [
    "path = os.path.expanduser('~/dropbox/sts-data/bootstraps-other-elective')\n",
    "lambda_func_other_elective = lambda df: other(df) & elective(df)\n",
    "subcohorts.append((path, lambda df: filter_df(df, lambda_func_other_elective)))"
   ]
  },
  {
   "cell_type": "code",
   "execution_count": null,
   "metadata": {},
   "outputs": [],
   "source": [
    "path = os.path.expanduser('~/dropbox/sts-data/bootstraps-ecg')\n",
    "lambda_func_ecg = lambda df: ecg(df)\n",
    "subcohorts.append((path, lambda df: filter_df(df, lambda_func_ecg)))"
   ]
  },
  {
   "cell_type": "code",
   "execution_count": null,
   "metadata": {},
   "outputs": [],
   "source": [
    "path = os.path.expanduser('~/dropbox/sts-data/bootstraps-ecg-major')\n",
    "lambda_func_ecg_major = lambda df: major(df) & ecg(df)\n",
    "subcohorts.append((path, lambda df: filter_df(df, lambda_func_ecg_major)))"
   ]
  },
  {
   "cell_type": "code",
   "execution_count": null,
   "metadata": {},
   "outputs": [],
   "source": [
    "path = os.path.expanduser('~/dropbox/sts-data/bootstraps-ecg-major-elective')\n",
    "lambda_func_ecg_major_elective = lambda df: major(df) & elective(df) & ecg(df)\n",
    "subcohorts.append((path, lambda df: filter_df(df, lambda_func_ecg_major_elective)))"
   ]
  },
  {
   "cell_type": "code",
   "execution_count": null,
   "metadata": {},
   "outputs": [],
   "source": [
    "path = os.path.expanduser('~/dropbox/sts-data/bootstraps-ecg-other')\n",
    "lambda_func_ecg_other = lambda df: other(df) & ecg(df)\n",
    "subcohorts.append((path, lambda df: filter_df(df, lambda_func_ecg_other)))"
   ]
  },
  {
   "cell_type": "code",
   "execution_count": null,
   "metadata": {},
   "outputs": [],
   "source": [
    "path = os.path.expanduser('~/dropbox/sts-data/bootstraps-ecg-other-elective')\n",
    "lambda_func_ecg_other_elective = lambda df: other(df) & elective(df) & ecg(df)\n",
    "subcohorts.append((path, lambda df: filter_df(df, lambda_func_ecg_other_elective)))"
   ]
  },
  {
   "cell_type": "code",
   "execution_count": null,
   "metadata": {},
   "outputs": [],
   "source": [
    "for path_subcohort, subcohort_filter in subcohorts:\n",
    "    os.makedirs(path_subcohort, exist_ok=True)\n",
    "    print(f\"------------- {os.path.basename(path_subcohort)[15:]} -------------\")\n",
    "    \n",
    "    for bootstrap in range(num_bootstraps):\n",
    "        original_bootstrap_dir = os.path.join(bootstrap_folder, str(bootstrap))\n",
    "        subcohort_bootstrap_dir = os.path.join(path_subcohort, str(bootstrap))\n",
    "        os.makedirs(subcohort_bootstrap_dir, exist_ok=True)\n",
    "        print(f\"Bootstrap {bootstrap}\")\n",
    "\n",
    "        total = 0\n",
    "        \n",
    "        for split in splits:\n",
    "            original_split_csv = os.path.join(original_bootstrap_dir, f\"{split}.csv\")\n",
    "            subcohort_split_csv = os.path.join(subcohort_bootstrap_dir, f\"{split}.csv\")\n",
    "\n",
    "            original_split_df = pd.read_csv(original_split_csv)\n",
    "            subcohort_split_df = subcohort_filter(original_split_df)\n",
    "            subcohort_split_df.to_csv(subcohort_split_csv, index=False)\n",
    "\n",
    "            subcohort_split_died = len(subcohort_split_df[subcohort_split_df['death'] == 1])\n",
    "            subcohort_split_total = len(subcohort_split_df)\n",
    "            print(f\"\\t{subcohort_split_died:>5}/{subcohort_split_total:>5} = {subcohort_split_died/subcohort_split_total:0.4f}\")\n",
    "            \n",
    "            total += subcohort_split_df.shape[0]\n",
    "\n",
    "    print(f\"{path_subcohort} N={total}\")"
   ]
  },
  {
   "cell_type": "markdown",
   "metadata": {},
   "source": [
    "### Report distribution of each stratify label"
   ]
  },
  {
   "cell_type": "code",
   "execution_count": null,
   "metadata": {},
   "outputs": [],
   "source": [
    "def print_label_prevalence(train: pd.DataFrame, valid: pd.DataFrame, test: pd.DataFrame, label: str):\n",
    "    concat = pd.concat([train, valid, test], keys=['train', 'valid', 'test']).reset_index(0).rename({'level_0': 'split'}, axis=1)\n",
    "    concat['split'] = pd.Categorical(concat['split'], [\"train\", \"valid\", \"test\"])\n",
    "    grouped = concat.groupby([label, 'split']).size()\n",
    "    print_dataframe(grouped.groupby(level=1).apply(lambda x: 100 * x / float(x.sum())))\n",
    "    print()"
   ]
  },
  {
   "cell_type": "code",
   "execution_count": null,
   "metadata": {},
   "outputs": [],
   "source": [
    "for label in ['death', 'age', 'sex', 'opmajor', 'status_elective', 'preop_ecg']:\n",
    "    print_label_prevalence(train, valid, test, label)"
   ]
  }
 ],
 "metadata": {
  "kernelspec": {
   "display_name": "Python 3",
   "language": "python",
   "name": "python3"
  },
  "language_info": {
   "codemirror_mode": {
    "name": "ipython",
    "version": 3
   },
   "file_extension": ".py",
   "mimetype": "text/x-python",
   "name": "python",
   "nbconvert_exporter": "python",
   "pygments_lexer": "ipython3",
   "version": "3.8.0"
  }
 },
 "nbformat": 4,
 "nbformat_minor": 4
}
