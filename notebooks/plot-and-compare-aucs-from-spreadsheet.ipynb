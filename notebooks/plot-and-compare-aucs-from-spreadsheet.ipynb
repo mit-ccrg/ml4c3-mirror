{
 "cells": [
  {
   "cell_type": "code",
   "execution_count": null,
   "metadata": {},
   "outputs": [],
   "source": [
    "import os\n",
    "import csv\n",
    "import numpy as np\n",
    "import pandas as pd\n",
    "import seaborn as sns\n",
    "import matplotlib.pyplot as plt\n",
    "from scipy import stats\n",
    "%matplotlib widget"
   ]
  },
  {
   "cell_type": "code",
   "execution_count": null,
   "metadata": {},
   "outputs": [],
   "source": [
    "sns.set_style(\"whitegrid\")\n",
    "sns.set_context(\"talk\")\n",
    "sns.set_palette(\"pastel\")\n",
    "fig_height = 5"
   ]
  },
  {
   "cell_type": "code",
   "execution_count": null,
   "metadata": {},
   "outputs": [],
   "source": [
    "# plots mean AUC +/- std for each model\n",
    "# Inputs: model names as a list, Pandas DataFrame of exported results CSV from Google Spreadsheets\n",
    "\n",
    "def plot_performance(\n",
    "    model_names: list,\n",
    "    df: pd.DataFrame,\n",
    "    fpath_bar_plot: str,\n",
    "    y_min: float = 0.7,\n",
    "    y_max: float = 0.95):\n",
    "    y_delta = 0.05\n",
    "    \n",
    "    stats = {model: {'aucs': [], 'mean': 0, 'std': 0} for model in model_names}\n",
    "\n",
    "    for model in model_names:\n",
    "        aucs = []\n",
    "        for bootstrap in range(10):\n",
    "            auc_str = df[df['parameter'] == bootstrap][model].values[0]\n",
    "            aucs.append(float(auc_str))\n",
    "\n",
    "        stats[model]['aucs'] = aucs    \n",
    "        stats[model]['mean'] = np.mean(aucs)\n",
    "        stats[model]['std'] = np.std(aucs)\n",
    "        \n",
    "    means = [stats[model]['mean'] for model in model_names]\n",
    "    stds = [stats[model]['std'] for model in model_names]\n",
    "        \n",
    "    fig_width = len(model_names) * 1.2\n",
    "    fig, ax = plt.subplots(figsize=(fig_width, fig_height))\n",
    "    x_pos = np.arange(len(model_names))\n",
    "    \n",
    "    bar = sns.barplot(x=x_pos, y=means, yerr=stds)\n",
    "    ax.set_ylabel('AUC')\n",
    "    ax.set_ylim([y_min, y_max])\n",
    "    ax.set_yticks(np.arange(y_min, y_max+0.01, y_delta))\n",
    "    \n",
    "    ax.set_xticks(range(len(model_names)))\n",
    "    ax.set_xticklabels(model_names)\n",
    "\n",
    "    offset = -0.02 * len(model_names)\n",
    "    for i, v in enumerate(means):\n",
    "        plt.text(x_pos[i]+offset, y_min + 0.01, f'{v:0.2f}')\n",
    "    plt.xticks(rotation=90)\n",
    "    plt.tight_layout()"
   ]
  },
  {
   "cell_type": "markdown",
   "metadata": {},
   "source": [
    "## Load CSVs and concatenate horizontally into one wide dataframe"
   ]
  },
  {
   "cell_type": "code",
   "execution_count": null,
   "metadata": {},
   "outputs": [],
   "source": [
    "csv_filenames = ['stsnet']\n",
    "rootdir = os.path.expanduser(\"~/dropbox/sts-ecg/figures-and-tables\")\n",
    "df = pd.DataFrame()\n",
    "for csv_filename in csv_filenames:\n",
    "    fpath = os.path.join(rootdir, f\"{csv_filename}.csv\")\n",
    "    df = pd.concat([df, pd.read_csv(fpath)], axis=1)\n",
    "\n",
    "df.rename(columns={'Unnamed: 0':'parameter'}, inplace=True )"
   ]
  },
  {
   "cell_type": "code",
   "execution_count": null,
   "metadata": {},
   "outputs": [],
   "source": [
    "models_to_plot = [\n",
    "    'stsnet-v034 (death)',\n",
    "    'stsnet-v034 (stroke)',\n",
    "    'stsnet-v034 (renal)',\n",
    "    'stsnet-v034 (vent)',\n",
    "    'stsnet-v034 (dsw)',\n",
    "    'stsnet-v034 (reop)',\n",
    "    'stsnet-v034 (stay)',\n",
    "    'stsnet-v034 (afib)',\n",
    "]\n",
    "\n",
    "fpath_bar_plot = os.path.join(rootdir, \"aucs.png\")\n",
    "plot_performance(\n",
    "    model_names=models_to_plot,\n",
    "    df=df,\n",
    "    fpath_bar_plot=fpath_bar_plot,\n",
    "    y_min=0.5,\n",
    "    y_max=0.9,\n",
    ")"
   ]
  },
  {
   "cell_type": "markdown",
   "metadata": {},
   "source": [
    "## Compare AUCs via t-test"
   ]
  },
  {
   "cell_type": "code",
   "execution_count": null,
   "metadata": {},
   "outputs": [],
   "source": [
    "fpath = os.path.join(rootdir, \"STS ECG models and results - architecture_and_results_4.csv\")\n",
    "\n",
    "# Load results CSV into dataframe\n",
    "df = pd.read_csv(fpath, index_col=0)\n",
    "\n",
    "print(f\"Loaded dataframe from {fpath} with keys:\\n\")\n",
    "for key in df.keys():\n",
    "    print(f\"\\t{key}\")"
   ]
  },
  {
   "cell_type": "code",
   "execution_count": null,
   "metadata": {},
   "outputs": [],
   "source": [
    "def get_aucs_from_column(df: pd.DataFrame, col_name: str, bootstraps: int = 10) -> list:\n",
    "    \"\"\"Given a dataframe and model name (col_name),\n",
    "    extracts the AUCs and casts to list of floats\"\"\"\n",
    "    aucs = []\n",
    "    if col_name not in df:\n",
    "        return aucs\n",
    "    for bootstrap in range(bootstraps):\n",
    "        try:\n",
    "            auc = df[col_name].loc[str(bootstrap)]\n",
    "            aucs.append(float(auc))\n",
    "        except:\n",
    "            aucs.append(np.nan)\n",
    "            print(f\"no valid auc found at bootstrap {bootstrap}\")\n",
    "    return aucs"
   ]
  },
  {
   "cell_type": "code",
   "execution_count": null,
   "metadata": {},
   "outputs": [],
   "source": [
    "# Get AUCs from dataframe as a dict (keyed by model name) of lists of floats\n",
    "aucs = {}\n",
    "for model in df.keys():\n",
    "    aucs[model] = get_aucs_from_column(df=df, col_name=model, bootstraps=10)"
   ]
  },
  {
   "cell_type": "code",
   "execution_count": null,
   "metadata": {},
   "outputs": [],
   "source": [
    "model_1 = 'v14'\n",
    "model_2 = 'v14-new-bootstraps'\n",
    "\n",
    "models_to_plot = [model_1, model_2]\n",
    "fpath_bar_plot = os.path.join(rootdir, \"aucs-compare-v14.png\")\n",
    "plot_performance(\n",
    "    model_names=models_to_plot,\n",
    "    df=df,\n",
    "    fpath_bar_plot=fpath_bar_plot,\n",
    "    y_min=0.65,\n",
    "    y_max= 0.80,\n",
    ")\n",
    "\n",
    "statistic, p_val = stats.ttest_rel(aucs[model_1], aucs[model_2])\n",
    "print(f\"mean AUC = {np.mean(aucs[model_1]):0.3f} ± {np.std(aucs[model_1]):0.3f} from model {model_1} \")\n",
    "print(f\"mean AUC = {np.mean(aucs[model_2]):0.3f} ± {np.std(aucs[model_2]):0.3f} from model {model_2} \")\n",
    "print(f\"p-value = {p_val:0.3f}\")"
   ]
  },
  {
   "cell_type": "code",
   "execution_count": null,
   "metadata": {},
   "outputs": [],
   "source": [
    "model_1 = 'shallow-sts-preop'\n",
    "model_2 = 'deep-sts-preop-v8'\n",
    "\n",
    "models_to_plot = [model_1, model_2]\n",
    "fpath_bar_plot = os.path.join(rootdir, \"aucs-compare-preop.png\")\n",
    "plot_performance(\n",
    "    model_names=models_to_plot,\n",
    "    df=df,\n",
    "    fpath_bar_plot=fpath_bar_plot,\n",
    "    y_min=0.75,\n",
    "    y_max= 0.95,\n",
    ")\n",
    "\n",
    "statistic, p_val = stats.ttest_rel(aucs[model_1], aucs[model_2])\n",
    "print(f\"mean AUC = {np.mean(aucs[model_1]):0.3f} ± {np.std(aucs[model_1]):0.3f} from model {model_1} \")\n",
    "print(f\"mean AUC = {np.mean(aucs[model_2]):0.3f} ± {np.std(aucs[model_2]):0.3f} from model {model_2} \")\n",
    "print(f\"p-value = {p_val:0.3f}\")"
   ]
  }
 ],
 "metadata": {
  "kernelspec": {
   "display_name": "Python 3",
   "language": "python",
   "name": "python3"
  },
  "language_info": {
   "codemirror_mode": {
    "name": "ipython",
    "version": 3
   },
   "file_extension": ".py",
   "mimetype": "text/x-python",
   "name": "python",
   "nbconvert_exporter": "python",
   "pygments_lexer": "ipython3",
   "version": "3.6.9"
  }
 },
 "nbformat": 4,
 "nbformat_minor": 4
}
