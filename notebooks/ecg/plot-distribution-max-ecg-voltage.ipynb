{
 "cells": [
  {
   "cell_type": "code",
   "execution_count": null,
   "metadata": {},
   "outputs": [],
   "source": [
    "import h5py\n",
    "import pandas as pd\n",
    "import numpy as np\n",
    "import os\n",
    "import datetime\n",
    "from tqdm import tqdm"
   ]
  },
  {
   "cell_type": "code",
   "execution_count": null,
   "metadata": {},
   "outputs": [],
   "source": [
    "! pip install nb_black"
   ]
  },
  {
   "cell_type": "code",
   "execution_count": null,
   "metadata": {},
   "outputs": [],
   "source": [
    "%load_ext lab_black"
   ]
  },
  {
   "cell_type": "code",
   "execution_count": null,
   "metadata": {},
   "outputs": [],
   "source": [
    "where_dict = {}\n",
    "where_dict[\"quanta\"] = \"/storage/shared/ecg/mgh/\"\n",
    "LEADS = [\"I\", \"II\", \"III\", \"aVR\", \"aVL\", \"aVF\", \"V1\", \"V2\", \"V3\", \"V4\", \"V5\", \"V6\"]\n",
    "\n",
    "\n",
    "def get_ecg(name, path=True, date=False, machine=\"quanta\"):\n",
    "    if path:\n",
    "        full_loc = name\n",
    "    else:\n",
    "        # go to hd5 on quanta\n",
    "        try:\n",
    "            base_loc = where_dict[machine]\n",
    "        except KeyError:\n",
    "            raise Exception(\n",
    "                \"Please enter a valid machine id, which include: \"\n",
    "                + str(list(where_dict))\n",
    "            )\n",
    "        full_loc = base_loc + str(name) + \".hd5\"\n",
    "\n",
    "    with h5py.File(full_loc, \"r\") as f:\n",
    "        if \"ecg\" not in f:\n",
    "            print(f\"{full_loc} lacks ECG key in HD5!\")\n",
    "            voltage = np.nan\n",
    "        else:\n",
    "            date_list = list(f[\"ecg\"].keys())\n",
    "            dtime_list = [\n",
    "                datetime.datetime.strptime(d, \"%Y-%m-%dT%H:%M:%S\") for d in date_list\n",
    "            ]\n",
    "            d_list = [d.strftime(\"%Y-%m-%d\") for d in dtime_list]\n",
    "            # print([d==date for d in d_list])\n",
    "            # print(d_list)\n",
    "            if date:\n",
    "                which_dates = np.where(np.array(d_list) == date)\n",
    "                # print(which_dates)\n",
    "                which_date = which_dates[0]  # TODO pick best ECG, or look at them all\n",
    "                # print(which_date)\n",
    "                if not len(which_date):\n",
    "                    raise KeyError(\"ECG on the given date not found.\")\n",
    "                which_date = which_date[0]\n",
    "            else:\n",
    "                which_date = np.argmax(dtime_list)\n",
    "            test_lead = f[\"ecg\"][date_list[which_date]][LEADS[0]][()]\n",
    "            voltage = np.zeros((test_lead.shape[0], len(LEADS)))\n",
    "            for i in range(len(LEADS)):\n",
    "                voltage[:, i] = f[\"ecg\"][date_list[which_date]][LEADS[i]][()]\n",
    "    return voltage"
   ]
  },
  {
   "cell_type": "code",
   "execution_count": null,
   "metadata": {},
   "outputs": [],
   "source": [
    "# Get list of paths to all MGH ECG HD5 files\n",
    "fpaths = []\n",
    "for root, dirs, files in os.walk(\"/storage/shared/ecg/mgh/\"):\n",
    "    for file in tqdm(files):\n",
    "        if file.endswith(\".hd5\"):\n",
    "            fpath = os.path.join(root, file)\n",
    "            fpaths.append(fpath)"
   ]
  },
  {
   "cell_type": "code",
   "execution_count": null,
   "metadata": {},
   "outputs": [],
   "source": [
    "voltage_maximums = []\n",
    "for fpath in tqdm(fpaths[0:100000]):\n",
    "    voltage = get_ecg(name=fpath, path=True, date=False, machine=\"quanta\")\n",
    "    voltage_maximums.append(np.max(voltage))\n",
    "voltage_maximums = np.array(voltage_maximums)"
   ]
  },
  {
   "cell_type": "code",
   "execution_count": null,
   "metadata": {},
   "outputs": [],
   "source": [
    "import matplotlib.pyplot as plt\n",
    "\n",
    "max_voltage = 3000\n",
    "plt.hist(voltage_maximums, bins=500)\n",
    "plt.xlim([0, max_voltage])"
   ]
  },
  {
   "cell_type": "code",
   "execution_count": null,
   "metadata": {},
   "outputs": [],
   "source": [
    "ecgs_above_max = len(voltage_maximums[voltage_maximums > max_voltage])\n",
    "ecgs_above_max_fraction = ecgs_above_max / len(voltage_maximums)\n",
    "print(\n",
    "    f\"{ecgs_above_max} ({ecgs_above_max_fraction * 100}% of {len(voltage_maximums)}) ECGs have a max voltage amplitude >{max_voltage}\"\n",
    ")"
   ]
  },
  {
   "cell_type": "code",
   "execution_count": null,
   "metadata": {},
   "outputs": [],
   "source": []
  }
 ],
 "metadata": {
  "kernelspec": {
   "display_name": "Python 3",
   "language": "python",
   "name": "python3"
  },
  "language_info": {
   "codemirror_mode": {
    "name": "ipython",
    "version": 3
   },
   "file_extension": ".py",
   "mimetype": "text/x-python",
   "name": "python",
   "nbconvert_exporter": "python",
   "pygments_lexer": "ipython3",
   "version": "3.8.0"
  }
 },
 "nbformat": 4,
 "nbformat_minor": 4
}
