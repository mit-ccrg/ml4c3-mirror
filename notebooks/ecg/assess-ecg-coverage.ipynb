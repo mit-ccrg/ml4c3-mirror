{
 "cells": [
  {
   "cell_type": "code",
   "execution_count": null,
   "metadata": {},
   "outputs": [],
   "source": [
    "import os\n",
    "import numpy as np\n",
    "from tqdm import tqdm\n",
    "# import pandas as pd\n",
    "import modin.pandas as pd\n",
    "\n",
    "! python -m pip install \"dask[dataframe]\"\n",
    "import dask.dataframe as dd"
   ]
  },
  {
   "cell_type": "markdown",
   "metadata": {},
   "source": [
    "## Load metadata from HD5 ECGs"
   ]
  },
  {
   "cell_type": "code",
   "execution_count": null,
   "metadata": {},
   "outputs": [],
   "source": [
    "fpaths_mrns_old = os.path.expanduser(\"~/dropbox/ecg/explore/mgh/tensors_all_union.csv\")\n",
    "df_old = pd.read_csv(fpaths_mrns_old)\n",
    "print(f\"Loaded {fpaths_mrns_old} into df\")"
   ]
  },
  {
   "cell_type": "markdown",
   "metadata": {},
   "source": [
    "## Load new VM metadata (MRNs, ECG datetime, location)"
   ]
  },
  {
   "cell_type": "code",
   "execution_count": null,
   "metadata": {},
   "outputs": [],
   "source": [
    "# If current CSV does nost exist, create it by merging MRN + locations list\n",
    "fpath_mrns_new      = os.path.expanduser(\"~/dropbox/ecg/new-vms/mgh-updated.csv\")\n",
    "fpath_mrns_new_locs = os.path.expanduser(\"~/dropbox/ecg/new-vms/mgh-updated-locations.csv\")\n",
    "fpath_mrns_updated  = os.path.expanduser(\"~/dropbox/ecg/new-vms/mgh-updated-merged.csv\")\n",
    "\n",
    "ecg_datetime_key = 'ECG_datetime'\n",
    "ecg_mrn_key = 'PatientID'\n",
    "\n",
    "if os.path.exists(fpath_mrns_updated):\n",
    "    df_new = pd.read_csv(fpath_mrns_updated)\n",
    "\n",
    "    # Convert column to datetime format\n",
    "    df_new[ecg_datetime_key] = pd.to_datetime(df_new[ecg_datetime_key])\n",
    "    \n",
    "    print(f\"Loaded {fpath_mrns_updated} into df with keys {df_new.keys()}\")\n",
    "else:\n",
    "    df_new = dd.read_csv(fpath_mrns_new)\n",
    "    print(f\"Read {fpath_mrns_new} to dask dataframe with {len(df_new.index)} rows\")\n",
    "        \n",
    "    df_new_locs = dd.read_csv(fpath_mrns_new_locs)\n",
    "    print(f\"Read {fpath_mrns_new_locs} to dask dataframe with {len(df_new_locs.index)} rows\")\n",
    "    \n",
    "    # Merge the csv files.\n",
    "    df_merged = dd.merge(df_new, df_new_locs, how='outer', on=['PatientID', 'ECG_datetime'])\n",
    "    print(f'Merged two Dask dfs into one df with length {len(df_merged.index)}')\n",
    "    \n",
    "    # Convert Dask DF to Pandas DF, and overwrite df_new\n",
    "    df_new = df_merged.compute()\n",
    "    \n",
    "    # Convert column to datetime format\n",
    "    df_new[ecg_datetime_key] = pd.to_datetime(df_new[ecg_datetime_key])\n",
    "    \n",
    "    # Write the output\n",
    "    df_new.to_csv(fpath_mrns_updated, index=False)\n",
    "    print(f\"Saved merged df to {fpath_mrns_updated}\")"
   ]
  },
  {
   "cell_type": "code",
   "execution_count": null,
   "metadata": {},
   "outputs": [],
   "source": [
    "# Preview merged new DF\n",
    "df_new.head()"
   ]
  },
  {
   "cell_type": "markdown",
   "metadata": {},
   "source": [
    "## Load CSV of reference cohort"
   ]
  },
  {
   "cell_type": "code",
   "execution_count": null,
   "metadata": {},
   "outputs": [],
   "source": [
    "# fpath_ref = os.path.expanduser(\"~/dropbox/sts-data/mgh-all-features-labels.csv\")\n",
    "# cohort_name = \"sts\" \n",
    "# date_key = \"surgdt\"\n",
    "# ref_key = \"medrecn\" \n",
    "# outcome_key = 'mtopd'\n",
    "\n",
    "fpath_ref = os.path.expanduser(\"~/dropbox/apollo/ecg_pressures_labs_processed.csv\")\n",
    "cohort_name = \"apollo\"\n",
    "date_key = \"Date_of_Cath\"\n",
    "ref_key = \"Patient_ID\" \n",
    "\n",
    "df_ref = pd.read_csv(fpath_ref)\n",
    "print(f\"Loaded {fpath_ref} into df\")\n",
    "df_ref[date_key] = pd.to_datetime(df_ref[date_key])\n",
    "df_ref"
   ]
  },
  {
   "cell_type": "code",
   "execution_count": null,
   "metadata": {},
   "outputs": [],
   "source": [
    "# Get all MRNs from reference CSV\n",
    "mrn_ref = pd.to_numeric(df_ref[ref_key], errors=\"coerce\")\n",
    "mrn_ref_unique = np.unique(mrn_ref)\n",
    "df_ref[ref_key] = mrn_ref\n",
    "print(f'Reference: {len(mrn_ref)} total MRNs and {len(mrn_ref_unique)} unique MRNs')"
   ]
  },
  {
   "cell_type": "code",
   "execution_count": null,
   "metadata": {},
   "outputs": [],
   "source": [
    "# Get all MRNs in tensors_all\n",
    "mrn_old = pd.to_numeric(df_old['ecg_patientid_clean'], errors=\"coerce\")\n",
    "mrn_old_unique = np.unique(mrn_old)\n",
    "df_old['ecg_patientid_clean'] = mrn_old\n",
    "print(f'Existing HD5 dataset: {len(mrn_old)} total MRNs and {len(mrn_old_unique)} unique MRNs')\n",
    "\n",
    "mrn_intersect_old_ref = np.intersect1d(mrn_ref_unique, mrn_old_unique)\n",
    "print(f'Intersect between existing HD5 dataset and reference cohort: {len(mrn_intersect_old_ref)} unique MRNs found in both')"
   ]
  },
  {
   "cell_type": "code",
   "execution_count": null,
   "metadata": {},
   "outputs": [],
   "source": [
    "# Get all MRNs from new VM CSV\n",
    "mrn_new = pd.to_numeric(df_new['PatientID'], errors=\"coerce\")\n",
    "mrn_new_unique = np.unique(mrn_new)\n",
    "df_new['PatientID'] = mrn_new\n",
    "print(f'CSV from new VM: {len(mrn_new)} total MRNs and {len(mrn_new_unique)} unique MRNs')"
   ]
  },
  {
   "cell_type": "code",
   "execution_count": null,
   "metadata": {},
   "outputs": [],
   "source": [
    "# Get intersect between reference cohort and MRN\n",
    "mrn_intersect_new_ref = np.intersect1d(mrn_ref_unique, mrn_new_unique)\n",
    "print(f'Intersect between new VM CSVs and reference cohort: {len(mrn_intersect_new_ref)} unique MRNs found in both')"
   ]
  },
  {
   "cell_type": "code",
   "execution_count": null,
   "metadata": {},
   "outputs": [],
   "source": [
    "new_mrns = set(mrn_intersect_new_ref) - set(mrn_intersect_old_ref)\n",
    "new_mrns = list(new_mrns)\n",
    "print(f\"Found {len(new_mrns)} new reference cohort MRNs in new VM CSV\")"
   ]
  },
  {
   "cell_type": "code",
   "execution_count": null,
   "metadata": {},
   "outputs": [],
   "source": [
    "fpaths_mrns_prioritize = os.path.expanduser(f\"~/dropbox/ecg/new-vms/mrns-to-prioritize-{cohort_name}.csv\")\n",
    "pd.DataFrame([int(mrn) for mrn in new_mrns]).to_csv(fpaths_mrns_prioritize, index=False, header=False)\n",
    "print(f\"Saved new reference cohort MRNs to {fpaths_mrns_prioritize}\")"
   ]
  },
  {
   "cell_type": "code",
   "execution_count": null,
   "metadata": {},
   "outputs": [],
   "source": [
    "ecg_hits = {}\n",
    "\n",
    "for mrn in tqdm(new_mrns):\n",
    "    \n",
    "    ecg_hits[mrn] = {}\n",
    "    \n",
    "    # Isolate DF rows for this MRN from reference cohort\n",
    "    df_ref_mrn = df_ref[df_ref[ref_key] == mrn]\n",
    "    \n",
    "    # Save label for this MRN\n",
    "    ecg_hits[mrn][outcome_key] = int(df_ref_mrn[outcome_key])\n",
    "    \n",
    "    # Isolate DF rows for this MRN from CSV from new VM\n",
    "    df_new_ecgs = df_new[df_new[ecg_mrn_key] == mrn]\n",
    "    \n",
    "    # Get date of surgery for latest row of reference data for this patient\n",
    "    start_date = df_ref_mrn[date_key].iloc[-1] - pd.Timedelta(value=30, unit='days')\n",
    "    end_date = df_ref_mrn[date_key].iloc[-1]\n",
    "    \n",
    "    # Get boolean mask of all ECGs that are within window\n",
    "    mask = (df_new_ecgs[ecg_datetime_key] > start_date) & (df_new_ecgs[ecg_datetime_key] < end_date)\n",
    "\n",
    "    # If any hits, get the first date of the hit\n",
    "    if mask.any():\n",
    "        ecg_hits[mrn]['hit_dates'] = df_new_ecgs[ecg_datetime_key][mask].to_list()\n",
    "    else:\n",
    "         ecg_hits[mrn]['hit_dates'] = []\n",
    "\n",
    "    # Add info to dicts\n",
    "    ecg_hits[mrn]['start_date'] = start_date\n",
    "    ecg_hits[mrn]['end_date'] = end_date\n",
    "    ecg_hits[mrn]['hit_count'] = sum(mask)\n",
    "\n",
    "df_ecg_hits = pd.DataFrame(ecg_hits).T"
   ]
  },
  {
   "cell_type": "code",
   "execution_count": null,
   "metadata": {},
   "outputs": [],
   "source": [
    "df_ecg_hits"
   ]
  },
  {
   "cell_type": "code",
   "execution_count": null,
   "metadata": {},
   "outputs": [],
   "source": [
    "print(f\"Reference MRNs (total new from VM): {df_ecg_hits.shape[0]}\")\n",
    "print(f\"Reference MRNs (1+ ECG in window): {sum(df_ecg_hits['hit_count'] > 0)}\")\n",
    "print(f\"Total ECGs in window: {df_ecg_hits['hit_count'].sum()}\")\n",
    "print(f\"Positive labels: {df_ecg_hits[outcome_key].sum()}\")\n",
    "print(f\"Positive labels (with ECGs in window): {df_ecg_hits[df_ecg_hits['hit_count'] > 0]['mtopd'].sum()}\")"
   ]
  }
 ],
 "metadata": {
  "kernelspec": {
   "display_name": "Python 3",
   "language": "python",
   "name": "python3"
  },
  "language_info": {
   "codemirror_mode": {
    "name": "ipython",
    "version": 3
   },
   "file_extension": ".py",
   "mimetype": "text/x-python",
   "name": "python",
   "nbconvert_exporter": "python",
   "pygments_lexer": "ipython3",
   "version": "3.6.9"
  }
 },
 "nbformat": 4,
 "nbformat_minor": 4
}
