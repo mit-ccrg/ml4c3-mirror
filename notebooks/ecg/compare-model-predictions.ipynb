{
 "cells": [
  {
   "cell_type": "code",
   "execution_count": null,
   "metadata": {},
   "outputs": [],
   "source": [
    "import os\n",
    "import numpy as np\n",
    "import pandas as pd\n",
    "import seaborn as sns\n",
    "import matplotlib as mpl\n",
    "import matplotlib.pyplot as plt\n",
    "%matplotlib inline"
   ]
  },
  {
   "cell_type": "code",
   "execution_count": null,
   "metadata": {},
   "outputs": [],
   "source": [
    "model_names = [\"STSNet\", \"ECGNet\"]\n",
    "model_names_lookup = [\"deep-sts-preop\", \"v14\"]\n",
    "path_to_predictions_prefix = os.path.expanduser(\"~/dropbox/sts-ecg/predictions\")\n",
    "path_to_figures_prefix = os.path.expanduser(\"~/dropbox/sts-ecg/figures\")\n",
    "csv_name = \"predictions_test.csv\""
   ]
  },
  {
   "cell_type": "code",
   "execution_count": null,
   "metadata": {},
   "outputs": [],
   "source": [
    "sns.set_context(\"talk\")\n",
    "sns.set_style(\"darkgrid\")\n",
    " \n",
    "dfs = []\n",
    "\n",
    "for bootstrap in range(10):\n",
    "    dfs_bootstrap = {}\n",
    "    \n",
    "    for model_name, lookup_name in zip(model_names, model_names_lookup):\n",
    "        path_to_predictions = os.path.join(path_to_predictions_prefix, lookup_name, str(bootstrap), csv_name)\n",
    "        \n",
    "        # Get CSV into df\n",
    "        dfs_bootstrap[model_name] = pd.read_csv(path_to_predictions)\n",
    "        \n",
    "        # Rename columns\n",
    "        dfs_bootstrap[model_name].columns = [\"mrn\", f\"y_{model_name}\", f\"y_hat_{model_name}\"]\n",
    "    \n",
    "    # Merge model results into one df\n",
    "    df_both_models = dfs_bootstrap[model_names[0]].merge(right=dfs_bootstrap[model_names[1]], on=\"mrn\")\n",
    "    \n",
    "    # Calculate difference\n",
    "    df_both_models['y_hat_delta'] = df_both_models[f\"y_hat_{model_names[0]}\"] - df_both_models[f\"y_hat_{model_names[1]}\"]  \n",
    "    \n",
    "    # Append df to list of dfs\n",
    "    dfs.append(df_both_models)\n",
    "    \n",
    "    print(f\"Calculated y_hat diff from bootstrap {bootstrap}\")"
   ]
  },
  {
   "cell_type": "code",
   "execution_count": null,
   "metadata": {},
   "outputs": [],
   "source": [
    "df = pd.concat(dfs)\n",
    "df"
   ]
  },
  {
   "cell_type": "code",
   "execution_count": null,
   "metadata": {},
   "outputs": [],
   "source": [
    "fig_width = 10\n",
    "fig_height = 6\n",
    "\n",
    "# Scatterplot of y_hat from model 1 vs 2, aggregating test sets across all bootstraps\n",
    "fig, ax = plt.subplots(figsize=(fig_width, fig_height))\n",
    "sns.kdeplot(\n",
    "    ax=ax,\n",
    "    data=df[df['y_STSNet']==1][f\"y_hat_{model_names[0]}\"],\n",
    "    data2=df[df['y_STSNet']==1][f\"y_hat_{model_names[1]}\"],\n",
    "    cmap=\"Reds\",\n",
    "    shade=True,\n",
    "    shade_lowest=False,\n",
    "    label=f\"Died (N={sum(df['y_STSNet']==1)})\",\n",
    ")\n",
    "sns.kdeplot(\n",
    "    ax=ax,\n",
    "    data=df[df['y_STSNet']==0][f\"y_hat_{model_names[0]}\"],\n",
    "    data2=df[df['y_STSNet']==0][f\"y_hat_{model_names[1]}\"],\n",
    "    cmap=\"Blues\",\n",
    "    shade=True,\n",
    "    shade_lowest=False,\n",
    "    label=f\"Lived (N={sum(df['y_STSNet']==0)})\",\n",
    ")\n",
    "ax.set_title(\"Joint KDE of STSNet vs ECGNet\")\n",
    "ax.set_xlabel(f\"y_hat ({model_names[0]})\")\n",
    "ax.set_ylabel(f\"y_hat ({model_names[1]})\")\n",
    "plt.legend(bbox_to_anchor=(1.05, 1), loc=2, borderaxespad=0., frameon=False)\n",
    "fpath = os.path.join(path_to_figures_prefix, f\"stsnet-vs-ecgnet-joint-kde.png\")\n",
    "plt.tight_layout()\n",
    "plt.savefig(fname=fpath, dpi=150, transparent=False)\n",
    "print(f\"Saved {fpath}\")\n",
    "\n",
    "# Distribution of delta y_hat, stratified by death\n",
    "fig, ax = plt.subplots(figsize=(fig_width, fig_height))\n",
    "sns.distplot(\n",
    "    df[df['y_STSNet']==1]['y_hat_delta'],\n",
    "    ax=ax,\n",
    "    kde=True,\n",
    "    norm_hist=True,\n",
    "    color='r',\n",
    "    label=f\"Died (N={sum(df['y_STSNet']==1)})\",\n",
    ")\n",
    "sns.distplot(\n",
    "    df[df['y_STSNet']==0]['y_hat_delta'],\n",
    "    ax=ax,\n",
    "    kde=True,\n",
    "    norm_hist=True,\n",
    "    color='b',\n",
    "    label=f\"Lived (N={sum(df['y_STSNet']==0)})\",\n",
    ")\n",
    "ax.set_title(\"delta y_hat\")\n",
    "ax.set_xlabel(\"STSNet - ECGNet\")\n",
    "plt.legend(bbox_to_anchor=(1.05, 1), loc=2, borderaxespad=0., frameon=False)\n",
    "fpath = os.path.join(path_to_figures_prefix, f\"stsnet-vs-ecgnet-delta.png\")\n",
    "plt.tight_layout()\n",
    "plt.savefig(fname=fpath, dpi=150, transparent=False)\n",
    "print(f\"Saved {fpath}\")"
   ]
  }
 ],
 "metadata": {
  "kernelspec": {
   "display_name": "Python 3",
   "language": "python",
   "name": "python3"
  },
  "language_info": {
   "codemirror_mode": {
    "name": "ipython",
    "version": 3
   },
   "file_extension": ".py",
   "mimetype": "text/x-python",
   "name": "python",
   "nbconvert_exporter": "python",
   "pygments_lexer": "ipython3",
   "version": "3.6.9"
  }
 },
 "nbformat": 4,
 "nbformat_minor": 4
}
