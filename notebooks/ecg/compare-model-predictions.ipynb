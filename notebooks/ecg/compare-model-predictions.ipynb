{
 "cells": [
  {
   "cell_type": "code",
   "execution_count": null,
   "metadata": {},
   "outputs": [],
   "source": [
    "import os\n",
    "import numpy as np\n",
    "import pandas as pd\n",
    "import seaborn as sns\n",
    "import matplotlib as mpl\n",
    "import matplotlib.pyplot as plt\n",
    "%matplotlib inline"
   ]
  },
  {
   "cell_type": "code",
   "execution_count": null,
   "metadata": {},
   "outputs": [],
   "source": [
    "model_names = [\"STSNet\", \"ECGNet\"]\n",
    "model_names_lookup = [\"deep-sts-preop\", \"v14\"]\n",
    "path_to_predictions_prefix = os.path.expanduser(\"~/dropbox/sts-ecg/predictions\")\n",
    "path_to_figures_prefix = os.path.expanduser(\"~/dropbox/sts-ecg/figures\")\n",
    "csv_name = \"predictions_test.csv\""
   ]
  },
  {
   "cell_type": "markdown",
   "metadata": {},
   "source": [
    "## Parse predictions for each bootstrap into one df containing `y`, `y_hat`, `brier`, and `y_hat_delta`"
   ]
  },
  {
   "cell_type": "code",
   "execution_count": null,
   "metadata": {},
   "outputs": [],
   "source": [
    "dfs = []\n",
    "for bootstrap in range(10):\n",
    "    dfs_bootstrap = {}\n",
    "    \n",
    "    for model_name, lookup_name in zip(model_names, model_names_lookup):\n",
    "        path_to_predictions = os.path.join(path_to_predictions_prefix, lookup_name, str(bootstrap), csv_name)\n",
    "        \n",
    "        # Get CSV into df\n",
    "        dfs_bootstrap[model_name] = pd.read_csv(path_to_predictions)\n",
    "        \n",
    "        # Rename columns\n",
    "        dfs_bootstrap[model_name].columns = [\"mrn\", f\"y_{model_name}\", f\"y_hat_{model_name}\"]\n",
    "        \n",
    "        # Calculate Brier scores\n",
    "        dfs_bootstrap[model_name][f\"brier_{model_name}\"] = (dfs_bootstrap[model_name][f\"y_hat_{model_name}\"] - dfs_bootstrap[model_name][f\"y_{model_name}\"])**2\n",
    "    \n",
    "    # Merge model results into one df\n",
    "    df_both_models = dfs_bootstrap[model_names[0]].merge(right=dfs_bootstrap[model_names[1]], on=\"mrn\")\n",
    "    \n",
    "    # Calculate delta between y_hat values of each model\n",
    "    df_both_models['y_hat_delta'] = df_both_models[f\"y_hat_{model_names[0]}\"] - df_both_models[f\"y_hat_{model_names[1]}\"]\n",
    "    df_both_models['y_hat_delta_squared'] = df_both_models['y_hat_delta']**2\n",
    "    \n",
    "    # Append df to list of dfs\n",
    "    dfs.append(df_both_models)\n",
    "    \n",
    "    print(f\"Parsing predictions from bootstrap {bootstrap}\")"
   ]
  },
  {
   "cell_type": "code",
   "execution_count": null,
   "metadata": {},
   "outputs": [],
   "source": [
    "df = pd.concat(dfs)\n",
    "df"
   ]
  },
  {
   "cell_type": "code",
   "execution_count": null,
   "metadata": {},
   "outputs": [],
   "source": [
    "df[df[f'y_STSNet']==0]['y_hat_STSNet'].mean()"
   ]
  },
  {
   "cell_type": "code",
   "execution_count": null,
   "metadata": {},
   "outputs": [],
   "source": [
    "df[df[f'y_STSNet']==1]['y_hat_STSNet'].mean()"
   ]
  },
  {
   "cell_type": "code",
   "execution_count": null,
   "metadata": {},
   "outputs": [],
   "source": [
    "df[df[f'y_ECGNet']==0]['y_hat_ECGNet'].mean()"
   ]
  },
  {
   "cell_type": "code",
   "execution_count": null,
   "metadata": {},
   "outputs": [],
   "source": [
    "df[df[f'y_ECGNet']==1]['y_hat_ECGNet'].mean()"
   ]
  },
  {
   "cell_type": "code",
   "execution_count": null,
   "metadata": {},
   "outputs": [],
   "source": [
    "sns.set_context(\"talk\")\n",
    "sns.set_style(\"ticks\")\n",
    "fig_width = 10\n",
    "fig_height = 6"
   ]
  },
  {
   "cell_type": "markdown",
   "metadata": {},
   "source": [
    "## Scatterplot of Brier score of STSNet vs (STSNet - ECGNet)^2\n",
    "\n",
    "The Brier score of STSNet measures the difference between the predicted and true label; a high score means the model failed.  \n",
    "The squared difference between STSNet and ECGNet measures the disagreement between the models.  "
   ]
  },
  {
   "cell_type": "code",
   "execution_count": null,
   "metadata": {},
   "outputs": [],
   "source": [
    "from scipy import stats\n",
    "def calc_r2(x, y):\n",
    "    return stats.pearsonr(x, y)[0] ** 2"
   ]
  },
  {
   "cell_type": "code",
   "execution_count": null,
   "metadata": {},
   "outputs": [],
   "source": [
    "for model_name in model_names:\n",
    "    fig, ax = plt.subplots(figsize=(fig_width*1.25, fig_height))\n",
    "    r2 = calc_r2(\n",
    "        x=df[df[f'y_{model_name}']==0][f\"brier_{model_name}\"],\n",
    "        y=df[df[f'y_{model_name}']==0][f\"y_hat_delta_squared\"],\n",
    "    )\n",
    "    sns.scatterplot(\n",
    "        ax=ax,\n",
    "        x=df[df[f'y_{model_name}']==0][f\"brier_{model_name}\"],\n",
    "        y=df[df[f'y_{model_name}']==0][f\"y_hat_delta_squared\"],\n",
    "        cmap=\"Blues\",\n",
    "        label=f\"Lived (N={sum(df[f'y_{model_name}']==0)}; R^2={r2:0.2f})\",\n",
    "        alpha=0.7,\n",
    "    )\n",
    "    r2 = calc_r2(\n",
    "        x=df[df[f'y_{model_name}']==1][f\"brier_{model_name}\"],\n",
    "        y=df[df[f'y_{model_name}']==1][f\"y_hat_delta_squared\"],\n",
    "    )\n",
    "    sns.scatterplot(\n",
    "        ax=ax,\n",
    "        x=df[df[f'y_{model_name}']==1][f\"brier_{model_name}\"],\n",
    "        y=df[df[f'y_{model_name}']==1][f\"y_hat_delta_squared\"],\n",
    "        cmap=\"Reds\",\n",
    "        label=f\"Died (N={sum(df[f'y_{model_name}']==1)}; R^2={r2:0.2f})\",\n",
    "        alpha=0.7,\n",
    "    )\n",
    "    ax.set_title(\"\")\n",
    "\n",
    "    # ax.set_xlim([-0.1, 0.1])\n",
    "    ax.set_xlabel(f\"Brier score ({model_name})\")\n",
    "\n",
    "    # ax.set_ylim([-0.025, 0.025])\n",
    "    ax.set_ylabel(f\"Squared error between\\nSTSNet and ECGNet\")\n",
    "\n",
    "    plt.legend(bbox_to_anchor=(1.05, 1), loc=2, borderaxespad=0., frameon=False)\n",
    "    fpath = os.path.join(path_to_figures_prefix, f\"brier-{model_name}-vs-diff.png\")\n",
    "    plt.tight_layout()\n",
    "    plt.savefig(fname=fpath, dpi=150, transparent=False)\n",
    "    print(f\"Saved {fpath}\")"
   ]
  },
  {
   "cell_type": "code",
   "execution_count": null,
   "metadata": {},
   "outputs": [],
   "source": [
    "for model_name in model_names:\n",
    "    fig, ax = plt.subplots(figsize=(fig_width, fig_height))\n",
    "    sns.distplot(\n",
    "        ax=ax,\n",
    "        a=df[df[f'y_{model_name}']==0][f\"brier_{model_name}\"],\n",
    "        color=\"cornflowerblue\",\n",
    "        kde=False,\n",
    "    )\n",
    "    ax.set_title(\"Lived\")\n",
    "    ax.set_xlim([-0.05, 1.05])\n",
    "    fpath = os.path.join(path_to_figures_prefix, f\"brier-{model_name}-lived.png\")\n",
    "    plt.tight_layout()\n",
    "    plt.savefig(fname=fpath, dpi=150, transparent=False)\n",
    "    print(f\"Saved {fpath}\")\n",
    "\n",
    "    fig, ax = plt.subplots(figsize=(fig_width, fig_height))\n",
    "    sns.distplot(\n",
    "        ax=ax,\n",
    "        a=df[df[f'y_{model_name}']==1][f\"brier_{model_name}\"],\n",
    "        color=\"orange\",\n",
    "        kde=False,\n",
    "    )\n",
    "    ax.set_title(\"Died\")\n",
    "    ax.set_xlim([-0.05, 1.05])\n",
    "    fpath = os.path.join(path_to_figures_prefix, f\"brier-{model_name}-died.png\")\n",
    "    plt.tight_layout()\n",
    "    plt.savefig(fname=fpath, dpi=150, transparent=False)\n",
    "    print(f\"Saved {fpath}\")"
   ]
  }
 ],
 "metadata": {
  "kernelspec": {
   "display_name": "Python 3",
   "language": "python",
   "name": "python3"
  },
  "language_info": {
   "codemirror_mode": {
    "name": "ipython",
    "version": 3
   },
   "file_extension": ".py",
   "mimetype": "text/x-python",
   "name": "python",
   "nbconvert_exporter": "python",
   "pygments_lexer": "ipython3",
   "version": "3.6.9"
  }
 },
 "nbformat": 4,
 "nbformat_minor": 4
}
