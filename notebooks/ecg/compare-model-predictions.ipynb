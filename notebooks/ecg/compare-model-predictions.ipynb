{
 "cells": [
  {
   "cell_type": "code",
   "execution_count": null,
   "metadata": {},
   "outputs": [],
   "source": [
    "import os\n",
    "import numpy as np\n",
    "import pandas as pd\n",
    "import seaborn as sns\n",
    "import matplotlib as mpl\n",
    "import matplotlib.pyplot as plt\n",
    "%matplotlib inline"
   ]
  },
  {
   "cell_type": "code",
   "execution_count": null,
   "metadata": {},
   "outputs": [],
   "source": [
    "sns.set_context(\"talk\")\n",
    "sns.set_style(\"white\")\n",
    "dpi=100\n",
    "fig_width = 10\n",
    "fig_height = 6"
   ]
  },
  {
   "cell_type": "code",
   "execution_count": null,
   "metadata": {},
   "outputs": [],
   "source": [
    "model_names = [\"STSNet\", \"ECGNet\"]\n",
    "model_names_lookup = [\"deep-sts-preop-v13-swish\", \"v30\"]\n",
    "path_to_predictions_prefix = os.path.expanduser(\"~/dropbox/sts-ecg/predictions\")\n",
    "path_to_figures_prefix = os.path.expanduser(\"~/dropbox/sts-ecg/figures-and-tables\")\n",
    "csv_name = \"predictions_test.csv\""
   ]
  },
  {
   "cell_type": "markdown",
   "metadata": {},
   "source": [
    "## Parse predictions for each bootstrap into one df containing `y`, `y_hat`, `brier`, and `y_hat_delta`"
   ]
  },
  {
   "cell_type": "code",
   "execution_count": null,
   "metadata": {},
   "outputs": [],
   "source": [
    "dfs = []\n",
    "for bootstrap in range(10):\n",
    "    dfs_bootstrap = {}\n",
    "    \n",
    "    for model_name, lookup_name in zip(model_names, model_names_lookup):\n",
    "        path_to_predictions = os.path.join(path_to_predictions_prefix, lookup_name, str(bootstrap), csv_name)\n",
    "        \n",
    "        # Get CSV into df\n",
    "        dfs_bootstrap[model_name] = pd.read_csv(path_to_predictions)\n",
    "        \n",
    "        # Rename columns\n",
    "        dfs_bootstrap[model_name].columns = [\"mrn\", f\"y_{model_name}\", f\"y_hat_{model_name}\"]\n",
    "        \n",
    "    # Merge model results into one df\n",
    "    df_both_models = dfs_bootstrap[model_names[0]].merge(right=dfs_bootstrap[model_names[1]], on=\"mrn\")\n",
    "        \n",
    "    # Append df to list of dfs\n",
    "    dfs.append(df_both_models)\n",
    "    \n",
    "    print(f\"Parsing predictions from bootstrap {bootstrap}\")\n",
    "    \n",
    "df = pd.concat(dfs)"
   ]
  },
  {
   "cell_type": "markdown",
   "metadata": {},
   "source": [
    "## Scale predictions (min-max) and calculate error"
   ]
  },
  {
   "cell_type": "code",
   "execution_count": null,
   "metadata": {},
   "outputs": [],
   "source": [
    "y_hat_min = 0.01\n",
    "y_hat_max = 0.2\n",
    "\n",
    "for model_name in model_names:   \n",
    "    df[df[f'y_hat_{model_name}'] > 0.2] = 0.2\n",
    "    \n",
    "    df[f'y_hat_{model_name}_scaled'] = (df[f'y_hat_{model_name}'] - y_hat_min) / (y_hat_max - y_hat_min)\n",
    "    \n",
    "    # Calculate delta between y_hat values of each model\n",
    "    df[f'squared_error_{model_name}'] = (df[f\"y_{model_name}\"] - df[f\"y_hat_{model_name}_scaled\"])**2\n",
    "    \n",
    "    print(f'{model_name} pre-scaling range: [{y_hat_min:0.3f} {y_hat_max:0.3f}]')\n",
    "    print(f'{model_name} pre-scaling range: [{y_hat_min_new:0.3f} {y_hat_max_new:0.3f}]')\n",
    "    print('\\n')\n",
    "    \n",
    "df[f'squared_error_between_models'] = (df[f\"y_hat_{model_names[0]}_scaled\"] - df[f\"y_hat_{model_names[1]}_scaled\"])**2"
   ]
  },
  {
   "cell_type": "markdown",
   "metadata": {},
   "source": [
    "## Plot of y_hat"
   ]
  },
  {
   "cell_type": "code",
   "execution_count": null,
   "metadata": {},
   "outputs": [],
   "source": [
    "for model_name in model_names:\n",
    "    fig, ax = plt.subplots(figsize=(fig_width, fig_height))\n",
    "    sns.distplot(df[f'y_hat_{model_name}'], ax=ax)\n",
    "    plt.xlim([-0.05, 1.05])\n",
    "    \n",
    "    plt.title(f\"{model_name}\")\n",
    "    plt.xlabel(\"y_hat\")\n",
    "    plt.ylabel(\"Counts\")\n",
    "    plt.tight_layout()\n",
    "    \n",
    "    fpath = os.path.join(path_to_figures_prefix, f\"y_hat_{model_name}.png\").lower()\n",
    "    plt.savefig(fpath, dpi=dpi, transparent=False)"
   ]
  },
  {
   "cell_type": "code",
   "execution_count": null,
   "metadata": {},
   "outputs": [],
   "source": [
    "for model_name in model_names:\n",
    "    fig, ax = plt.subplots(figsize=(fig_width, fig_height))\n",
    "    sns.distplot(df[f'y_hat_{model_name}_scaled'], ax=ax)\n",
    "    plt.xlim([-0.05, 1.05])\n",
    "\n",
    "    plt.title(f\"{model_name}\")\n",
    "    plt.xlabel(\"y_hat\")\n",
    "    plt.ylabel(\"Counts\")\n",
    "    plt.tight_layout()\n",
    "    \n",
    "    fpath = os.path.join(path_to_figures_prefix, f\"y_hat_scaled_{model_name}.png\").lower()\n",
    "    plt.savefig(fpath, dpi=dpi, transparent=False)"
   ]
  },
  {
   "cell_type": "code",
   "execution_count": null,
   "metadata": {},
   "outputs": [],
   "source": [
    "df"
   ]
  },
  {
   "cell_type": "markdown",
   "metadata": {},
   "source": [
    "## Scatterplot of model squared error vs (STSNet - ECGNet)^2"
   ]
  },
  {
   "cell_type": "code",
   "execution_count": null,
   "metadata": {},
   "outputs": [],
   "source": [
    "from scipy import stats\n",
    "def calc_r2(x, y):\n",
    "    return stats.pearsonr(x, y)[0] ** 2\n",
    "\n",
    "r2 = calc_r2(\n",
    "    x=df[f\"squared_error_{model_names[0]}\"],\n",
    "    y=df[f\"squared_error_between_models\"],\n",
    ")"
   ]
  },
  {
   "cell_type": "code",
   "execution_count": null,
   "metadata": {},
   "outputs": [],
   "source": [
    "fig, ax = plt.subplots(figsize=(fig_width, fig_height))\n",
    "\n",
    "sns.scatterplot(\n",
    "    ax=ax,\n",
    "    x=df[f\"squared_error_{model_names[0]}\"],\n",
    "    y=df[f\"squared_error_between_models\"],\n",
    "    cmap=\"Blues\",\n",
    "    alpha=0.75,\n",
    ")\n",
    "\n",
    "ax.set_title(f\"STSNet error vs difference between STSNet and ECGNet\")\n",
    "ax.set_xlabel(f\"{model_names[0]}: (y - y_hat)^2\")\n",
    "ax.set_ylabel(f\"(STSNet - ECGNet)^2\")\n",
    "ax.set_xlim([-0.025, 1.025])\n",
    "ax.set_ylim([-0.025, 1.025])\n",
    "\n",
    "fpath = os.path.join(path_to_figures_prefix, f\"\n",
    "                     .png\")\n",
    "plt.tight_layout()\n",
    "plt.savefig(fname=fpath, dpi=dpi, transparent=False)\n",
    "print(f\"Saved {fpath}\")"
   ]
  }
 ],
 "metadata": {
  "kernelspec": {
   "display_name": "Python 3",
   "language": "python",
   "name": "python3"
  },
  "language_info": {
   "codemirror_mode": {
    "name": "ipython",
    "version": 3
   },
   "file_extension": ".py",
   "mimetype": "text/x-python",
   "name": "python",
   "nbconvert_exporter": "python",
   "pygments_lexer": "ipython3",
   "version": "3.6.9"
  }
 },
 "nbformat": 4,
 "nbformat_minor": 4
}
