{
 "cells": [
  {
   "cell_type": "code",
   "execution_count": null,
   "metadata": {},
   "outputs": [],
   "source": [
    "import os\n",
    "import csv\n",
    "import numpy as np\n",
    "import pandas as pd\n",
    "import seaborn as sns\n",
    "import matplotlib.pyplot as plt\n",
    "%matplotlib inline"
   ]
  },
  {
   "cell_type": "code",
   "execution_count": null,
   "metadata": {},
   "outputs": [],
   "source": [
    "bootstraps = [str(i) for i in range(0,10)]\n",
    "\n",
    "# plots mean AUC +/- std for each model\n",
    "# Inputs: model names as a list, Pandas DataFrame of exported results CSV from Google Spreadsheets\n",
    "\n",
    "\n",
    "def plot_performance(\n",
    "    model_names: list,\n",
    "    df: pd.DataFrame,\n",
    "    fpath_bar_plot: str,\n",
    "    y_min: float = 0.7,\n",
    "    y_max: float = 0.95):\n",
    "    y_delta = 0.05\n",
    "    \n",
    "    stats = {model: {'aucs': [], 'mean': 0, 'std': 0} for model in model_names}\n",
    "\n",
    "    for model in model_names:\n",
    "        stats[model]['aucs'] = list(float(auc) for auc in df.loc[bootstraps, model].values)\n",
    "        stats[model]['mean'] = float(df.loc['mean', model])\n",
    "        stats[model]['std'] = float(df.loc['std', model])\n",
    "        \n",
    "    means = [stats[model]['mean'] for model in model_names]\n",
    "    stds = [stats[model]['std'] for model in model_names]\n",
    "    \n",
    "    sns.set_style(\"whitegrid\")\n",
    "    sns.set_context(\"poster\")\n",
    "    sns.set_palette(\"pastel\")\n",
    "    \n",
    "    fig_width = len(model_names) * 3\n",
    "    fig, ax = plt.subplots(figsize=(fig_width, 8))\n",
    "    x_pos = np.arange(len(model_names))\n",
    "    \n",
    "    bar = sns.barplot(x=x_pos, y=means, yerr=stds)\n",
    "    ax.set_ylabel('AUC')\n",
    "    ax.set_ylim([y_min, y_max])\n",
    "    ax.set_yticks(np.arange(y_min, y_max+0.01, y_delta))\n",
    "    \n",
    "    ax.set_xticks(range(len(model_names)))\n",
    "    ax.set_xticklabels(model_names)\n",
    "    ax.set_title('Model Performance')\n",
    "\n",
    "    offset = -0.02 * len(model_names)\n",
    "    for i, v in enumerate(means):\n",
    "        plt.text(x_pos[i]+offset, y_min + 0.01, f'{v:0.3f}')\n",
    "\n",
    "    plt.xticks(rotation=90)\n",
    "    plt.tight_layout()\n",
    "    \n",
    "    plt.savefig(fpath_bar_plot, dpi=100)\n",
    "    print(f\"Saved {fpath}\")\n",
    "    \n",
    "    plt.show()"
   ]
  },
  {
   "cell_type": "code",
   "execution_count": null,
   "metadata": {},
   "outputs": [],
   "source": [
    "rootdir = os.path.expanduser(\"~/dropbox/sts-ecg/figures\")\n",
    "fpath = os.path.join(rootdir, \"STS ECG models and results - architecture_and_results_3.csv\")"
   ]
  },
  {
   "cell_type": "code",
   "execution_count": null,
   "metadata": {},
   "outputs": [],
   "source": [
    "# Load results CSV into dataframe\n",
    "df = pd.read_csv(fpath, index_col=0)\n",
    "df"
   ]
  },
  {
   "cell_type": "code",
   "execution_count": null,
   "metadata": {},
   "outputs": [],
   "source": [
    "models_to_plot = []\n",
    "for i in range(1,7):\n",
    "    models_to_plot.append(f\"v{i}\")\n",
    "fpath_bar_plot = os.path.join(rootdir, \"aucs1.png\")\n",
    "plot_performance(\n",
    "    model_names=models_to_plot,\n",
    "    df=df,\n",
    "    fpath_bar_plot=fpath_bar_plot,\n",
    "    y_min=0.65,\n",
    "    y_max=0.8,\n",
    ")"
   ]
  },
  {
   "cell_type": "code",
   "execution_count": null,
   "metadata": {},
   "outputs": [],
   "source": [
    "models_to_plot = []\n",
    "for i in range(7,13):\n",
    "    models_to_plot.append(f\"v{i}\")\n",
    "fpath_bar_plot = os.path.join(rootdir, \"aucs2.png\")\n",
    "plot_performance(\n",
    "    model_names=models_to_plot,\n",
    "    df=df,\n",
    "    fpath_bar_plot=fpath_bar_plot,\n",
    "    y_min=0.65,\n",
    "    y_max= 0.80,\n",
    ")"
   ]
  },
  {
   "cell_type": "code",
   "execution_count": null,
   "metadata": {},
   "outputs": [],
   "source": [
    "models_to_plot = []\n",
    "for i in range(13,20):\n",
    "    models_to_plot.append(f\"v{i}\")\n",
    "fpath_bar_plot = os.path.join(rootdir, \"aucs3.png\")\n",
    "plot_performance(model_names=models_to_plot, df=df, fpath_bar_plot=fpath_bar_plot)"
   ]
  },
  {
   "cell_type": "code",
   "execution_count": null,
   "metadata": {},
   "outputs": [],
   "source": [
    "models_to_plot = [\"train-shallow-preop\",\n",
    "\"train-deep-preop\",\n",
    "\"train-deeper-preop\",\n",
    "\"train-shallow-all\",\n",
    "\"train-deep-all\",\n",
    "\"train-deeper-all\",\n",
    "\"ecg-and-preop\",\n",
    "]\n",
    "\n",
    "fpath_bar_plot = os.path.join(rootdir, \"aucs-sts.png\")\n",
    "plot_performance(\n",
    "    model_names=models_to_plot,\n",
    "    df=df,\n",
    "    fpath_bar_plot=fpath_bar_plot,\n",
    "    y_min=0.75,\n",
    "    y_max= 0.95,\n",
    ")"
   ]
  }
 ],
 "metadata": {
  "kernelspec": {
   "display_name": "Python 3",
   "language": "python",
   "name": "python3"
  },
  "language_info": {
   "codemirror_mode": {
    "name": "ipython",
    "version": 3
   },
   "file_extension": ".py",
   "mimetype": "text/x-python",
   "name": "python",
   "nbconvert_exporter": "python",
   "pygments_lexer": "ipython3",
   "version": "3.6.9"
  }
 },
 "nbformat": 4,
 "nbformat_minor": 4
}
