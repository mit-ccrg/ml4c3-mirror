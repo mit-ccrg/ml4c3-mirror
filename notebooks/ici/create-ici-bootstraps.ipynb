{
 "cells": [
  {
   "cell_type": "code",
   "execution_count": null,
   "metadata": {},
   "outputs": [],
   "source": [
    "import os\n",
    "import sys\n",
    "import numpy as np\n",
    "import pandas as pd"
   ]
  },
  {
   "cell_type": "code",
   "execution_count": null,
   "metadata": {},
   "outputs": [],
   "source": [
    "df = pd.read_csv(os.path.expanduser('~/dropbox/ecg-ici/explore/cv_event_by_case/tensors_union.csv')).dropna()\n",
    "df['cv_event'] = df['ici_cv_event_180_days_post_ecg']\n",
    "df['case'] = df['ici_case_180_days_post_ecg_case']"
   ]
  },
  {
   "cell_type": "code",
   "execution_count": null,
   "metadata": {},
   "outputs": [],
   "source": [
    "case = df[df['case'] == 1]\n",
    "control = df[df['case'] == 0]"
   ]
  },
  {
   "cell_type": "code",
   "execution_count": null,
   "metadata": {},
   "outputs": [],
   "source": [
    "_case_event = case[case['cv_event'] == 1]\n",
    "_case_no_event = case[case['cv_event'] == 0]\n",
    "\n",
    "_control_event = control[control['cv_event'] == 1]\n",
    "_control_no_event = control[control['cv_event'] == 0]"
   ]
  },
  {
   "cell_type": "code",
   "execution_count": null,
   "metadata": {},
   "outputs": [],
   "source": [
    "train_ratio = 0.6\n",
    "valid_ratio = 0.2\n",
    "test_ratio = 0.2"
   ]
  },
  {
   "cell_type": "code",
   "execution_count": null,
   "metadata": {},
   "outputs": [],
   "source": [
    "bootstrap_folder = os.path.expanduser('~/dropbox/ecg-ici/data/bootstraps')\n",
    "os.makedirs(bootstrap_folder, exist_ok=True)\n",
    "cols = ['patientid', 'case', 'cv_event']\n",
    "for i in range(10):\n",
    "    case_event = _case_event.sample(frac=1, random_state=i)\n",
    "    case_no_event = _case_no_event.sample(frac=1, random_state=i)\n",
    "    control_event = _control_event.sample(frac=1, random_state=i)\n",
    "    control_no_event = _control_no_event.sample(frac=1, random_state=i)\n",
    "\n",
    "    cae_tv_idx = int(len(case_event) * train_ratio)\n",
    "    cae_vt_idx = int(len(case_event) * (train_ratio + valid_ratio)) + 1\n",
    "\n",
    "    cane_tv_idx = int(len(case_no_event) * train_ratio)\n",
    "    cane_vt_idx = int(len(case_no_event) * (train_ratio + valid_ratio)) + 1\n",
    "\n",
    "    coe_tv_idx = int(len(control_event) * train_ratio)\n",
    "    coe_vt_idx = int(len(control_event) * (train_ratio + valid_ratio)) + 1\n",
    "\n",
    "    cone_tv_idx = int(len(control_no_event) * train_ratio)\n",
    "    cone_vt_idx = int(len(control_no_event) * (train_ratio + valid_ratio)) + 1\n",
    "\n",
    "    train = pd.concat([case_event[:cae_tv_idx], case_no_event[:cane_tv_idx], control_event[:coe_tv_idx], control_no_event[:cone_tv_idx]])\n",
    "    valid = pd.concat([case_event[cae_tv_idx:cae_vt_idx], case_no_event[cane_tv_idx:cane_vt_idx], control_event[coe_tv_idx:coe_vt_idx], control_no_event[cone_tv_idx:cone_vt_idx]])\n",
    "    test = pd.concat([case_event[cae_vt_idx:], case_no_event[cane_vt_idx:], control_event[coe_vt_idx:], control_no_event[cone_vt_idx:]])\n",
    "\n",
    "    os.makedirs(f'{bootstrap_folder}/{i}', exist_ok=True)\n",
    "    train[cols].sample(frac=1, random_state=i).to_csv(f'{bootstrap_folder}/{i}/train.csv', index=False)\n",
    "    valid[cols].sample(frac=1, random_state=i).to_csv(f'{bootstrap_folder}/{i}/valid.csv', index=False)\n",
    "    test[cols].sample(frac=1, random_state=i).to_csv(f'{bootstrap_folder}/{i}/test.csv', index=False)"
   ]
  }
 ],
 "metadata": {
  "kernelspec": {
   "display_name": "Python 3",
   "language": "python",
   "name": "python3"
  },
  "language_info": {
   "codemirror_mode": {
    "name": "ipython",
    "version": 3
   },
   "file_extension": ".py",
   "mimetype": "text/x-python",
   "name": "python",
   "nbconvert_exporter": "python",
   "pygments_lexer": "ipython3",
   "version": "3.8.0"
  }
 },
 "nbformat": 4,
 "nbformat_minor": 4
}
