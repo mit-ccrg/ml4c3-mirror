{
 "cells": [
  {
   "cell_type": "code",
   "execution_count": null,
   "metadata": {},
   "outputs": [],
   "source": [
    "import os\n",
    "import sys\n",
    "import numpy as np\n",
    "import pandas as pd\n",
    "import matplotlib.pyplot as plt\n",
    "%matplotlib inline"
   ]
  },
  {
   "cell_type": "code",
   "execution_count": null,
   "metadata": {},
   "outputs": [],
   "source": [
    "edw = pd.read_csv(os.path.expanduser('~/dropbox/ecgnet-as/data/edw/edw.csv'), low_memory=False)\n",
    "epic = pd.read_csv(os.path.expanduser('~/dropbox/ecgnet-as/data/mgh-echo-lab/epic.csv'), low_memory=False)\n",
    "legacy = pd.read_csv(os.path.expanduser('~/dropbox/ecgnet-as/data/mgh-echo-lab/legacy.csv'), low_memory=False)\n",
    "merged = pd.read_csv(os.path.expanduser('~/dropbox/ecgnet-as/data/echo.csv'), low_memory=False)"
   ]
  },
  {
   "cell_type": "code",
   "execution_count": null,
   "metadata": {},
   "outputs": [],
   "source": [
    "edw['date'] = pd.to_datetime(edw['date'])\n",
    "epic['date'] = pd.to_datetime(epic['date'])\n",
    "legacy['date'] = pd.to_datetime(legacy['date'])\n",
    "merged['date'] = pd.to_datetime(merged['date'])"
   ]
  },
  {
   "cell_type": "code",
   "execution_count": null,
   "metadata": {},
   "outputs": [],
   "source": [
    "legacy['OrderProcedureID'] = pd.Series(list(range(-1, -1 * (len(legacy) + 1), -1)))\n",
    "\n",
    "naive_merge = pd.concat([edw, epic, legacy])\n",
    "truly_unique = naive_merge.drop_duplicates(['mrn', 'OrderProcedureID'], keep=False)\n",
    "truly_unique_counts = truly_unique['source'].value_counts()\n",
    "truly_unique_counts['Merged'] = 'NA'"
   ]
  },
  {
   "cell_type": "code",
   "execution_count": null,
   "metadata": {},
   "outputs": [],
   "source": [
    "def stats(df, name):\n",
    "    print(\n",
    "        f\"--- {name} ---\\n\"\n",
    "        f\"Patients:\\t\\t{len(df['mrn'].drop_duplicates())}\\n\"\n",
    "        f\"Echos:\\t\\t\\t{len(df)}\\n\"\n",
    "        f\"Echos unique to {name}:\\t{truly_unique_counts[name]}\\n\"\n",
    "        f\"First date:\\t\\t{df['date'].min()}\\n\"\n",
    "        f\"Last date:\\t\\t{df['date'].max()}\\n\"\n",
    "    )"
   ]
  },
  {
   "cell_type": "code",
   "execution_count": null,
   "metadata": {},
   "outputs": [],
   "source": [
    "for df, name in [(edw, \"EDW\"), (epic, \"Epic\"), (legacy, \"Legacy\"), (merged, \"Merged\")]:\n",
    "    stats(df, name)"
   ]
  },
  {
   "cell_type": "code",
   "execution_count": null,
   "metadata": {},
   "outputs": [],
   "source": [
    "ecg = pd.read_csv(os.path.expanduser('~/explore-ecg/tensors_union.csv'))\n",
    "ecg.columns = [\"mrn\", \"date\"]\n",
    "ecg = ecg.dropna()\n",
    "ecg[\"mrn\"] = ecg[\"mrn\"].astype(int)\n",
    "ecg[\"date\"] = pd.to_datetime(ecg[\"date\"])\n",
    "ecg = ecg[ecg[\"date\"].between(pd.to_datetime('1981-06-01'), pd.to_datetime('2022-01-01'))]"
   ]
  },
  {
   "cell_type": "code",
   "execution_count": null,
   "metadata": {},
   "outputs": [],
   "source": [
    "def plot_test_count(df, title, xlabel, ylabel, save_path):\n",
    "    fig, ax = plt.subplots(figsize=(10, 5))\n",
    "    month_counts = df[\"mrn\"].groupby([df[\"date\"].dt.year, df[\"date\"].dt.month]).count()\n",
    "    ax.bar(range(len(month_counts)), month_counts, width=1)\n",
    "    ax.tick_params(axis='y', which='major', labelsize=12)\n",
    "    ax.tick_params(axis='x', which='major', labelsize=12)\n",
    "    ax.set_ylabel(ylabel, fontsize=14)\n",
    "    ax.set_xlabel(xlabel, fontsize=14)\n",
    "    ax.set_title(title, fontsize=16)\n",
    "    first_jan = (month_counts.index.get_level_values(1) == 1).argmax()\n",
    "    ax.set_xticks(range(first_jan, len(month_counts), 12))\n",
    "    month_labels = month_counts.index.map(lambda x: f\"{x[0]}-{x[1]:02}\")\n",
    "    ax.set_xticklabels(month_labels[first_jan::12], rotation=90)\n",
    "    plt.tight_layout()\n",
    "    plt.savefig(save_path)"
   ]
  },
  {
   "cell_type": "code",
   "execution_count": null,
   "metadata": {},
   "outputs": [],
   "source": [
    "plot_test_count(\n",
    "    df=ecg,\n",
    "    title=f'ECGs per Month: n={len(ecg)}',\n",
    "    xlabel='ECG date',\n",
    "    ylabel='Number of ECGs',\n",
    "    save_path=os.path.expanduser('~/dropbox/ecgnet-as/figures-and-tables/ecgs-per-month.pdf'),\n",
    ")"
   ]
  },
  {
   "cell_type": "code",
   "execution_count": null,
   "metadata": {},
   "outputs": [],
   "source": [
    "plot_test_count(\n",
    "    df=merged,\n",
    "    title=f'Echos per Month: n={len(merged)}',\n",
    "    xlabel='Echo date',\n",
    "    ylabel='Number of Echos',\n",
    "    save_path=os.path.expanduser('~/dropbox/ecgnet-as/figures-and-tables/echos-per-month.pdf'),\n",
    ")"
   ]
  },
  {
   "cell_type": "code",
   "execution_count": null,
   "metadata": {},
   "outputs": [],
   "source": [
    "for key in [\"AV Area\", \"AV Peak Velocity\", \"AV Mean Gradient\", \"AV Peak Gradient\"]:\n",
    "    print(f\"{key}: {echo[key].isna().value_counts()[False]}\")"
   ]
  },
  {
   "cell_type": "code",
   "execution_count": null,
   "metadata": {},
   "outputs": [],
   "source": [
    "edw['AV Peak Velocity'].hist(bins=40, range=(-0.5, 7.5))\n",
    "plt.title('EDW: AV Peak Velocity (converted to m/s)')\n",
    "plt.ylabel('Count')\n",
    "plt.xlim(-0.5, 8)\n",
    "plt.savefig(os.path.expanduser('~/dropbox/ecgnet-as/figures-and-tables/edw-peak-velocity.pdf'))"
   ]
  },
  {
   "cell_type": "code",
   "execution_count": null,
   "metadata": {},
   "outputs": [],
   "source": [
    "epic['AV Peak Velocity'].hist(bins=40)\n",
    "plt.title('Echo Lab (Epic): AV Peak Velocity (unknown units)')\n",
    "plt.ylabel('Count')\n",
    "plt.xlim(-500, 8000)\n",
    "plt.savefig(os.path.expanduser('~/dropbox/ecgnet-as/figures-and-tables/epic-peak-velocity.pdf'))"
   ]
  },
  {
   "cell_type": "code",
   "execution_count": null,
   "metadata": {},
   "outputs": [],
   "source": [
    "merged['AV Mean Gradient'].describe()"
   ]
  },
  {
   "cell_type": "code",
   "execution_count": null,
   "metadata": {},
   "outputs": [],
   "source": [
    "merged['AV Mean Gradient'].hist(bins=40)\n",
    "plt.title(f'AV Mean Gradient: n={len(merged[\"AV Mean Gradient\"].dropna())}')\n",
    "plt.ylabel('Count')\n",
    "plt.savefig(os.path.expanduser('~/dropbox/ecgnet-as/figures-and-tables/av-mean-gradient.pdf'))"
   ]
  },
  {
   "cell_type": "code",
   "execution_count": null,
   "metadata": {},
   "outputs": [],
   "source": [
    "merged['AV Mean Gradient'].hist(bins=40, range=(30, 40))\n",
    "plt.ylabel('Count')\n",
    "plt.title('AV Mean Gradient (30 - 40 mmHg)')\n",
    "plt.savefig(os.path.expanduser('~/dropbox/ecgnet-as/figures-and-tables/av-mean-gradient-zoomed-in.pdf'))"
   ]
  }
 ],
 "metadata": {
  "kernelspec": {
   "display_name": "Python 3",
   "language": "python",
   "name": "python3"
  },
  "language_info": {
   "codemirror_mode": {
    "name": "ipython",
    "version": 3
   },
   "file_extension": ".py",
   "mimetype": "text/x-python",
   "name": "python",
   "nbconvert_exporter": "python",
   "pygments_lexer": "ipython3",
   "version": "3.8.0"
  }
 },
 "nbformat": 4,
 "nbformat_minor": 4
}
