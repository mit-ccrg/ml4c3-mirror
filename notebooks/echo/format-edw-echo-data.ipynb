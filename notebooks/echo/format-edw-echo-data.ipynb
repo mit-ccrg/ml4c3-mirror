{
 "cells": [
  {
   "cell_type": "code",
   "execution_count": null,
   "metadata": {},
   "outputs": [],
   "source": [
    "import os\n",
    "import pandas as pd"
   ]
  },
  {
   "cell_type": "code",
   "execution_count": null,
   "metadata": {},
   "outputs": [],
   "source": [
    "def p(d, max_rows=None, max_cols=None):\n",
    "    with pd.option_context('display.max_rows', max_rows, 'display.max_columns', max_cols, 'display.float_format', lambda x: f'{x}'):\n",
    "        display(d)"
   ]
  },
  {
   "cell_type": "code",
   "execution_count": null,
   "metadata": {},
   "outputs": [],
   "source": [
    "df = pd.read_csv(os.path.expanduser('~/dropbox/edw-echo-raw.csv'), low_memory=False)"
   ]
  },
  {
   "cell_type": "code",
   "execution_count": null,
   "metadata": {},
   "outputs": [],
   "source": [
    "# Column Names\n",
    "# df.keys()"
   ]
  },
  {
   "cell_type": "code",
   "execution_count": null,
   "metadata": {},
   "outputs": [],
   "source": [
    "# Measurement Names\n",
    "# p(df['ComponentNM'].drop_duplicates())"
   ]
  },
  {
   "cell_type": "code",
   "execution_count": null,
   "metadata": {},
   "outputs": [],
   "source": [
    "peak_velocity_name = \"aortic valve peak velocity\"\n",
    "mean_gradient_name = \"aortic valve mean gradient\"\n",
    "valve_area_name = \"aortic valve area\"\n",
    "indexed_valve_area_name = \"indexed aortic valve area\"\n",
    "\n",
    "# maps ComponentNM to a standard name (ComponentCommonNM may differ)\n",
    "name_map = {\n",
    "    \"AORTIC VALVE PEAK VELOCITY (1)\": peak_velocity_name,\n",
    "    \"DOP CALC AO PEAK VEL\":           peak_velocity_name,\n",
    "    \"AV PEAK VELOCITY\":               peak_velocity_name,\n",
    "    \"AORTIC VALVE MEAN GRADIENT (1)\": mean_gradient_name,\n",
    "    \"AV MEAN GRADIENT\":               mean_gradient_name,\n",
    "    \"AORTIC VALVE AREA (1)\":          valve_area_name,\n",
    "    \"AV VALVE AREA\":                  valve_area_name,\n",
    "    \"AORTIC VALVE AREA INDEX (1)\":    indexed_valve_area_name,\n",
    "}"
   ]
  },
  {
   "cell_type": "code",
   "execution_count": null,
   "metadata": {},
   "outputs": [],
   "source": [
    "# only get measurements defined in name_map\n",
    "as_df = df[df['ComponentNM'].apply(lambda key: key in name_map)].copy()\n",
    "\n",
    "# label measurements with standard name and make friendlier names\n",
    "as_df['measurement'] = as_df['ComponentNM'].apply(lambda key: name_map[key])\n",
    "as_df['value'] = as_df['ResultValueNBR']\n",
    "as_df['units'] = as_df['ReferenceRangeUnitCD']\n",
    "\n",
    "# remove exact duplicates measurements (same patient, same echo, same measurement, same value)\n",
    "as_df = as_df.drop_duplicates(['MRN', 'OrderProcedureID', 'measurement', 'ResultTXT'])"
   ]
  },
  {
   "cell_type": "code",
   "execution_count": null,
   "metadata": {},
   "outputs": [],
   "source": [
    "# for a given echo, there should only be 1 result per measurement (exact duplicates were already removed)\n",
    "for name, group in as_df.groupby('measurement'):\n",
    "    dupes = group[group.duplicated('OrderProcedureID', keep=False)]\n",
    "    if len(dupes) != 0:\n",
    "        print(f\"Duplicate measurements for {name} found, please fix before proceding:\")\n",
    "        print(dupes)\n",
    "        break"
   ]
  },
  {
   "cell_type": "code",
   "execution_count": null,
   "metadata": {},
   "outputs": [],
   "source": [
    "# reformat data from 1 row per measurement per echo to echo by measurement table\n",
    "non_pivot_columns = ['MRN', 'PatientID', 'PatientEncounterID', 'ProcedureID', 'ProcedureDSC', 'OrderProcedureID', 'OrderDTS', 'StartDTS', 'EndDTS', 'ResultDTS', 'OrderTypeDSC', 'OrderDisplayNM', 'ComponentObservedDTS', 'SpecimenReceivedTimeDTS', 'SpecimenTakenTimeDTS']\n",
    "pivot_columns = ['measurement']\n",
    "pivot_values = ['value', 'units']\n",
    "\n",
    "data = as_df.pivot(index=non_pivot_columns, columns=pivot_columns, values=pivot_values)\n",
    "data.columns = data.columns.to_flat_index().map(lambda k: k[1] if k[0] == \"value\" else f\"{k[1]} {k[0]}\")\n",
    "data = data.reset_index()\n",
    "data"
   ]
  },
  {
   "cell_type": "code",
   "execution_count": null,
   "metadata": {},
   "outputs": [],
   "source": [
    "n_patients = len(data['MRN'].drop_duplicates())\n",
    "n_echos = len(data[['MRN', 'OrderProcedureID']].drop_duplicates())\n",
    "n_as = len(data.dropna(subset=[peak_velocity_name, mean_gradient_name, valve_area_name])[['MRN', 'OrderProcedureID']].drop_duplicates())\n",
    "\n",
    "print(f\"Number of Patients:\\t\\t{n_patients}\")\n",
    "print(f\"Number of Echos:\\t\\t{n_echos}\")\n",
    "print(f\"Number of Echos w/ AS values:\\t{n_as}\")"
   ]
  },
  {
   "cell_type": "code",
   "execution_count": null,
   "metadata": {},
   "outputs": [],
   "source": [
    "data.to_csv(os.path.expanduser('~/dropbox/edw-echo.csv'), index=False)"
   ]
  }
 ],
 "metadata": {
  "kernelspec": {
   "display_name": "Python 3",
   "language": "python",
   "name": "python3"
  },
  "language_info": {
   "codemirror_mode": {
    "name": "ipython",
    "version": 3
   },
   "file_extension": ".py",
   "mimetype": "text/x-python",
   "name": "python",
   "nbconvert_exporter": "python",
   "pygments_lexer": "ipython3",
   "version": "3.8.0"
  }
 },
 "nbformat": 4,
 "nbformat_minor": 4
}
