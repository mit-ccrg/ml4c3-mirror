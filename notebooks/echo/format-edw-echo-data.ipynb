{
 "cells": [
  {
   "cell_type": "code",
   "execution_count": null,
   "metadata": {},
   "outputs": [],
   "source": [
    "import os\n",
    "import pandas as pd\n",
    "from IPython.display import clear_output"
   ]
  },
  {
   "cell_type": "code",
   "execution_count": null,
   "metadata": {},
   "outputs": [],
   "source": [
    "def p(d, max_rows=None, max_cols=None):\n",
    "    with pd.option_context('display.max_rows', max_rows, 'display.max_columns', max_cols, 'display.float_format', lambda x: f'{x}', 'display.max_colwidth', None):\n",
    "        display(d)"
   ]
  },
  {
   "cell_type": "code",
   "execution_count": null,
   "metadata": {},
   "outputs": [],
   "source": [
    "df = pd.read_csv(os.path.expanduser('~/echo-raw-2.csv'), low_memory=False)"
   ]
  },
  {
   "cell_type": "code",
   "execution_count": null,
   "metadata": {},
   "outputs": [],
   "source": [
    "# Column Names\n",
    "# df.keys()"
   ]
  },
  {
   "cell_type": "code",
   "execution_count": null,
   "metadata": {},
   "outputs": [],
   "source": [
    "# Setup to get relevant measurement names\n",
    "peak_velocity_name = \"AV Peak Velocity\"\n",
    "peak_gradient_name = \"AV Peak Gradient\"\n",
    "mean_gradient_name = \"AV Mean Gradient\"\n",
    "valve_area_name = \"AV Area\"\n",
    "indexed_valve_area_name = \"Indexed AV Area\"\n",
    "\n",
    "components = df['ComponentNM'].drop_duplicates().reset_index(drop=True)\n",
    "mask = components.str.lower().str.contains('peak|gradient|velocity|mean|area')\n",
    "components = components[mask].reset_index(drop=True)\n",
    "\n",
    "n_to_name = {\n",
    "    1: peak_velocity_name,\n",
    "    2: peak_gradient_name,\n",
    "    3: mean_gradient_name,\n",
    "    4: valve_area_name,\n",
    "    5: indexed_valve_area_name,\n",
    "    0: \"Discard\",\n",
    "}\n",
    "n_to_name_str = str(n_to_name)\n",
    "n_to_name_str = n_to_name_str[1:-2]\n",
    "n_to_name_str = n_to_name_str.replace(\", \", \"\\n\") + \"\\n\"\n",
    "n_to_name_str = n_to_name_str.replace(\"'\", \"\")\n",
    "\n",
    "def valid_option(x):\n",
    "    try:\n",
    "        x = int(x)\n",
    "        return x in n_to_name\n",
    "    except ValueError:\n",
    "        return False\n",
    "\n",
    "# p(components[mask].reset_index(drop=True))"
   ]
  },
  {
   "cell_type": "code",
   "execution_count": null,
   "metadata": {},
   "outputs": [],
   "source": [
    "# Manually map measurement names\n",
    "name_map = {}\n",
    "for component in components:\n",
    "    print(component)\n",
    "    while not valid_option(n := input(n_to_name_str)):\n",
    "        print(\"Please choose a valid category\")\n",
    "    clear_output(wait=True)\n",
    "    n = int(n)\n",
    "    name_map[component] = n_to_name[n]\n",
    "\n",
    "name_map = {k: v for k, v in name_map.items() if v != \"Discard\"}"
   ]
  },
  {
   "cell_type": "code",
   "execution_count": null,
   "metadata": {},
   "outputs": [],
   "source": [
    "name_map"
   ]
  },
  {
   "cell_type": "code",
   "execution_count": null,
   "metadata": {},
   "outputs": [],
   "source": [
    "# only get measurements defined in name_map\n",
    "as_df = df[df['ComponentNM'].apply(lambda key: key in name_map)].copy()\n",
    "\n",
    "# label measurements with standard name and make friendlier names\n",
    "as_df['measurement'] = as_df['ComponentNM'].apply(lambda key: name_map[key])\n",
    "as_df['value'] = as_df['ResultValueNBR']\n",
    "as_df['units'] = as_df['ReferenceRangeUnitCD']\n",
    "\n",
    "# remove exact duplicates measurements (same patient, same echo, same measurement, same value)\n",
    "as_df = as_df.drop_duplicates(['MRN', 'OrderProcedureID', 'measurement', 'ResultTXT'])"
   ]
  },
  {
   "cell_type": "code",
   "execution_count": null,
   "metadata": {},
   "outputs": [],
   "source": [
    "# for a given echo, there should only be 1 result per measurement (exact duplicates were already removed)\n",
    "for name, group in as_df.groupby('measurement'):\n",
    "    dupes = group[group.duplicated('OrderProcedureID', keep=False)]\n",
    "    if len(dupes) != 0:\n",
    "        print(f\"Duplicate measurements for {name} found, please fix before proceding:\")\n",
    "        print(dupes)\n",
    "        break"
   ]
  },
  {
   "cell_type": "code",
   "execution_count": null,
   "metadata": {},
   "outputs": [],
   "source": [
    "# reformat data from 1 row per measurement per echo to echo by measurement table\n",
    "non_pivot_columns = ['MRN', 'PatientID', 'PatientEncounterID', 'ProcedureID', 'ProcedureDSC', 'OrderProcedureID', 'OrderDTS', 'StartDTS', 'EndDTS', 'ResultDTS', 'OrderTypeDSC', 'OrderDisplayNM', 'ComponentObservedDTS', 'SpecimenReceivedTimeDTS', 'SpecimenTakenTimeDTS']\n",
    "pivot_columns = ['measurement']\n",
    "pivot_values = ['value', 'units']\n",
    "\n",
    "data = as_df.pivot(index=non_pivot_columns, columns=pivot_columns, values=pivot_values)\n",
    "data.columns = data.columns.to_flat_index().map(lambda k: k[1] if k[0] == \"value\" else f\"{k[1]} {k[0]}\")\n",
    "data = data.reset_index()\n",
    "data"
   ]
  },
  {
   "cell_type": "code",
   "execution_count": null,
   "metadata": {},
   "outputs": [],
   "source": [
    "n_patients = len(data['MRN'].drop_duplicates())\n",
    "n_echos = len(data[['MRN', 'OrderProcedureID']].drop_duplicates())\n",
    "n_as = len(data.dropna(subset=[peak_velocity_name, mean_gradient_name, valve_area_name])[['MRN', 'OrderProcedureID']].drop_duplicates())\n",
    "\n",
    "print(f\"Number of Patients:\\t\\t{n_patients}\")\n",
    "print(f\"Number of Echos:\\t\\t{n_echos}\")\n",
    "print(f\"Number of Echos w/ AS values:\\t{n_as}\")"
   ]
  },
  {
   "cell_type": "code",
   "execution_count": null,
   "metadata": {},
   "outputs": [],
   "source": [
    "data.to_csv(os.path.expanduser('~/dropbox/edw-echo.csv'), index=False)"
   ]
  }
 ],
 "metadata": {
  "kernelspec": {
   "display_name": "Python 3",
   "language": "python",
   "name": "python3"
  },
  "language_info": {
   "codemirror_mode": {
    "name": "ipython",
    "version": 3
   },
   "file_extension": ".py",
   "mimetype": "text/x-python",
   "name": "python",
   "nbconvert_exporter": "python",
   "pygments_lexer": "ipython3",
   "version": "3.8.0"
  }
 },
 "nbformat": 4,
 "nbformat_minor": 4
}
