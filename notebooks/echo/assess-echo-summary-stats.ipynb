{
 "cells": [
  {
   "cell_type": "code",
   "execution_count": 6,
   "metadata": {},
   "outputs": [],
   "source": [
    "import os\n",
    "import pandas as pd\n",
    "import matplotlib.pyplot as plt"
   ]
  },
  {
   "cell_type": "code",
   "execution_count": 2,
   "metadata": {},
   "outputs": [],
   "source": [
    "%matplotlib inline"
   ]
  },
  {
   "cell_type": "code",
   "execution_count": 3,
   "metadata": {},
   "outputs": [],
   "source": [
    "fpath = os.path.expanduser(\"~/dropbox/ecgnet-as/data/edw/edw-echo.csv\")\n",
    "df = pd.read_csv(fpath)"
   ]
  },
  {
   "cell_type": "code",
   "execution_count": 4,
   "metadata": {},
   "outputs": [
    {
     "data": {
      "text/html": [
       "<div>\n",
       "<style scoped>\n",
       "    .dataframe tbody tr th:only-of-type {\n",
       "        vertical-align: middle;\n",
       "    }\n",
       "\n",
       "    .dataframe tbody tr th {\n",
       "        vertical-align: top;\n",
       "    }\n",
       "\n",
       "    .dataframe thead th {\n",
       "        text-align: right;\n",
       "    }\n",
       "</style>\n",
       "<table border=\"1\" class=\"dataframe\">\n",
       "  <thead>\n",
       "    <tr style=\"text-align: right;\">\n",
       "      <th></th>\n",
       "      <th>MRN</th>\n",
       "      <th>PatientID</th>\n",
       "      <th>PatientEncounterID</th>\n",
       "      <th>ProcedureID</th>\n",
       "      <th>ProcedureDSC</th>\n",
       "      <th>OrderProcedureID</th>\n",
       "      <th>OrderDTS</th>\n",
       "      <th>StartDTS</th>\n",
       "      <th>EndDTS</th>\n",
       "      <th>ResultDTS</th>\n",
       "      <th>...</th>\n",
       "      <th>AV Area</th>\n",
       "      <th>AV Mean Gradient</th>\n",
       "      <th>AV Peak Gradient</th>\n",
       "      <th>AV Peak Velocity</th>\n",
       "      <th>Indexed AV Area</th>\n",
       "      <th>AV Area units</th>\n",
       "      <th>AV Mean Gradient units</th>\n",
       "      <th>AV Peak Gradient units</th>\n",
       "      <th>AV Peak Velocity units</th>\n",
       "      <th>Indexed AV Area units</th>\n",
       "    </tr>\n",
       "  </thead>\n",
       "  <tbody>\n",
       "    <tr>\n",
       "      <th>0</th>\n",
       "      <td>74</td>\n",
       "      <td>Z6353877</td>\n",
       "      <td>3.290349e+09</td>\n",
       "      <td>173063.0</td>\n",
       "      <td>ADULT ECHO TTE</td>\n",
       "      <td>637997928.0</td>\n",
       "      <td>2020-01-18 01:57:00.0000000</td>\n",
       "      <td>2020-01-18 01:57:00.0000000</td>\n",
       "      <td>2020-01-18 23:59:00.0000000</td>\n",
       "      <td>2020-01-21 13:30:00.0000000</td>\n",
       "      <td>...</td>\n",
       "      <td>1.000000</td>\n",
       "      <td>20.0</td>\n",
       "      <td>34.00</td>\n",
       "      <td>290.0</td>\n",
       "      <td>0.63</td>\n",
       "      <td>cm2</td>\n",
       "      <td>mmHg</td>\n",
       "      <td>mmHg</td>\n",
       "      <td>cm/s</td>\n",
       "      <td>cm2/m2</td>\n",
       "    </tr>\n",
       "    <tr>\n",
       "      <th>1</th>\n",
       "      <td>210</td>\n",
       "      <td>Z6555514</td>\n",
       "      <td>3.195991e+09</td>\n",
       "      <td>173063.0</td>\n",
       "      <td>ADULT ECHO TTE</td>\n",
       "      <td>311186750.0</td>\n",
       "      <td>2018-04-13 13:31:00.0000000</td>\n",
       "      <td>2018-04-13 13:31:00.0000000</td>\n",
       "      <td>2018-04-13 23:59:00.0000000</td>\n",
       "      <td>2018-04-13 16:18:00.0000000</td>\n",
       "      <td>...</td>\n",
       "      <td>2.650000</td>\n",
       "      <td>4.0</td>\n",
       "      <td>9.00</td>\n",
       "      <td>NaN</td>\n",
       "      <td>1.26</td>\n",
       "      <td>cm2</td>\n",
       "      <td>mmHg</td>\n",
       "      <td>mmHg</td>\n",
       "      <td>NaN</td>\n",
       "      <td>cm2/m2</td>\n",
       "    </tr>\n",
       "    <tr>\n",
       "      <th>2</th>\n",
       "      <td>870</td>\n",
       "      <td>Z6700496</td>\n",
       "      <td>3.209749e+09</td>\n",
       "      <td>173063.0</td>\n",
       "      <td>ADULT ECHO TTE</td>\n",
       "      <td>438397005.0</td>\n",
       "      <td>2018-08-22 12:53:00.0000000</td>\n",
       "      <td>2018-08-22 12:53:00.0000000</td>\n",
       "      <td>2018-08-22 23:59:00.0000000</td>\n",
       "      <td>2018-08-23 11:29:00.0000000</td>\n",
       "      <td>...</td>\n",
       "      <td>1.230000</td>\n",
       "      <td>12.0</td>\n",
       "      <td>25.00</td>\n",
       "      <td>269.0</td>\n",
       "      <td>0.77</td>\n",
       "      <td>cm2</td>\n",
       "      <td>mmHg</td>\n",
       "      <td>mmHg</td>\n",
       "      <td>cm/s</td>\n",
       "      <td>cm2/m2</td>\n",
       "    </tr>\n",
       "    <tr>\n",
       "      <th>3</th>\n",
       "      <td>2607</td>\n",
       "      <td>Z12173668</td>\n",
       "      <td>3.274136e+09</td>\n",
       "      <td>173063.0</td>\n",
       "      <td>ADULT ECHO TTE</td>\n",
       "      <td>596294748.0</td>\n",
       "      <td>2019-10-15 11:20:00.0000000</td>\n",
       "      <td>2019-10-15 11:21:00.0000000</td>\n",
       "      <td>2019-10-15 23:59:00.0000000</td>\n",
       "      <td>2019-10-15 13:56:00.0000000</td>\n",
       "      <td>...</td>\n",
       "      <td>NaN</td>\n",
       "      <td>9.0</td>\n",
       "      <td>19.00</td>\n",
       "      <td>NaN</td>\n",
       "      <td>NaN</td>\n",
       "      <td>NaN</td>\n",
       "      <td>mmHg</td>\n",
       "      <td>mmHg</td>\n",
       "      <td>NaN</td>\n",
       "      <td>NaN</td>\n",
       "    </tr>\n",
       "    <tr>\n",
       "      <th>4</th>\n",
       "      <td>2653</td>\n",
       "      <td>Z7221166</td>\n",
       "      <td>3.185859e+09</td>\n",
       "      <td>173063.0</td>\n",
       "      <td>ADULT ECHO TTE</td>\n",
       "      <td>367830645.0</td>\n",
       "      <td>2018-01-13 20:01:00.0000000</td>\n",
       "      <td>2018-01-13 20:01:00.0000000</td>\n",
       "      <td>2018-01-13 23:59:00.0000000</td>\n",
       "      <td>2018-01-15 10:54:00.0000000</td>\n",
       "      <td>...</td>\n",
       "      <td>1.300000</td>\n",
       "      <td>30.0</td>\n",
       "      <td>50.00</td>\n",
       "      <td>354.0</td>\n",
       "      <td>0.62</td>\n",
       "      <td>cm2</td>\n",
       "      <td>mmHg</td>\n",
       "      <td>mmHg</td>\n",
       "      <td>cm/s</td>\n",
       "      <td>cm2/m2</td>\n",
       "    </tr>\n",
       "    <tr>\n",
       "      <th>...</th>\n",
       "      <td>...</td>\n",
       "      <td>...</td>\n",
       "      <td>...</td>\n",
       "      <td>...</td>\n",
       "      <td>...</td>\n",
       "      <td>...</td>\n",
       "      <td>...</td>\n",
       "      <td>...</td>\n",
       "      <td>...</td>\n",
       "      <td>...</td>\n",
       "      <td>...</td>\n",
       "      <td>...</td>\n",
       "      <td>...</td>\n",
       "      <td>...</td>\n",
       "      <td>...</td>\n",
       "      <td>...</td>\n",
       "      <td>...</td>\n",
       "      <td>...</td>\n",
       "      <td>...</td>\n",
       "      <td>...</td>\n",
       "      <td>...</td>\n",
       "    </tr>\n",
       "    <tr>\n",
       "      <th>59295</th>\n",
       "      <td>7162376</td>\n",
       "      <td>Z17334310</td>\n",
       "      <td>3.333971e+09</td>\n",
       "      <td>173063.0</td>\n",
       "      <td>ADULT ECHO TTE</td>\n",
       "      <td>741943184.0</td>\n",
       "      <td>2020-11-02 12:21:00.0000000</td>\n",
       "      <td>2020-11-02 12:21:00.0000000</td>\n",
       "      <td>2020-11-02 23:59:00.0000000</td>\n",
       "      <td>2020-11-02 16:22:00.0000000</td>\n",
       "      <td>...</td>\n",
       "      <td>1.927018</td>\n",
       "      <td>5.0</td>\n",
       "      <td>8.18</td>\n",
       "      <td>143.0</td>\n",
       "      <td>0.92</td>\n",
       "      <td>cm2</td>\n",
       "      <td>mmHg</td>\n",
       "      <td>mmHg</td>\n",
       "      <td>cm/s</td>\n",
       "      <td>cm2/m2</td>\n",
       "    </tr>\n",
       "    <tr>\n",
       "      <th>59296</th>\n",
       "      <td>7163070</td>\n",
       "      <td>Z17106104</td>\n",
       "      <td>3.332103e+09</td>\n",
       "      <td>173063.0</td>\n",
       "      <td>ADULT ECHO TTE</td>\n",
       "      <td>738345774.0</td>\n",
       "      <td>2020-10-18 20:33:00.0000000</td>\n",
       "      <td>2020-10-18 20:34:00.0000000</td>\n",
       "      <td>2020-10-18 23:59:00.0000000</td>\n",
       "      <td>2020-10-20 13:03:00.0000000</td>\n",
       "      <td>...</td>\n",
       "      <td>3.004045</td>\n",
       "      <td>2.0</td>\n",
       "      <td>4.24</td>\n",
       "      <td>103.0</td>\n",
       "      <td>1.24</td>\n",
       "      <td>cm2</td>\n",
       "      <td>mmHg</td>\n",
       "      <td>mmHg</td>\n",
       "      <td>cm/s</td>\n",
       "      <td>cm2/m2</td>\n",
       "    </tr>\n",
       "    <tr>\n",
       "      <th>59297</th>\n",
       "      <td>7163703</td>\n",
       "      <td>Z11057472</td>\n",
       "      <td>3.282844e+09</td>\n",
       "      <td>173063.0</td>\n",
       "      <td>ADULT ECHO TTE</td>\n",
       "      <td>617747100.0</td>\n",
       "      <td>2019-11-30 20:29:00.0000000</td>\n",
       "      <td>2019-12-01 08:00:00.0000000</td>\n",
       "      <td>2019-12-01 23:59:00.0000000</td>\n",
       "      <td>2019-12-03 14:10:00.0000000</td>\n",
       "      <td>...</td>\n",
       "      <td>1.750000</td>\n",
       "      <td>10.0</td>\n",
       "      <td>18.00</td>\n",
       "      <td>220.2</td>\n",
       "      <td>0.92</td>\n",
       "      <td>cm2</td>\n",
       "      <td>mmHg</td>\n",
       "      <td>mmHg</td>\n",
       "      <td>cm/s</td>\n",
       "      <td>cm2/m2</td>\n",
       "    </tr>\n",
       "    <tr>\n",
       "      <th>59298</th>\n",
       "      <td>7167647</td>\n",
       "      <td>Z17218866</td>\n",
       "      <td>3.319225e+09</td>\n",
       "      <td>173063.0</td>\n",
       "      <td>ADULT ECHO TTE</td>\n",
       "      <td>706487703.0</td>\n",
       "      <td>2020-09-08 07:31:00.0000000</td>\n",
       "      <td>2020-09-08 07:31:00.0000000</td>\n",
       "      <td>2020-09-08 23:59:00.0000000</td>\n",
       "      <td>2020-09-08 10:40:00.0000000</td>\n",
       "      <td>...</td>\n",
       "      <td>0.613420</td>\n",
       "      <td>20.0</td>\n",
       "      <td>NaN</td>\n",
       "      <td>324.0</td>\n",
       "      <td>0.28</td>\n",
       "      <td>cm2</td>\n",
       "      <td>mmHg</td>\n",
       "      <td>NaN</td>\n",
       "      <td>cm/s</td>\n",
       "      <td>cm2/m2</td>\n",
       "    </tr>\n",
       "    <tr>\n",
       "      <th>59299</th>\n",
       "      <td>8907944</td>\n",
       "      <td>Z16269250</td>\n",
       "      <td>3.182824e+09</td>\n",
       "      <td>173063.0</td>\n",
       "      <td>ADULT ECHO TTE</td>\n",
       "      <td>360698051.0</td>\n",
       "      <td>2017-12-21 08:20:00.0000000</td>\n",
       "      <td>2017-12-21 08:21:00.0000000</td>\n",
       "      <td>2017-12-21 23:59:00.0000000</td>\n",
       "      <td>2017-12-21 17:58:00.0000000</td>\n",
       "      <td>...</td>\n",
       "      <td>NaN</td>\n",
       "      <td>18.0</td>\n",
       "      <td>35.00</td>\n",
       "      <td>NaN</td>\n",
       "      <td>NaN</td>\n",
       "      <td>NaN</td>\n",
       "      <td>mmHg</td>\n",
       "      <td>mmHg</td>\n",
       "      <td>NaN</td>\n",
       "      <td>NaN</td>\n",
       "    </tr>\n",
       "  </tbody>\n",
       "</table>\n",
       "<p>59300 rows × 25 columns</p>\n",
       "</div>"
      ],
      "text/plain": [
       "           MRN  PatientID  PatientEncounterID  ProcedureID    ProcedureDSC  \\\n",
       "0           74   Z6353877        3.290349e+09     173063.0  ADULT ECHO TTE   \n",
       "1          210   Z6555514        3.195991e+09     173063.0  ADULT ECHO TTE   \n",
       "2          870   Z6700496        3.209749e+09     173063.0  ADULT ECHO TTE   \n",
       "3         2607  Z12173668        3.274136e+09     173063.0  ADULT ECHO TTE   \n",
       "4         2653   Z7221166        3.185859e+09     173063.0  ADULT ECHO TTE   \n",
       "...        ...        ...                 ...          ...             ...   \n",
       "59295  7162376  Z17334310        3.333971e+09     173063.0  ADULT ECHO TTE   \n",
       "59296  7163070  Z17106104        3.332103e+09     173063.0  ADULT ECHO TTE   \n",
       "59297  7163703  Z11057472        3.282844e+09     173063.0  ADULT ECHO TTE   \n",
       "59298  7167647  Z17218866        3.319225e+09     173063.0  ADULT ECHO TTE   \n",
       "59299  8907944  Z16269250        3.182824e+09     173063.0  ADULT ECHO TTE   \n",
       "\n",
       "       OrderProcedureID                     OrderDTS  \\\n",
       "0           637997928.0  2020-01-18 01:57:00.0000000   \n",
       "1           311186750.0  2018-04-13 13:31:00.0000000   \n",
       "2           438397005.0  2018-08-22 12:53:00.0000000   \n",
       "3           596294748.0  2019-10-15 11:20:00.0000000   \n",
       "4           367830645.0  2018-01-13 20:01:00.0000000   \n",
       "...                 ...                          ...   \n",
       "59295       741943184.0  2020-11-02 12:21:00.0000000   \n",
       "59296       738345774.0  2020-10-18 20:33:00.0000000   \n",
       "59297       617747100.0  2019-11-30 20:29:00.0000000   \n",
       "59298       706487703.0  2020-09-08 07:31:00.0000000   \n",
       "59299       360698051.0  2017-12-21 08:20:00.0000000   \n",
       "\n",
       "                          StartDTS                       EndDTS  \\\n",
       "0      2020-01-18 01:57:00.0000000  2020-01-18 23:59:00.0000000   \n",
       "1      2018-04-13 13:31:00.0000000  2018-04-13 23:59:00.0000000   \n",
       "2      2018-08-22 12:53:00.0000000  2018-08-22 23:59:00.0000000   \n",
       "3      2019-10-15 11:21:00.0000000  2019-10-15 23:59:00.0000000   \n",
       "4      2018-01-13 20:01:00.0000000  2018-01-13 23:59:00.0000000   \n",
       "...                            ...                          ...   \n",
       "59295  2020-11-02 12:21:00.0000000  2020-11-02 23:59:00.0000000   \n",
       "59296  2020-10-18 20:34:00.0000000  2020-10-18 23:59:00.0000000   \n",
       "59297  2019-12-01 08:00:00.0000000  2019-12-01 23:59:00.0000000   \n",
       "59298  2020-09-08 07:31:00.0000000  2020-09-08 23:59:00.0000000   \n",
       "59299  2017-12-21 08:21:00.0000000  2017-12-21 23:59:00.0000000   \n",
       "\n",
       "                         ResultDTS  ...   AV Area AV Mean Gradient  \\\n",
       "0      2020-01-21 13:30:00.0000000  ...  1.000000             20.0   \n",
       "1      2018-04-13 16:18:00.0000000  ...  2.650000              4.0   \n",
       "2      2018-08-23 11:29:00.0000000  ...  1.230000             12.0   \n",
       "3      2019-10-15 13:56:00.0000000  ...       NaN              9.0   \n",
       "4      2018-01-15 10:54:00.0000000  ...  1.300000             30.0   \n",
       "...                            ...  ...       ...              ...   \n",
       "59295  2020-11-02 16:22:00.0000000  ...  1.927018              5.0   \n",
       "59296  2020-10-20 13:03:00.0000000  ...  3.004045              2.0   \n",
       "59297  2019-12-03 14:10:00.0000000  ...  1.750000             10.0   \n",
       "59298  2020-09-08 10:40:00.0000000  ...  0.613420             20.0   \n",
       "59299  2017-12-21 17:58:00.0000000  ...       NaN             18.0   \n",
       "\n",
       "       AV Peak Gradient  AV Peak Velocity Indexed AV Area  AV Area units  \\\n",
       "0                 34.00             290.0            0.63            cm2   \n",
       "1                  9.00               NaN            1.26            cm2   \n",
       "2                 25.00             269.0            0.77            cm2   \n",
       "3                 19.00               NaN             NaN            NaN   \n",
       "4                 50.00             354.0            0.62            cm2   \n",
       "...                 ...               ...             ...            ...   \n",
       "59295              8.18             143.0            0.92            cm2   \n",
       "59296              4.24             103.0            1.24            cm2   \n",
       "59297             18.00             220.2            0.92            cm2   \n",
       "59298               NaN             324.0            0.28            cm2   \n",
       "59299             35.00               NaN             NaN            NaN   \n",
       "\n",
       "       AV Mean Gradient units  AV Peak Gradient units  AV Peak Velocity units  \\\n",
       "0                        mmHg                    mmHg                    cm/s   \n",
       "1                        mmHg                    mmHg                     NaN   \n",
       "2                        mmHg                    mmHg                    cm/s   \n",
       "3                        mmHg                    mmHg                     NaN   \n",
       "4                        mmHg                    mmHg                    cm/s   \n",
       "...                       ...                     ...                     ...   \n",
       "59295                    mmHg                    mmHg                    cm/s   \n",
       "59296                    mmHg                    mmHg                    cm/s   \n",
       "59297                    mmHg                    mmHg                    cm/s   \n",
       "59298                    mmHg                     NaN                    cm/s   \n",
       "59299                    mmHg                    mmHg                     NaN   \n",
       "\n",
       "       Indexed AV Area units  \n",
       "0                     cm2/m2  \n",
       "1                     cm2/m2  \n",
       "2                     cm2/m2  \n",
       "3                        NaN  \n",
       "4                     cm2/m2  \n",
       "...                      ...  \n",
       "59295                 cm2/m2  \n",
       "59296                 cm2/m2  \n",
       "59297                 cm2/m2  \n",
       "59298                 cm2/m2  \n",
       "59299                    NaN  \n",
       "\n",
       "[59300 rows x 25 columns]"
      ]
     },
     "execution_count": 4,
     "metadata": {},
     "output_type": "execute_result"
    }
   ],
   "source": [
    "df"
   ]
  },
  {
   "cell_type": "code",
   "execution_count": 40,
   "metadata": {},
   "outputs": [
    {
     "data": {
      "text/plain": [
       "cm/s    26869\n",
       "mm/s     7085\n",
       "Name: AV Peak Velocity units, dtype: int64"
      ]
     },
     "execution_count": 40,
     "metadata": {},
     "output_type": "execute_result"
    }
   ],
   "source": [
    "df['AV Peak Velocity units'].value_counts()"
   ]
  },
  {
   "cell_type": "code",
   "execution_count": 28,
   "metadata": {},
   "outputs": [
    {
     "data": {
      "image/png": "[encoded data removed]",
      "text/plain": [
       "<Figure size 432x288 with 1 Axes>"
      ]
     },
     "metadata": {
      "needs_background": "light"
     },
     "output_type": "display_data"
    }
   ],
   "source": [
    "fig, ax = plt.subplots()\n",
    "\n",
    "key = \"AV Area\"\n",
    "\n",
    "ax.hist(df[df[key]<10][key], 50)\n",
    "ax.set_xlabel('cm^2')\n",
    "ax.set_ylabel('counts')\n",
    "ax.set_title(key)\n",
    "\n",
    "fig.tight_layout()\n",
    "plt.show()"
   ]
  },
  {
   "cell_type": "code",
   "execution_count": 29,
   "metadata": {},
   "outputs": [
    {
     "data": {
      "text/plain": [
       "1.591537864018099"
      ]
     },
     "execution_count": 29,
     "metadata": {},
     "output_type": "execute_result"
    }
   ],
   "source": [
    "df[df[key]<10][key].mean()"
   ]
  },
  {
   "cell_type": "code",
   "execution_count": 31,
   "metadata": {},
   "outputs": [
    {
     "data": {
      "text/plain": [
       "1.38"
      ]
     },
     "execution_count": 31,
     "metadata": {},
     "output_type": "execute_result"
    }
   ],
   "source": [
    "df[df[key]<10][key].median()"
   ]
  },
  {
   "cell_type": "code",
   "execution_count": 44,
   "metadata": {},
   "outputs": [
    {
     "name": "stderr",
     "output_type": "stream",
     "text": [
      "/usr/local/lib/python3.8/dist-packages/numpy/lib/histograms.py:839: RuntimeWarning: invalid value encountered in greater_equal\n",
      "  keep = (tmp_a >= first_edge)\n",
      "/usr/local/lib/python3.8/dist-packages/numpy/lib/histograms.py:840: RuntimeWarning: invalid value encountered in less_equal\n",
      "  keep &= (tmp_a <= last_edge)\n"
     ]
    },
    {
     "data": {
      "image/png": "[encoded data removed]",
      "text/plain": [
       "<Figure size 432x288 with 1 Axes>"
      ]
     },
     "metadata": {
      "needs_background": "light"
     },
     "output_type": "display_data"
    }
   ],
   "source": [
    "fig, ax = plt.subplots()\n",
    "\n",
    "key = 'AV Mean Gradient'\n",
    "\n",
    "ax.hist(df[key], 40)\n",
    "ax.set_xlabel('mmHg')\n",
    "ax.set_ylabel('counts')\n",
    "ax.set_title(key)\n",
    "\n",
    "fig.tight_layout()\n",
    "plt.show()"
   ]
  },
  {
   "cell_type": "code",
   "execution_count": 45,
   "metadata": {},
   "outputs": [
    {
     "data": {
      "text/plain": [
       "2864"
      ]
     },
     "execution_count": 45,
     "metadata": {},
     "output_type": "execute_result"
    }
   ],
   "source": [
    "sum(df[key] > 40)"
   ]
  },
  {
   "cell_type": "code",
   "execution_count": 46,
   "metadata": {},
   "outputs": [
    {
     "data": {
      "text/plain": [
       "(59300, 25)"
      ]
     },
     "execution_count": 46,
     "metadata": {},
     "output_type": "execute_result"
    }
   ],
   "source": [
    "df.shape"
   ]
  },
  {
   "cell_type": "code",
   "execution_count": 48,
   "metadata": {},
   "outputs": [
    {
     "data": {
      "text/plain": [
       "4.829679595278246"
      ]
     },
     "execution_count": 48,
     "metadata": {},
     "output_type": "execute_result"
    }
   ],
   "source": [
    "sum(df[key] > 40) / df.shape[0] * 100"
   ]
  },
  {
   "cell_type": "code",
   "execution_count": 38,
   "metadata": {},
   "outputs": [
    {
     "name": "stderr",
     "output_type": "stream",
     "text": [
      "/usr/local/lib/python3.8/dist-packages/numpy/lib/histograms.py:839: RuntimeWarning: invalid value encountered in greater_equal\n",
      "  keep = (tmp_a >= first_edge)\n",
      "/usr/local/lib/python3.8/dist-packages/numpy/lib/histograms.py:840: RuntimeWarning: invalid value encountered in less_equal\n",
      "  keep &= (tmp_a <= last_edge)\n"
     ]
    },
    {
     "data": {
      "image/png": "[encoded data removed]",
      "text/plain": [
       "<Figure size 432x288 with 1 Axes>"
      ]
     },
     "metadata": {
      "needs_background": "light"
     },
     "output_type": "display_data"
    }
   ],
   "source": [
    "fig, ax = plt.subplots()\n",
    "\n",
    "key = 'AV Peak Velocity'\n",
    "\n",
    "ax.hist(df[key], 40)\n",
    "ax.set_xlabel('')\n",
    "ax.set_ylabel('counts')\n",
    "ax.set_title(key)\n",
    "\n",
    "fig.tight_layout()\n",
    "plt.show()"
   ]
  }
 ],
 "metadata": {
  "kernelspec": {
   "display_name": "Python 3",
   "language": "python",
   "name": "python3"
  },
  "language_info": {
   "codemirror_mode": {
    "name": "ipython",
    "version": 3
   },
   "file_extension": ".py",
   "mimetype": "text/x-python",
   "name": "python",
   "nbconvert_exporter": "python",
   "pygments_lexer": "ipython3",
   "version": "3.8.0"
  }
 },
 "nbformat": 4,
 "nbformat_minor": 4
}
