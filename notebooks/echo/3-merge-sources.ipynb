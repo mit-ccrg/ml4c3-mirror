{
 "cells": [
  {
   "cell_type": "code",
   "execution_count": null,
   "metadata": {},
   "outputs": [],
   "source": [
    "import os\n",
    "import pandas as pd"
   ]
  },
  {
   "cell_type": "code",
   "execution_count": null,
   "metadata": {},
   "outputs": [],
   "source": [
    "# Load split echo lab data\n",
    "legacy = pd.read_csv(os.path.expanduser('~/dropbox/ecgnet-as/data/mgh-echo-lab/legacy.csv'))\n",
    "epic = pd.read_csv(os.path.expanduser('~/dropbox/ecgnet-as/data/mgh-echo-lab/epic.csv'))\n",
    "\n",
    "legacy[\"date\"] = pd.to_datetime(legacy[\"date\"])\n",
    "epic[\"date\"] = pd.to_datetime(epic[\"date\"])\n",
    "\n",
    "legacy.dropna(subset=[\"mrn\", \"date\"], inplace=True)\n",
    "epic.dropna(subset=[\"mrn\", \"date\", \"OrderProcedureID\"], inplace=True)"
   ]
  },
  {
   "cell_type": "code",
   "execution_count": null,
   "metadata": {},
   "outputs": [],
   "source": [
    "# Load formatted EDW data\n",
    "edw = pd.read_csv(os.path.expanduser('~/dropbox/ecgnet-as/data/edw/data.csv'))\n",
    "edw = edw[['mrn', 'date', 'AV Peak Gradient', 'AV Mean Gradient', 'AV Peak Velocity', 'AV Area', 'source', 'OrderProcedureID']]\n",
    "\n",
    "edw[\"date\"] = pd.to_datetime(edw[\"date\"])\n",
    "\n",
    "edw.dropna(subset=[\"mrn\", \"date\", \"OrderProcedureID\"], inplace=True)"
   ]
  },
  {
   "cell_type": "code",
   "execution_count": null,
   "metadata": {},
   "outputs": [],
   "source": [
    "# Remove duplicate echos (by OrderProcedureID) within one source, keeping the later date\n",
    "epic = epic.sort_values('date')\n",
    "edw = edw.sort_values('date')\n",
    "\n",
    "epic = epic.drop_duplicates(['mrn', 'OrderProcedureID'], keep='last')\n",
    "edw = edw.drop_duplicates(['mrn', 'OrderProcedureID'], keep='last')\n",
    "\n",
    "# Combine Epic from Echo Lab and EDW data pull for further processing\n",
    "both = pd.concat([epic, edw]).reset_index(drop=True).sort_values('source')"
   ]
  },
  {
   "cell_type": "code",
   "execution_count": null,
   "metadata": {},
   "outputs": [],
   "source": [
    "dupe_mask = both.duplicated(['mrn', 'OrderProcedureID'], keep=False)\n",
    "\n",
    "# Get unique echos by OrderProcedureID\n",
    "truly_unique = both[~dupe_mask]\n",
    "\n",
    "# Gather dupes\n",
    "dupes = both[dupe_mask].sort_values('source')\n",
    "\n",
    "# Dedupe echos by taking unique OrderProcedureID and Gradient/Area measurements,\n",
    "# keeping the EDW version because its Velocity values are in m/s\n",
    "deduped = dupes.drop_duplicates(['mrn', 'OrderProcedureID', 'AV Peak Gradient', 'AV Mean Gradient', 'AV Area'], keep='first')"
   ]
  },
  {
   "cell_type": "code",
   "execution_count": null,
   "metadata": {},
   "outputs": [],
   "source": [
    "# This shows how many echos each source found that the other did not\n",
    "truly_unique['source'].value_counts()"
   ]
  },
  {
   "cell_type": "code",
   "execution_count": null,
   "metadata": {},
   "outputs": [],
   "source": [
    "# Merge all data sources\n",
    "merged = pd.concat([truly_unique, deduped, legacy]).reset_index(drop=True)"
   ]
  },
  {
   "cell_type": "code",
   "execution_count": null,
   "metadata": {},
   "outputs": [],
   "source": [
    "# Save merged data\n",
    "merged.to_csv(os.path.expanduser('~/dropbox/ecgnet-as/data/echo.csv'), index=False)"
   ]
  }
 ],
 "metadata": {
  "kernelspec": {
   "display_name": "Python 3",
   "language": "python",
   "name": "python3"
  },
  "language_info": {
   "codemirror_mode": {
    "name": "ipython",
    "version": 3
   },
   "file_extension": ".py",
   "mimetype": "text/x-python",
   "name": "python",
   "nbconvert_exporter": "python",
   "pygments_lexer": "ipython3",
   "version": "3.8.0"
  }
 },
 "nbformat": 4,
 "nbformat_minor": 4
}
