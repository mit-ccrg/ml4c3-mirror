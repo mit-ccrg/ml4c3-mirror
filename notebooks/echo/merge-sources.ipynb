{
 "cells": [
  {
   "cell_type": "code",
   "execution_count": null,
   "metadata": {},
   "outputs": [],
   "source": [
    "import os\n",
    "import sys\n",
    "import numpy as np\n",
    "import pandas as pd\n",
    "import matplotlib.pyplot as plt\n",
    "%matplotlib inline"
   ]
  },
  {
   "cell_type": "code",
   "execution_count": null,
   "metadata": {},
   "outputs": [],
   "source": [
    "echo = pd.read_csv(os.path.expanduser('~/dropbox/ecgnet-as/data/mgh-echo-lab/data.csv'))\n",
    "echo = echo[[\"mrn\", \"date\", \"AV Peak Gradient\", \"AV Mean Gradient\", \"AV Peak Velocity\", \"AV Area\", \"source\"]]\n",
    "echo[\"mrn\"] = echo[\"mrn\"].astype(int)\n",
    "echo[\"date\"] = pd.to_datetime(echo[\"date\"]).dt.date\n",
    "echo = echo.dropna(subset=[\"mrn\", \"date\"])\n",
    "print(f\"{len(echo)} Echos from Echo Lab\")"
   ]
  },
  {
   "cell_type": "code",
   "execution_count": null,
   "metadata": {},
   "outputs": [],
   "source": [
    "edw = pd.read_csv(os.path.expanduser('~/dropbox/ecgnet-as/data/edw/edw-echo-no-conversion.csv'))\n",
    "edw = edw[['mrn', 'date', 'AV Peak Gradient', 'AV Mean Gradient', 'AV Peak Velocity', 'AV Area']]\n",
    "edw['source'] = pd.Series('EDW').repeat(len(edw)).reset_index(drop=True)\n",
    "edw['mrn'] = edw['mrn'].astype(int)\n",
    "edw[\"date\"] = pd.to_datetime(edw[\"date\"]).dt.date\n",
    "edw = edw.dropna(subset=[\"mrn\", \"date\"])\n",
    "print(f\"{len(edw)} Echos from EDW\")"
   ]
  },
  {
   "cell_type": "code",
   "execution_count": null,
   "metadata": {},
   "outputs": [],
   "source": [
    "# skip patients with multiple echos on the same day\n",
    "# (cannot do datetime matching because the echo lab data lacks times)\n",
    "edw = edw.drop_duplicates(['mrn', 'date'], keep=False)\n",
    "echo = echo.drop_duplicates(['mrn', 'date'], keep=False)\n",
    "\n",
    "# keep Epic (from MGH Echo Lab) over EDW\n",
    "both = pd.concat([echo, edw]).reset_index(drop=True).sort_values('source')\n",
    "both = both.drop_duplicates(['mrn', 'date', 'AV Peak Gradient', 'AV Mean Gradient', 'AV Peak Velocity', 'AV Area'], keep='last')\n",
    "assert len(both[both.duplicated(['mrn', 'date'])]) == 0"
   ]
  },
  {
   "cell_type": "code",
   "execution_count": null,
   "metadata": {},
   "outputs": [],
   "source": [
    "both.to_csv(os.path.expanduser('~/dropbox/ecgnet-as/data/combined.csv'), index=False)"
   ]
  }
 ],
 "metadata": {
  "kernelspec": {
   "display_name": "Python 3",
   "language": "python",
   "name": "python3"
  },
  "language_info": {
   "codemirror_mode": {
    "name": "ipython",
    "version": 3
   },
   "file_extension": ".py",
   "mimetype": "text/x-python",
   "name": "python",
   "nbconvert_exporter": "python",
   "pygments_lexer": "ipython3",
   "version": "3.8.0"
  }
 },
 "nbformat": 4,
 "nbformat_minor": 4
}
