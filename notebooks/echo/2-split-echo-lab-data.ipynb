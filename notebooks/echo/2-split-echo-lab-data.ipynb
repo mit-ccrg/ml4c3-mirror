{
 "cells": [
  {
   "cell_type": "code",
   "execution_count": null,
   "metadata": {},
   "outputs": [],
   "source": [
    "import os\n",
    "import numpy as np\n",
    "import pandas as pd"
   ]
  },
  {
   "cell_type": "code",
   "execution_count": null,
   "metadata": {},
   "outputs": [],
   "source": [
    "# Load raw data\n",
    "legacy = pd.read_csv(os.path.expanduser('~/dropbox/ecgnet-as/data/mgh-echo-lab/raw-1.csv'), low_memory=False)\n",
    "epic = pd.read_csv(os.path.expanduser('~/dropbox/ecgnet-as/data/mgh-echo-lab/raw-2.csv'), low_memory=False)"
   ]
  },
  {
   "cell_type": "code",
   "execution_count": null,
   "metadata": {},
   "outputs": [],
   "source": [
    "# Split data based on source\n",
    "legacy = legacy[legacy['DataSource'] == 'Legacy']\n",
    "epic = epic[epic['DataSource'] == 'Epic']"
   ]
  },
  {
   "cell_type": "code",
   "execution_count": null,
   "metadata": {},
   "outputs": [],
   "source": [
    "# Check that ResultDTS is included for all Epic echos\n",
    "assert len(epic) == len(epic['ResultDTS'].dropna())"
   ]
  },
  {
   "cell_type": "code",
   "execution_count": null,
   "metadata": {},
   "outputs": [],
   "source": [
    "# Insert dummy column\n",
    "legacy['OrderID'] = np.nan"
   ]
  },
  {
   "cell_type": "code",
   "execution_count": null,
   "metadata": {},
   "outputs": [],
   "source": [
    "# Rename columns\n",
    "column_mapping = {\n",
    "    'MGH_MRN': 'mrn',\n",
    "    'AV_VPeakGradient': 'AV Peak Gradient',\n",
    "    'AV_MeanGradient': 'AV Mean Gradient',\n",
    "    'AV_PeakVelocity': 'AV Peak Velocity',\n",
    "    'AV_Area': 'AV Area',\n",
    "    'DataSource': 'source',\n",
    "    'OrderID': 'OrderProcedureID',\n",
    "}\n",
    "\n",
    "legacy_mapping = column_mapping.copy()\n",
    "epic_mapping = column_mapping.copy()\n",
    "\n",
    "legacy_mapping[\"EventDate\"] = \"date\"\n",
    "epic_mapping[\"ResultDTS\"] = \"date\"\n",
    "\n",
    "columns = list(epic_mapping.values())\n",
    "\n",
    "legacy = legacy.rename(columns=legacy_mapping)[columns]\n",
    "epic = epic.rename(columns=epic_mapping)[columns]"
   ]
  },
  {
   "cell_type": "code",
   "execution_count": null,
   "metadata": {},
   "outputs": [],
   "source": [
    "# Cleanup column\n",
    "epic['OrderProcedureID'] = epic['OrderProcedureID'].astype(int)\n",
    "\n",
    "legacy['date'] = pd.to_datetime(legacy['date'])\n",
    "epic['date'] = pd.to_datetime(epic['date'])"
   ]
  },
  {
   "cell_type": "code",
   "execution_count": null,
   "metadata": {},
   "outputs": [],
   "source": [
    "# Remove duplicate echos, keeping the later echo time\n",
    "\n",
    "legacy = legacy.sort_values('date')\n",
    "epic = epic.sort_values('date')\n",
    "\n",
    "legacy = legacy.drop_duplicates()\n",
    "epic = epic.drop_duplicates(['mrn', 'OrderProcedureID', 'AV Peak Gradient', 'AV Mean Gradient', 'AV Peak Velocity', 'AV Area'], keep='last')"
   ]
  },
  {
   "cell_type": "code",
   "execution_count": null,
   "metadata": {},
   "outputs": [],
   "source": [
    "# Check that there are no duplicate echos with different values\n",
    "assert len(epic) == len(epic.drop_duplicates(['mrn', 'OrderProcedureID']))"
   ]
  },
  {
   "cell_type": "code",
   "execution_count": null,
   "metadata": {},
   "outputs": [],
   "source": [
    "# Do not save nan (replace with empty string)\n",
    "legacy.fillna('', inplace=True)\n",
    "epic.fillna('', inplace=True)"
   ]
  },
  {
   "cell_type": "code",
   "execution_count": null,
   "metadata": {},
   "outputs": [],
   "source": [
    "# Save split data\n",
    "legacy.to_csv(os.path.expanduser('~/dropbox/ecgnet-as/data/mgh-echo-lab/legacy.csv'), index=False)\n",
    "epic.to_csv(os.path.expanduser('~/dropbox/ecgnet-as/data/mgh-echo-lab/epic.csv'), index=False)"
   ]
  }
 ],
 "metadata": {
  "kernelspec": {
   "display_name": "Python 3",
   "language": "python",
   "name": "python3"
  },
  "language_info": {
   "codemirror_mode": {
    "name": "ipython",
    "version": 3
   },
   "file_extension": ".py",
   "mimetype": "text/x-python",
   "name": "python",
   "nbconvert_exporter": "python",
   "pygments_lexer": "ipython3",
   "version": "3.8.0"
  }
 },
 "nbformat": 4,
 "nbformat_minor": 4
}
