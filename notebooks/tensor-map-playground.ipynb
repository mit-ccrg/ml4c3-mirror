{
 "cells": [
  {
   "cell_type": "markdown",
   "metadata": {},
   "source": [
    "## Imports"
   ]
  },
  {
   "cell_type": "code",
   "execution_count": null,
   "metadata": {},
   "outputs": [],
   "source": [
    "! pip install ~/ml4c3\n",
    "\n",
    "import os\n",
    "import h5py\n",
    "import socket\n",
    "import pprint\n",
    "import numpy as np\n",
    "import pandas as pd\n",
    "from tqdm import tqdm\n",
    "from typing import List, Union, Dict\n",
    "\n",
    "import seaborn as sns\n",
    "from matplotlib import pyplot as plt\n",
    "\n",
    "from ml4c3.datasets import train_valid_test_datasets\n",
    "from ml4c3.tensormap.TensorMap import TensorMap, update_tmaps\n",
    "from definitions.globals import TENSOR_EXT\n",
    "\n",
    "pp = pprint.PrettyPrinter(indent=4)\n",
    "\n",
    "%matplotlib inline"
   ]
  },
  {
   "cell_type": "markdown",
   "metadata": {},
   "source": [
    "## Define TMaps"
   ]
  },
  {
   "cell_type": "code",
   "execution_count": null,
   "metadata": {},
   "outputs": [],
   "source": [
    "needed_tensor_maps = [\n",
    "#     \"ecg_age\",\n",
    "#     \"av_mean_gradient_365_days_post_ecg_newest\",\n",
    "#     \"av_peak_gradient\",\n",
    "#     \"echo_datetime_365_days_pre_ecg\",\n",
    "#     \"ecg_datetime_365_days_pre_echo_newest\",\n",
    "#     \"ecg_age_365_days_pre_echo\",\n",
    "#     \"ecg_age_36500_days_pre_sts\",\n",
    "#     \"foobar\",\n",
    "]\n",
    "\n",
    "tmaps_all = {}\n",
    "tmaps = []\n",
    "for tmap_name in needed_tensor_maps:\n",
    "    tmaps_all = update_tmaps(tmap_name=tmap_name, tmaps=tmaps_all)\n",
    "    if tmap_name in tmaps_all:\n",
    "        print(f\"Successfully created tensor map {tmap_name} with shape {tmaps_all[tmap_name].shape}\")\n",
    "        tmaps.append(tmaps_all[tmap_name])\n",
    "    else:\n",
    "        print(f\"Could not create {tmap_name}!\")"
   ]
  },
  {
   "cell_type": "markdown",
   "metadata": {},
   "source": [
    "## Set paths to tensors"
   ]
  },
  {
   "cell_type": "code",
   "execution_count": null,
   "metadata": {},
   "outputs": [],
   "source": [
    "# List of either:\n",
    "# 1. String: Path to HD5-containing directory or CSV file\n",
    "# 2. Tuple: first element is string path to CSV file, second element is friendly name\n",
    "tensors = [\n",
    "#     \"/storage/shared/ecg/mgh-100-files\",\n",
    "#     (os.path.expanduser(\"~/dropbox/sts-data/sts-mgh.csv\"), \"sts\"),\n",
    "#     (os.path.expanduser(\"~/dropbox/ecgnet-as/data/edw/edw-echo.csv\"), \"echo\"),\n",
    "    (os.path.expanduser(\"~/dropbox/ecgnet-as/data/edw/edw-echo-tiny.csv\"), \"echo\"),\n",
    "]\n",
    "print(\"Set path to tensors\")"
   ]
  },
  {
   "cell_type": "markdown",
   "metadata": {},
   "source": [
    "## Generate datasets"
   ]
  },
  {
   "cell_type": "code",
   "execution_count": null,
   "metadata": {},
   "outputs": [],
   "source": [
    "batch_size = 32\n",
    "datasets, stats, cleanups = train_valid_test_datasets(\n",
    "    tensors=tensors,\n",
    "    tensor_maps_in=tmaps,\n",
    "    tensor_maps_out=[],\n",
    "    batch_size=batch_size,\n",
    "    num_workers=4,\n",
    "    valid_ratio=0,\n",
    "    test_ratio=0,\n",
    "    cache_off=True,\n",
    "    mixup_alpha=0,\n",
    "    allow_empty_split=True,\n",
    ")\n",
    "train_dataset, _, _ = datasets\n",
    "\n",
    "print(\"Created datasets\")"
   ]
  },
  {
   "cell_type": "markdown",
   "metadata": {},
   "source": [
    "## Iterate to get first batch of tensors"
   ]
  },
  {
   "cell_type": "code",
   "execution_count": null,
   "metadata": {},
   "outputs": [],
   "source": [
    "%%timeit -n 1 -r 1\n",
    "\n",
    "# batch is a tuple; the 1st element has input tensors, 2nd element has output tensors\n",
    "batch = next(iter(train_dataset))\n",
    "batch = batch[0]\n",
    "\n",
    "print(\"Obtained batch from one iteration of dataset\")\n",
    "\n",
    "for element in range(10):\n",
    "    print(f\"\\nSample {element+1}\")\n",
    "    for key, value in batch.items():\n",
    "        print(f\"\\tTensorMap: {key} / Value: {value[element]}\")\n",
    "        \n",
    "print('\\n')"
   ]
  }
 ],
 "metadata": {
  "kernelspec": {
   "display_name": "Python 3",
   "language": "python",
   "name": "python3"
  },
  "language_info": {
   "codemirror_mode": {
    "name": "ipython",
    "version": 3
   },
   "file_extension": ".py",
   "mimetype": "text/x-python",
   "name": "python",
   "nbconvert_exporter": "python",
   "pygments_lexer": "ipython3",
   "version": "3.8.0"
  }
 },
 "nbformat": 4,
 "nbformat_minor": 4
}
