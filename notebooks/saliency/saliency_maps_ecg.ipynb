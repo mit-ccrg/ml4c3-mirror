{
 "cells": [
  {
   "cell_type": "markdown",
   "metadata": {},
   "source": [
    "# ECG Saliency Maps"
   ]
  },
  {
   "cell_type": "code",
   "execution_count": null,
   "metadata": {},
   "outputs": [],
   "source": [
    "import os\n",
    "import sys\n",
    "import h5py\n",
    "import numpy as np\n",
    "import tensorflow as tf\n",
    "import matplotlib.pyplot as plt\n",
    "from matplotlib import cm\n",
    "from matplotlib.colors import ListedColormap\n",
    "from tensorflow.keras.losses import categorical_crossentropy\n",
    "from tensorflow.keras import backend as K\n",
    "from ml4cvd.arguments import parse_args\n",
    "from ml4cvd.models import make_multimodal_multitask_model\n",
    "from ml4cvd.tensor_generators import train_valid_test_tensor_generators\n",
    "from ml4cvd.definitions import ECG_REST_INDEPENDENT_LEADS\n",
    "from ml4cvd.tensor_maps_ecg import get_ecg_dates\n",
    "from ml4cvd.TensorMap import update_tmaps\n",
    "from biosppy.signals.ecg import ecg\n",
    "from scipy import ndimage\n",
    "\n",
    "%matplotlib widget"
   ]
  },
  {
   "cell_type": "code",
   "execution_count": null,
   "metadata": {},
   "outputs": [],
   "source": [
    "BOOTSTRAP = 0\n",
    "MODEL = \"v14\""
   ]
  },
  {
   "cell_type": "code",
   "execution_count": null,
   "metadata": {},
   "outputs": [],
   "source": [
    "sys.argv = f\"\"\"\n",
    ".\n",
    "--num_workers 1\n",
    "--tensors /data/ecg/mgh\n",
    "--train_csv {os.path.expanduser(f\"~/dropbox/sts-data/bootstraps/{BOOTSTRAP}/train.csv\")}\n",
    "--valid_csv {os.path.expanduser(f\"~/dropbox/sts-data/bootstraps/{BOOTSTRAP}/valid.csv\")}\n",
    "--test_csv {os.path.expanduser(f\"~/dropbox/sts-data/bootstraps/{BOOTSTRAP}/test.csv\")}\n",
    "--input_tensors\n",
    "    ecg_2500_std_sts_newest\n",
    "    ecg_age_std_sts_newest\n",
    "    ecg_sex_sts_newest\n",
    "--output_tensors\n",
    "    sts_death\n",
    "--batch_size 1\n",
    "--model_file {os.path.expanduser(f\"~/dropbox/sts-ecg/results/{MODEL}/{BOOTSTRAP}/model_weights.h5\")}\n",
    "--output_folder /tmp\n",
    "--id saliency\n",
    "\"\"\".split()\n",
    "args = parse_args()\n",
    "model = make_multimodal_multitask_model(**args.__dict__)\n",
    "generate_train, generate_valid, generate_test = train_valid_test_tensor_generators(**args.__dict__)"
   ]
  },
  {
   "cell_type": "code",
   "execution_count": null,
   "metadata": {},
   "outputs": [],
   "source": [
    "# Get data and gradients\n",
    "\n",
    "batch = next(generate_test)\n",
    "input_tensors, output_tensors, _, paths = batch\n",
    "\n",
    "it = {k: tf.Variable(v, dtype=float) for k, v in input_tensors.items()}\n",
    "\n",
    "with tf.GradientTape() as tape:\n",
    "    pred = model(it, training=False)\n",
    "    class_idxs_sorted = np.argsort(pred.numpy().flatten())[::-1]\n",
    "    loss = pred[0][class_idxs_sorted[0]]\n",
    "    \n",
    "grads = tape.gradient(loss, it)\n",
    "grads = {k: v / (K.sqrt(K.mean(K.square(v))) + 1e-6) for k, v in grads.items()}"
   ]
  },
  {
   "cell_type": "code",
   "execution_count": null,
   "metadata": {},
   "outputs": [],
   "source": [
    "tmaps = {}\n",
    "update_tmaps(\"ecg_datetime_sts_newest\", tmaps)\n",
    "tm = tmaps[\"ecg_datetime_sts_newest\"]"
   ]
  },
  {
   "cell_type": "code",
   "execution_count": null,
   "metadata": {},
   "outputs": [],
   "source": [
    "print(paths[0])\n",
    "with h5py.File(paths[0], \"r\") as hd5:\n",
    "    print(tm.tensor_from_file(tm, hd5))"
   ]
  },
  {
   "cell_type": "code",
   "execution_count": null,
   "metadata": {},
   "outputs": [],
   "source": [
    "# Cleanup data to voltage_tensor and voltage_gradient\n",
    "\n",
    "key = 'input_ecg_2500_std_sts_newest_continuous'\n",
    "voltage_tensor = input_tensors[key][0]\n",
    "voltage_gradient = grads[key][0].numpy()\n",
    "\n",
    "tm = [tm for tm in args.tensor_maps_in if tm.name == \"ecg_2500_std_sts_newest\"][0]\n",
    "voltage_tensor = tm.rescale(voltage_tensor) / 1000 # rescaled to microvolts, then millivolts"
   ]
  },
  {
   "cell_type": "markdown",
   "metadata": {},
   "source": [
    "## Plot saliency map for 10 second ECG leads"
   ]
  },
  {
   "cell_type": "code",
   "execution_count": null,
   "metadata": {},
   "outputs": [],
   "source": [
    "def plot_ecgs(tensor, gradient, lead_map=ECG_REST_INDEPENDENT_LEADS, hertz=250, y_max=2, blur=1, color_map=ListedColormap(cm.get_cmap(\"Blues\", 512)(np.linspace(0.0, 1, 256)))):\n",
    "    fig, ax = plt.subplots(len(lead_map), figsize=(10, 16))\n",
    "    for lead, index in lead_map.items():\n",
    "        lead_tensor = tensor[:, index]\n",
    "        lead_gradient = gradient[:, index]\n",
    "        ax[index].plot(lead_tensor, color='r')\n",
    "        g = np.tile(lead_gradient, (lead_tensor.shape[-1], 1))\n",
    "        g = ndimage.gaussian_filter(g, sigma=blur)\n",
    "        a = ax[index].imshow(g, cmap=color_map, aspect='auto', extent=[0, lead_tensor.shape[-1], -y_max, y_max])\n",
    "        ax[index].set_title(lead)\n",
    "        ax[index].set_ylabel('mV')\n",
    "        ax[index].set_ylim(-y_max, y_max)\n",
    "        cb = plt.colorbar(a, ax=ax[index])\n",
    "        cb.set_label('Salience')\n",
    "        cb.set_ticks([g.min(), g.max()])\n",
    "        cb.set_ticklabels(['Low', 'High'])\n",
    "    plt.tight_layout()\n",
    "    # plt.savefig(os.path.expanduser('~/saliency.png'))\n",
    "    plt.show()\n",
    "plot_ecgs(voltage_tensor, voltage_gradient)"
   ]
  },
  {
   "cell_type": "markdown",
   "metadata": {},
   "source": [
    "## Median waveform saliency plots below are a work in progress"
   ]
  },
  {
   "cell_type": "code",
   "execution_count": null,
   "metadata": {},
   "outputs": [],
   "source": [
    "def stretch_ecg(raw_voltage, raw_gradient, raw_sampling_rate, desired_hr):\n",
    "    \"\"\"\n",
    "    stretches input ECG and gradient to have the desired heart rate\n",
    "    \"\"\"\n",
    "    raw_features = ecg(raw_voltage, sampling_rate=raw_sampling_rate, show=False)\n",
    "    raw_hr = raw_features[-1].mean()\n",
    "    raw_time = np.arange(len(raw_voltage))\n",
    "    stretched_time = np.arange(len(raw_voltage)) * desired_hr / raw_hr\n",
    "    stretched_voltage = np.interp(stretched_time, raw_time, raw_voltage)\n",
    "    stretched_gradient = np.interp(stretched_time, raw_time, raw_gradient)\n",
    "    stretched_sampling_rate = raw_sampling_rate * desired_hr / raw_hr\n",
    "    stretched_features = ecg(\n",
    "        stretched_voltage,\n",
    "        sampling_rate=stretched_sampling_rate,\n",
    "        show=False,\n",
    "    )\n",
    "    stretched_peaks = stretched_features[2]\n",
    "    return stretched_voltage, stretched_gradient, stretched_peaks"
   ]
  },
  {
   "cell_type": "code",
   "execution_count": null,
   "metadata": {},
   "outputs": [],
   "source": [
    "def align_waves_and_gradients(\n",
    "    voltage_tensor,\n",
    "    voltage_gradient,\n",
    "    median_size=250,\n",
    "    use_median=True,\n",
    "    use_abs=False,\n",
    "    sampling_frequency=250,\n",
    "    bpm=60,\n",
    "):\n",
    "    \"\"\"\n",
    "    extracts the median waveform and gradient per lead\n",
    "    \"\"\"\n",
    "    median_waves = []\n",
    "    median_gradients = []\n",
    "    # get median voltage and gradients for all leads\n",
    "    for lead_voltage, lead_gradient in zip(voltage_tensor.T, voltage_gradient.T):\n",
    "        stretched_voltage, stretched_gradient, stretched_peaks = stretch_ecg(lead_voltage, lead_gradient, sampling_frequency, bpm)\n",
    "        lead_median_waves = []\n",
    "        lead_median_gradients = []\n",
    "        waves = []\n",
    "        gradients = []\n",
    "        # calculate median voltage and gradient for all peaks within a lead\n",
    "        for p0, p1, p2 in zip(stretched_peaks[:-2], stretched_peaks[1:-1], stretched_peaks[2:]):\n",
    "            start = (p0 + p1) // 2\n",
    "            end = p2\n",
    "            if end - start < 250:\n",
    "                continue\n",
    "\n",
    "            median_x = np.arange(median_size)\n",
    "            peak_x = np.arange(end - start)\n",
    "            peak_median_wave = np.interp(median_x, peak_x, stretched_voltage[start:end])\n",
    "            peak_median_gradient = np.interp(median_x, peak_x, stretched_gradient[start:end])\n",
    "            waves.append(peak_median_wave)\n",
    "            gradients.append(peak_median_gradient)\n",
    "\n",
    "        waves = np.array(waves)\n",
    "        waves -= np.mean(waves)\n",
    "        gradients = np.array(gradients)\n",
    "        if use_median:\n",
    "            waves = np.median(waves, axis=0)\n",
    "            gradients = np.median(gradients, axis=0)\n",
    "        else:\n",
    "            waves = np.mean(waves, axis=0)\n",
    "            gradients = np.mean(gradients, axis=0)                \n",
    "        if use_abs:\n",
    "            gradients = np.abs(gradients)\n",
    "\n",
    "        lead_median_waves.append(waves)  \n",
    "        lead_median_gradients.append(gradients)\n",
    "        median_waves.append(lead_median_waves)\n",
    "        median_gradients.append(lead_median_gradients)\n",
    "    return np.array(median_waves), np.array(median_gradients)"
   ]
  },
  {
   "cell_type": "code",
   "execution_count": null,
   "metadata": {},
   "outputs": [],
   "source": [
    "def plot_ecg_saliency(waves, grads, color_map, blur=1, lead_dictionary=ECG_REST_INDEPENDENT_LEADS, y_max=2):\n",
    "    fig, ax = plt.subplots(4, 2, figsize=(16, 10), sharex=True)\n",
    "    index2leads = {v: k for k, v in lead_dictionary.items()}\n",
    "    for i in range(len(waves)):\n",
    "        row, col = i % 4, i // 4\n",
    "        for w in waves[i]:\n",
    "            ax[row, col].plot(w, color='#E31A1C')\n",
    "            break\n",
    "        g = np.tile(grads[i], (waves.shape[-1], 1))\n",
    "        g = ndimage.gaussian_filter(g, sigma=blur)\n",
    "        a = ax[row, col].imshow(g, cmap=color_map, aspect='auto', extent=[0, waves.shape[-1], -y_max, y_max])\n",
    "        ax[row, col].set_title(index2leads[i])\n",
    "        ax[row, col].set_ylabel('mV')\n",
    "        ax[row, col].set_ylim(-y_max, y_max)\n",
    "        cb = plt.colorbar(a, ax=ax[row, col])\n",
    "        cb.set_label('Salience')\n",
    "        cb.set_ticks([g.min(), g.max()])\n",
    "        cb.set_ticklabels(['Low', 'High'])\n",
    "    plt.tight_layout()\n",
    "    plt.show()"
   ]
  },
  {
   "cell_type": "code",
   "execution_count": null,
   "metadata": {},
   "outputs": [],
   "source": [
    "waves, gradients = align_waves_and_gradients(voltage_tensor, voltage_gradient, use_median=True, use_abs=True)\n",
    "\n",
    "for blur in [1]:\n",
    "    for color_map in ['Blues']:\n",
    "        blues = cm.get_cmap(color_map, 512)\n",
    "        newcmp = ListedColormap(blues(np.linspace(0.0, 1, 256)))\n",
    "        plot_ecg_saliency(waves, gradients, color_map=newcmp, blur=blur)"
   ]
  }
 ],
 "metadata": {
  "kernelspec": {
   "display_name": "Python 3",
   "language": "python",
   "name": "python3"
  },
  "language_info": {
   "codemirror_mode": {
    "name": "ipython",
    "version": 3
   },
   "file_extension": ".py",
   "mimetype": "text/x-python",
   "name": "python",
   "nbconvert_exporter": "python",
   "pygments_lexer": "ipython3",
   "version": "3.6.9"
  }
 },
 "nbformat": 4,
 "nbformat_minor": 4
}
