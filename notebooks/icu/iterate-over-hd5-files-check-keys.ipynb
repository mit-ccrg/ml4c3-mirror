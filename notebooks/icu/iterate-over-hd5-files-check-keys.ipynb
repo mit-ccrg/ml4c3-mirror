{
 "cells": [
  {
   "cell_type": "code",
   "execution_count": null,
   "metadata": {},
   "outputs": [],
   "source": [
    "import os\n",
    "import h5py\n",
    "from tqdm import tqdm"
   ]
  },
  {
   "cell_type": "code",
   "execution_count": null,
   "metadata": {},
   "outputs": [],
   "source": [
    "def get_mrn(fpath: str) -> int:\n",
    "    fname = os.path.split(fpath)\n",
    "    mrn = fname[-1].replace(\".hd5\", \"\")\n",
    "    return int(mrn)"
   ]
  },
  {
   "cell_type": "code",
   "execution_count": null,
   "metadata": {},
   "outputs": [],
   "source": [
    "# Get paths to hd5 files on mad3\n",
    "hd5_file_paths = []\n",
    "dirpath = \"/media/ml4c3/hd5\"\n",
    "for root, dirs, files in os.walk(dirpath):\n",
    "    for file in tqdm(files):\n",
    "        if file.endswith(\".hd5\"):\n",
    "            fpath = os.path.join(root, file)\n",
    "            hd5_file_paths.append(fpath)"
   ]
  },
  {
   "cell_type": "code",
   "execution_count": null,
   "metadata": {},
   "outputs": [],
   "source": [
    "all_unique_keys = set()\n",
    "for fpath in tqdm(hd5_file_paths):\n",
    "    with h5py.File(fpath, 'r') as hf:\n",
    "        mrn = get_mrn(fpath)\n",
    "        encounters = list(hf['bedmaster'].keys())\n",
    "        encounter = encounters[0]\n",
    "        \n",
    "        for signal_type in [\"waveform\", \"vitals\"]:\n",
    "            if signal_type in hf['bedmaster'][encounter]:\n",
    "                keys = [k for k in hf['bedmaster'][encounter][signal_type].keys() if \"o2\" in k]\n",
    "        if len(keys) > 0:\n",
    "            all_unique_keys |= set(keys)"
   ]
  },
  {
   "cell_type": "code",
   "execution_count": null,
   "metadata": {},
   "outputs": [],
   "source": [
    "all_unique_keys"
   ]
  }
 ],
 "metadata": {
  "kernelspec": {
   "display_name": "Python 3",
   "language": "python",
   "name": "python3"
  },
  "language_info": {
   "codemirror_mode": {
    "name": "ipython",
    "version": 3
   },
   "file_extension": ".py",
   "mimetype": "text/x-python",
   "name": "python",
   "nbconvert_exporter": "python",
   "pygments_lexer": "ipython3",
   "version": "3.8.0"
  }
 },
 "nbformat": 4,
 "nbformat_minor": 4
}
