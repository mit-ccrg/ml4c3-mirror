{
 "cells": [
  {
   "cell_type": "code",
   "execution_count": null,
   "metadata": {},
   "outputs": [],
   "source": [
    "import os\n",
    "import h5py\n",
    "from tqdm import tqdm"
   ]
  },
  {
   "cell_type": "code",
   "execution_count": null,
   "metadata": {},
   "outputs": [],
   "source": [
    "def get_mrn(fpath: str) -> int:\n",
    "    fname = os.path.split(fpath)\n",
    "    mrn = fname[-1].replace(\".hd5\", \"\")\n",
    "    return int(mrn)"
   ]
  },
  {
   "cell_type": "code",
   "execution_count": null,
   "metadata": {},
   "outputs": [],
   "source": [
    "# Get paths to hd5 files on mad3\n",
    "hd5_file_paths = []\n",
    "dirpath = \"/media/ml4c3/hd5\"\n",
    "for root, dirs, files in os.walk(dirpath):\n",
    "    for file in tqdm(files):\n",
    "        if file.endswith(\".hd5\"):\n",
    "            fpath = os.path.join(root, file)\n",
    "            hd5_file_paths.append(fpath)"
   ]
  },
  {
   "cell_type": "code",
   "execution_count": null,
   "metadata": {},
   "outputs": [],
   "source": [
    "strings_to_find = [\"bt\"]"
   ]
  },
  {
   "cell_type": "code",
   "execution_count": null,
   "metadata": {},
   "outputs": [],
   "source": [
    "keys_all = []\n",
    "matches_all = []\n",
    "for fpath in tqdm(hd5_file_paths[0:3]):\n",
    "    with h5py.File(fpath, 'r') as hf:\n",
    "        mrn = get_mrn(fpath)\n",
    "        encounters = list(hf['bedmaster'].keys())\n",
    "        encounter = encounters[0]\n",
    "\n",
    "        for signal_type in [\"waveform\", \"vitals\"]:\n",
    "            if signal_type in hf['bedmaster'][encounter]:\n",
    "                keys_in_hd5 = hf['bedmaster'][encounter][signal_type].keys()\n",
    "                matches = [j for i in strings_to_find for j in keys_in_hd5 if i in j]\n",
    "                print(matches)\n",
    "                \n",
    "                if len(keys_in_hd5) > 0:\n",
    "                    keys_all.extend(list(keys_in_hd5))                      \n",
    "\n",
    "                if len(matches) > 0:\n",
    "                    matches_all.extend(matches)\n",
    "\n",
    "matches_all = set(matches_all)\n",
    "keys_all = set(keys_all)"
   ]
  },
  {
   "cell_type": "code",
   "execution_count": null,
   "metadata": {},
   "outputs": [],
   "source": [
    "matches_all"
   ]
  }
 ],
 "metadata": {
  "kernelspec": {
   "display_name": "Python 3",
   "language": "python",
   "name": "python3"
  },
  "language_info": {
   "codemirror_mode": {
    "name": "ipython",
    "version": 3
   },
   "file_extension": ".py",
   "mimetype": "text/x-python",
   "name": "python",
   "nbconvert_exporter": "python",
   "pygments_lexer": "ipython3",
   "version": "3.8.0"
  }
 },
 "nbformat": 4,
 "nbformat_minor": 4
}
