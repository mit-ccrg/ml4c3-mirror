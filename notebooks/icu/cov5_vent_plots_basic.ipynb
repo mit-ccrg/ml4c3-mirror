{
 "cells": [
  {
   "cell_type": "code",
   "execution_count": null,
   "metadata": {},
   "outputs": [],
   "source": [
    "import sys, glob, os\n",
    "import h5py\n",
    "import math\n",
    "import csv\n",
    "import numpy as np\n",
    "import pandas as pd\n",
    "import statistics as stat\n",
    "from datetime import datetime\n",
    "import matplotlib.pyplot as plt\n",
    "import matplotlib.dates as mdates\n",
    "import matplotlib.ticker as ticker\n",
    "from textwrap import wrap\n",
    "\n",
    "#from ml4c3.tensormap.TensorMap import update_tmaps\n",
    "# matplotlib widget"
   ]
  },
  {
   "cell_type": "code",
   "execution_count": null,
   "metadata": {},
   "outputs": [],
   "source": [
    "#data_dir = '/media/ml4c3/hd5_cov/'\n",
    "data_dir = '/home/ridwan/temp_hd5_data/'\n",
    "all_files = glob.glob(os.path.join(data_dir,\"*.hd5\"))\n",
    "len(all_files)"
   ]
  },
  {
   "cell_type": "code",
   "execution_count": null,
   "metadata": {},
   "outputs": [],
   "source": [
    "#vent_alarms = ['r_vent_alarm_peep_min', 'r_vent_alarm_press_max', 'r_vent_alarm_rr_max', 'r_vent_alarm_rr_min', 'r_vent_alarm_spo2_max']\n",
    "vent_sigs = ['r_vent_exp_tidal_volume', 'r_vent_map', 'r_vent_minute_ventilation',\\\n",
    "             'r_vent_peep','r_vent_plateau_pressure', 'r_vent_tidal_volume_set',\\\n",
    "             'r_vent_press_supp_set', 'r_vent_resp_rate_(set)', 'r_vent_pip_set','r_ventilator_on']"
   ]
  },
  {
   "cell_type": "code",
   "execution_count": null,
   "metadata": {},
   "outputs": [],
   "source": [
    "mode = 'edw'\n",
    "\n",
    "levels = ['flowsheet']\n",
    "\n",
    "vent_sig_names = {levels[0]:set(vent_sigs)}"
   ]
  },
  {
   "cell_type": "code",
   "execution_count": null,
   "metadata": {},
   "outputs": [],
   "source": [
    "plt.rcParams['figure.figsize'] = [10, 30]"
   ]
  },
  {
   "cell_type": "code",
   "execution_count": null,
   "metadata": {},
   "outputs": [],
   "source": [
    "k = 0\n",
    "\n",
    "for fpath in all_files:\n",
    "    \n",
    "    k = k + 1\n",
    "    # get mrn from filepath\n",
    "    mrn = fpath.split('/')[-1]\n",
    "    mrn = mrn.split('.')[0]\n",
    "    print( k, len(all_files))\n",
    "    \n",
    "    # read HD5 file\n",
    "    hd5file = h5py.File(fpath, 'r')\n",
    "    \n",
    "    file_modes = list(hd5file.keys())    \n",
    "    # mode = 'edw'\n",
    "    # for mode in file_modes:\n",
    "    if mode in file_modes:\n",
    "    \n",
    "        # how many csn for this file\n",
    "        csns = list(hd5file[mode].keys())\n",
    "        for csn in csns:\n",
    "            # print ('csn: '+ csn)\n",
    "            # mrn_csn_list.append((mrn,csn))\n",
    "            \n",
    "            level_sig_dur_hours = {}\n",
    "            \n",
    "            file_levels = list(hd5file[mode][csn].keys())\n",
    "            # levels = ['flowsheet']\n",
    "            for level in levels:\n",
    "                \n",
    "                if level in file_levels:\n",
    "                    group_name = '/'+ mode +'/'+ csn +'/'+ level\n",
    "                    # print ('level: '+ group_name)\n",
    "                    \n",
    "                    sig_names = list(set(hd5file[group_name].keys()) & set(vent_sig_names[level]))\n",
    "                    \n",
    "                    if len(sig_names)>0:\n",
    "                        \n",
    "                        sig_groups = [hd5file.get(group_name +'/'+ sig_name) for sig_name in sig_names]\n",
    "                        \n",
    "                        figfile_name = '/home/ridwan/myDrafts/figs_temp/' + mrn + '_' +csn + '_' +level +'_r_sig.png'\n",
    "                        fig,axs = plt.subplots(len(sig_names),1,sharex='all',squeeze=False)\n",
    "                        t = 0\n",
    "                        # all_sig_names[level].update(sig_list)\n",
    "                        xlim_min = datetime.now()\n",
    "                        xlim_max = datetime.utcfromtimestamp(1)\n",
    "                        \n",
    "                        for t in range(len(sig_names)):\n",
    "                            sig_group = sig_groups[t]\n",
    "                            sig_time = list(sig_group.get('time'))\n",
    "                            sig_value = list(sig_group.get('value'))\n",
    "                            sig_time_dttm = [datetime.utcfromtimestamp(temp_time) for temp_time in sig_time]\n",
    "                            \n",
    "                            xlim_min = min(xlim_min,min(sig_time_dttm))\n",
    "                            xlim_max = max(xlim_max,max(sig_time_dttm))\n",
    "                            \n",
    "                            axs[t,0].plot(sig_time_dttm,sig_value,'.')\n",
    "                            axs[t,0].set_xlim(xlim_min,xlim_max)\n",
    "                            axs[t,0].xaxis.set_major_locator(ticker.MultipleLocator(2))\n",
    "                            axs[t,0].set_ylabel('\\n'.join(wrap(sig_names[t], 10)))\n",
    "                        fig.autofmt_xdate()\n",
    "                        plt.savefig(figfile_name)\n",
    "                        plt.close()\n",
    "                        \n",
    "                    else:\n",
    "                        print('missed sig:' + mrn + '/' + group_name)\n",
    "                        \n",
    "                        \n",
    "##"
   ]
  }
 ],
 "metadata": {
  "kernelspec": {
   "display_name": "Python 3",
   "language": "python",
   "name": "python3"
  },
  "language_info": {
   "codemirror_mode": {
    "name": "ipython",
    "version": 3
   },
   "file_extension": ".py",
   "mimetype": "text/x-python",
   "name": "python",
   "nbconvert_exporter": "python",
   "pygments_lexer": "ipython3",
   "version": "3.8.0"
  }
 },
 "nbformat": 4,
 "nbformat_minor": 4
}
