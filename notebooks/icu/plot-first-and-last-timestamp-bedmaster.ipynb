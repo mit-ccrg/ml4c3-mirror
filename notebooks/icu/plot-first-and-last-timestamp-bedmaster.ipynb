{
 "cells": [
  {
   "cell_type": "code",
   "execution_count": null,
   "metadata": {},
   "outputs": [],
   "source": [
    "import os\n",
    "import matplotlib.dates as mdates\n",
    "import matplotlib.pyplot as plt\n",
    "import pandas as pd\n",
    "import numpy as np\n",
    "%matplotlib inline\n",
    "\n",
    "IMAGE_EXT = \".png\"\n",
    "\n",
    "import matplotlib.pyplot as plt\n",
    "plt.rcParams.update({'font.size': 20})"
   ]
  },
  {
   "cell_type": "code",
   "execution_count": null,
   "metadata": {},
   "outputs": [],
   "source": [
    "dirpath = \"/media/ml4c3/bedmaster_start_time_analysis\""
   ]
  },
  {
   "cell_type": "code",
   "execution_count": null,
   "metadata": {},
   "outputs": [],
   "source": [
    "times = dict()\n",
    "\n",
    "fpaths = []\n",
    "for root, dirs, files in os.walk(dirpath):\n",
    "    for fname in files:\n",
    "        if fname.endswith(\".csv\"):\n",
    "            fpath = os.path.join(root, fname)\n",
    "            fpaths.append(fpath)\n",
    "\n",
    "            floor = fpath.split(\"_\")[-1].replace(\".csv\", \"\")\n",
    "            df = pd.read_csv(fpath)\n",
    "            times[floor] = (\n",
    "                mdates.date2num(df[df.iloc[:, 0] == \"BM\"][\"First\"].values[0]),\n",
    "                mdates.date2num(df[df.iloc[:, 0] == \"BM\"][\"Last\"].values[0]),\n",
    "            )"
   ]
  },
  {
   "cell_type": "code",
   "execution_count": null,
   "metadata": {},
   "outputs": [],
   "source": [
    "df_start_end = pd.DataFrame(times).T\n",
    "df_start_end.columns = [\"start\", \"end\"]\n",
    "df_start_end"
   ]
  },
  {
   "cell_type": "code",
   "execution_count": null,
   "metadata": {},
   "outputs": [],
   "source": [
    "cycle = plt.rcParams['axes.prop_cycle'].by_key()['color']\n",
    "\n",
    "years = mdates.YearLocator()\n",
    "months = mdates.MonthLocator()\n",
    "monthsFmt = mdates.DateFormatter('%b') \n",
    "yearsFmt = mdates.DateFormatter('\\n\\n%Y')  # add some space for the year label\n",
    "\n",
    "fig, ax = plt.subplots(figsize=(20,4))\n",
    "for i, floor in enumerate(df_start_end.index):\n",
    "    start = df_start_end.iloc[i].start\n",
    "    end = df_start_end.iloc[i].end\n",
    "    length = end - start\n",
    "    bar_height = 0.75 # if this is 1.0, the bars vertically touch each other\n",
    "    ax.broken_barh([(start, length)], (i-bar_height/2, bar_height), color=cycle[i])\n",
    "\n",
    "\n",
    "# format axis and plot ticks\n",
    "ax.grid(True)\n",
    "ax.set_yticks(np.arange(0, df_start_end.shape[0]))\n",
    "ax.set_yticklabels(df_start_end.index.to_list())\n",
    "ax.xaxis.remove_overlapping_locs = False # https://github.com/tacaswell/matplotlib/commit/d3b948400500c4adbc9c88903913b1ec054358be\n",
    "ax.minorticks_on()\n",
    "ax.xaxis.set_minor_locator(months)\n",
    "ax.xaxis.set_minor_formatter(monthsFmt)\n",
    "plt.setp(ax.xaxis.get_minorticklabels(), rotation=90)\n",
    "ax.xaxis.set_major_locator(years)\n",
    "ax.xaxis.set_major_formatter(yearsFmt)\n",
    "\n",
    "# Crop \n",
    "left, right = plt.xlim()\n",
    "plt.xlim(left=left+50, right=right-50)\n",
    "\n",
    "plt.tight_layout()\n",
    "\n",
    "fpath = os.path.expanduser(f\"~/dropbox/ml4icu/metadata-and-qc/heart-center-bm-first-and-last-timestamps{IMAGE_EXT}\")\n",
    "plt.savefig(fpath, dpi=150)\n",
    "print(f\"Saved {fpath}\")"
   ]
  }
 ],
 "metadata": {
  "kernelspec": {
   "display_name": "Python 3",
   "language": "python",
   "name": "python3"
  },
  "language_info": {
   "codemirror_mode": {
    "name": "ipython",
    "version": 3
   },
   "file_extension": ".py",
   "mimetype": "text/x-python",
   "name": "python",
   "nbconvert_exporter": "python",
   "pygments_lexer": "ipython3",
   "version": "3.8.0"
  }
 },
 "nbformat": 4,
 "nbformat_minor": 4
}
