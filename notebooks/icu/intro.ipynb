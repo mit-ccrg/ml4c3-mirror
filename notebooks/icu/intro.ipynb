{
 "cells": [
  {
   "cell_type": "code",
   "execution_count": null,
   "metadata": {},
   "outputs": [],
   "source": [
    "import h5py\n",
    "from ml4c3.tensormap.TensorMap import update_tmaps"
   ]
  },
  {
   "cell_type": "markdown",
   "metadata": {},
   "source": [
    "Replace the dummy path below (FILE constant) by the actual path of the hd5 file that you want to extract the arrays from. \n",
    "\n",
    "Also you have to write the name of the tmaps. I have written those two as an example: \n",
    "* i_timeseries: returns the time series of the ecg lead I (a Bedmaster waveform). For the lead II, it would be ii_timeseries, and so on.\n",
    "* art1_timeseries: returns the timeseries of the arterial pressures (a Bedmaster waveform too).\n",
    "You have many other tmaps, for instance for the same signals you could extract: *i_sample_freq*, *i_units*, *i_scale_factor*\n",
    "Also you have much more signals. You can get the vitalsigns derived from the art1 waveform: *art1d_timeseries* (diastolic value), *art1s_timeseries* (systolic), *art1m_timeseries* (mean). "
   ]
  },
  {
   "cell_type": "code",
   "execution_count": null,
   "metadata": {},
   "outputs": [],
   "source": [
    "FILE = \"data/000000.hd5\" # Enter the path to a file here\n",
    "TMAPS = [\"i_timeseries\", \"art1_timeseries\"]"
   ]
  },
  {
   "cell_type": "markdown",
   "metadata": {},
   "source": [
    "First, we load the tmaps that we want"
   ]
  },
  {
   "cell_type": "code",
   "execution_count": null,
   "metadata": {},
   "outputs": [],
   "source": [
    "\n",
    "tmaps_dict = {}\n",
    "for tmap_name in TMAPS:\n",
    "    tmaps_dict = update_tmaps(tmap_name, tmaps_dict)\n"
   ]
  },
  {
   "cell_type": "markdown",
   "metadata": {},
   "source": [
    "As you can see, now `tmaps_dict` has loaded the desired tmaps:"
   ]
  },
  {
   "cell_type": "code",
   "execution_count": null,
   "metadata": {},
   "outputs": [],
   "source": [
    "tmaps_dict"
   ]
  },
  {
   "cell_type": "markdown",
   "metadata": {},
   "source": [
    "Now to get the arrays on one file you just have to do:"
   ]
  },
  {
   "cell_type": "code",
   "execution_count": null,
   "metadata": {},
   "outputs": [],
   "source": [
    "with h5py.File(FILE, \"r\") as hd5:\n",
    "    # Extract lead I\n",
    "    ecgi_tmap = tmaps_dict[\"i_timeseries\"]\n",
    "    ecgi_timeseries = ecgi_tmap.tensor_from_file(ecgi_tmap, hd5, interpolation=\"complete_no_nans\")\n",
    "    \n",
    "    # Extract art\n",
    "    art_tmap = tmaps_dict[\"art1_timeseries\"]\n",
    "    art_timeseries = art_tmap.tensor_from_file(art_tmap, hd5, interpolation=\"complete_no_nans\")"
   ]
  },
  {
   "cell_type": "markdown",
   "metadata": {},
   "source": [
    "The resulting array has the following shape: (n_visits, 2, n_points), where the second dimension has the values on index 0 and the timespans on index 1. Each file corresponds to an MRN so a patient could have multiple visits and ECGs could have been extracted in different visits. That's the meaning of the first dimension."
   ]
  },
  {
   "cell_type": "code",
   "execution_count": null,
   "metadata": {},
   "outputs": [],
   "source": [
    "ecgi_timeseries.shape"
   ]
  },
  {
   "cell_type": "markdown",
   "metadata": {},
   "source": [
    "So for example, to get the values and the timespans for the first visit of that ecg:"
   ]
  },
  {
   "cell_type": "code",
   "execution_count": null,
   "metadata": {},
   "outputs": [],
   "source": [
    "ecgi_values = ecgi_timeseries[0][0]\n",
    "ecgi_time = ecgi_timeseries[0][1]"
   ]
  }
 ],
 "metadata": {
  "kernelspec": {
   "display_name": "Python 3",
   "language": "python",
   "name": "python3"
  },
  "language_info": {
   "codemirror_mode": {
    "name": "ipython",
    "version": 3
   },
   "file_extension": ".py",
   "mimetype": "text/x-python",
   "name": "python",
   "nbconvert_exporter": "python",
   "pygments_lexer": "ipython3",
   "version": "3.8.0"
  }
 },
 "nbformat": 4,
 "nbformat_minor": 4
}
